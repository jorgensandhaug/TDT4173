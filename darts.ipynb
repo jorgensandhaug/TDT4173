{
 "cells": [
  {
   "cell_type": "markdown",
   "metadata": {},
   "source": [
    "# Exploring darts library"
   ]
  },
  {
   "cell_type": "markdown",
   "metadata": {},
   "source": []
  },
  {
   "cell_type": "code",
   "execution_count": 161,
   "metadata": {},
   "outputs": [
    {
     "data": {
      "text/html": [
       "<div><svg style=\"position: absolute; width: 0; height: 0; overflow: hidden\">\n",
       "<defs>\n",
       "<symbol id=\"icon-database\" viewBox=\"0 0 32 32\">\n",
       "<path d=\"M16 0c-8.837 0-16 2.239-16 5v4c0 2.761 7.163 5 16 5s16-2.239 16-5v-4c0-2.761-7.163-5-16-5z\"></path>\n",
       "<path d=\"M16 17c-8.837 0-16-2.239-16-5v6c0 2.761 7.163 5 16 5s16-2.239 16-5v-6c0 2.761-7.163 5-16 5z\"></path>\n",
       "<path d=\"M16 26c-8.837 0-16-2.239-16-5v6c0 2.761 7.163 5 16 5s16-2.239 16-5v-6c0 2.761-7.163 5-16 5z\"></path>\n",
       "</symbol>\n",
       "<symbol id=\"icon-file-text2\" viewBox=\"0 0 32 32\">\n",
       "<path d=\"M28.681 7.159c-0.694-0.947-1.662-2.053-2.724-3.116s-2.169-2.030-3.116-2.724c-1.612-1.182-2.393-1.319-2.841-1.319h-15.5c-1.378 0-2.5 1.121-2.5 2.5v27c0 1.378 1.122 2.5 2.5 2.5h23c1.378 0 2.5-1.122 2.5-2.5v-19.5c0-0.448-0.137-1.23-1.319-2.841zM24.543 5.457c0.959 0.959 1.712 1.825 2.268 2.543h-4.811v-4.811c0.718 0.556 1.584 1.309 2.543 2.268zM28 29.5c0 0.271-0.229 0.5-0.5 0.5h-23c-0.271 0-0.5-0.229-0.5-0.5v-27c0-0.271 0.229-0.5 0.5-0.5 0 0 15.499-0 15.5 0v7c0 0.552 0.448 1 1 1h7v19.5z\"></path>\n",
       "<path d=\"M23 26h-14c-0.552 0-1-0.448-1-1s0.448-1 1-1h14c0.552 0 1 0.448 1 1s-0.448 1-1 1z\"></path>\n",
       "<path d=\"M23 22h-14c-0.552 0-1-0.448-1-1s0.448-1 1-1h14c0.552 0 1 0.448 1 1s-0.448 1-1 1z\"></path>\n",
       "<path d=\"M23 18h-14c-0.552 0-1-0.448-1-1s0.448-1 1-1h14c0.552 0 1 0.448 1 1s-0.448 1-1 1z\"></path>\n",
       "</symbol>\n",
       "</defs>\n",
       "</svg>\n",
       "<style>/* CSS stylesheet for displaying xarray objects in jupyterlab.\n",
       " *\n",
       " */\n",
       "\n",
       ":root {\n",
       "  --xr-font-color0: var(--jp-content-font-color0, rgba(0, 0, 0, 1));\n",
       "  --xr-font-color2: var(--jp-content-font-color2, rgba(0, 0, 0, 0.54));\n",
       "  --xr-font-color3: var(--jp-content-font-color3, rgba(0, 0, 0, 0.38));\n",
       "  --xr-border-color: var(--jp-border-color2, #e0e0e0);\n",
       "  --xr-disabled-color: var(--jp-layout-color3, #bdbdbd);\n",
       "  --xr-background-color: var(--jp-layout-color0, white);\n",
       "  --xr-background-color-row-even: var(--jp-layout-color1, white);\n",
       "  --xr-background-color-row-odd: var(--jp-layout-color2, #eeeeee);\n",
       "}\n",
       "\n",
       "html[theme=dark],\n",
       "body[data-theme=dark],\n",
       "body.vscode-dark {\n",
       "  --xr-font-color0: rgba(255, 255, 255, 1);\n",
       "  --xr-font-color2: rgba(255, 255, 255, 0.54);\n",
       "  --xr-font-color3: rgba(255, 255, 255, 0.38);\n",
       "  --xr-border-color: #1F1F1F;\n",
       "  --xr-disabled-color: #515151;\n",
       "  --xr-background-color: #111111;\n",
       "  --xr-background-color-row-even: #111111;\n",
       "  --xr-background-color-row-odd: #313131;\n",
       "}\n",
       "\n",
       ".xr-wrap {\n",
       "  display: block !important;\n",
       "  min-width: 300px;\n",
       "  max-width: 700px;\n",
       "}\n",
       "\n",
       ".xr-text-repr-fallback {\n",
       "  /* fallback to plain text repr when CSS is not injected (untrusted notebook) */\n",
       "  display: none;\n",
       "}\n",
       "\n",
       ".xr-header {\n",
       "  padding-top: 6px;\n",
       "  padding-bottom: 6px;\n",
       "  margin-bottom: 4px;\n",
       "  border-bottom: solid 1px var(--xr-border-color);\n",
       "}\n",
       "\n",
       ".xr-header > div,\n",
       ".xr-header > ul {\n",
       "  display: inline;\n",
       "  margin-top: 0;\n",
       "  margin-bottom: 0;\n",
       "}\n",
       "\n",
       ".xr-obj-type,\n",
       ".xr-array-name {\n",
       "  margin-left: 2px;\n",
       "  margin-right: 10px;\n",
       "}\n",
       "\n",
       ".xr-obj-type {\n",
       "  color: var(--xr-font-color2);\n",
       "}\n",
       "\n",
       ".xr-sections {\n",
       "  padding-left: 0 !important;\n",
       "  display: grid;\n",
       "  grid-template-columns: 150px auto auto 1fr 20px 20px;\n",
       "}\n",
       "\n",
       ".xr-section-item {\n",
       "  display: contents;\n",
       "}\n",
       "\n",
       ".xr-section-item input {\n",
       "  display: none;\n",
       "}\n",
       "\n",
       ".xr-section-item input + label {\n",
       "  color: var(--xr-disabled-color);\n",
       "}\n",
       "\n",
       ".xr-section-item input:enabled + label {\n",
       "  cursor: pointer;\n",
       "  color: var(--xr-font-color2);\n",
       "}\n",
       "\n",
       ".xr-section-item input:enabled + label:hover {\n",
       "  color: var(--xr-font-color0);\n",
       "}\n",
       "\n",
       ".xr-section-summary {\n",
       "  grid-column: 1;\n",
       "  color: var(--xr-font-color2);\n",
       "  font-weight: 500;\n",
       "}\n",
       "\n",
       ".xr-section-summary > span {\n",
       "  display: inline-block;\n",
       "  padding-left: 0.5em;\n",
       "}\n",
       "\n",
       ".xr-section-summary-in:disabled + label {\n",
       "  color: var(--xr-font-color2);\n",
       "}\n",
       "\n",
       ".xr-section-summary-in + label:before {\n",
       "  display: inline-block;\n",
       "  content: '►';\n",
       "  font-size: 11px;\n",
       "  width: 15px;\n",
       "  text-align: center;\n",
       "}\n",
       "\n",
       ".xr-section-summary-in:disabled + label:before {\n",
       "  color: var(--xr-disabled-color);\n",
       "}\n",
       "\n",
       ".xr-section-summary-in:checked + label:before {\n",
       "  content: '▼';\n",
       "}\n",
       "\n",
       ".xr-section-summary-in:checked + label > span {\n",
       "  display: none;\n",
       "}\n",
       "\n",
       ".xr-section-summary,\n",
       ".xr-section-inline-details {\n",
       "  padding-top: 4px;\n",
       "  padding-bottom: 4px;\n",
       "}\n",
       "\n",
       ".xr-section-inline-details {\n",
       "  grid-column: 2 / -1;\n",
       "}\n",
       "\n",
       ".xr-section-details {\n",
       "  display: none;\n",
       "  grid-column: 1 / -1;\n",
       "  margin-bottom: 5px;\n",
       "}\n",
       "\n",
       ".xr-section-summary-in:checked ~ .xr-section-details {\n",
       "  display: contents;\n",
       "}\n",
       "\n",
       ".xr-array-wrap {\n",
       "  grid-column: 1 / -1;\n",
       "  display: grid;\n",
       "  grid-template-columns: 20px auto;\n",
       "}\n",
       "\n",
       ".xr-array-wrap > label {\n",
       "  grid-column: 1;\n",
       "  vertical-align: top;\n",
       "}\n",
       "\n",
       ".xr-preview {\n",
       "  color: var(--xr-font-color3);\n",
       "}\n",
       "\n",
       ".xr-array-preview,\n",
       ".xr-array-data {\n",
       "  padding: 0 5px !important;\n",
       "  grid-column: 2;\n",
       "}\n",
       "\n",
       ".xr-array-data,\n",
       ".xr-array-in:checked ~ .xr-array-preview {\n",
       "  display: none;\n",
       "}\n",
       "\n",
       ".xr-array-in:checked ~ .xr-array-data,\n",
       ".xr-array-preview {\n",
       "  display: inline-block;\n",
       "}\n",
       "\n",
       ".xr-dim-list {\n",
       "  display: inline-block !important;\n",
       "  list-style: none;\n",
       "  padding: 0 !important;\n",
       "  margin: 0;\n",
       "}\n",
       "\n",
       ".xr-dim-list li {\n",
       "  display: inline-block;\n",
       "  padding: 0;\n",
       "  margin: 0;\n",
       "}\n",
       "\n",
       ".xr-dim-list:before {\n",
       "  content: '(';\n",
       "}\n",
       "\n",
       ".xr-dim-list:after {\n",
       "  content: ')';\n",
       "}\n",
       "\n",
       ".xr-dim-list li:not(:last-child):after {\n",
       "  content: ',';\n",
       "  padding-right: 5px;\n",
       "}\n",
       "\n",
       ".xr-has-index {\n",
       "  font-weight: bold;\n",
       "}\n",
       "\n",
       ".xr-var-list,\n",
       ".xr-var-item {\n",
       "  display: contents;\n",
       "}\n",
       "\n",
       ".xr-var-item > div,\n",
       ".xr-var-item label,\n",
       ".xr-var-item > .xr-var-name span {\n",
       "  background-color: var(--xr-background-color-row-even);\n",
       "  margin-bottom: 0;\n",
       "}\n",
       "\n",
       ".xr-var-item > .xr-var-name:hover span {\n",
       "  padding-right: 5px;\n",
       "}\n",
       "\n",
       ".xr-var-list > li:nth-child(odd) > div,\n",
       ".xr-var-list > li:nth-child(odd) > label,\n",
       ".xr-var-list > li:nth-child(odd) > .xr-var-name span {\n",
       "  background-color: var(--xr-background-color-row-odd);\n",
       "}\n",
       "\n",
       ".xr-var-name {\n",
       "  grid-column: 1;\n",
       "}\n",
       "\n",
       ".xr-var-dims {\n",
       "  grid-column: 2;\n",
       "}\n",
       "\n",
       ".xr-var-dtype {\n",
       "  grid-column: 3;\n",
       "  text-align: right;\n",
       "  color: var(--xr-font-color2);\n",
       "}\n",
       "\n",
       ".xr-var-preview {\n",
       "  grid-column: 4;\n",
       "}\n",
       "\n",
       ".xr-index-preview {\n",
       "  grid-column: 2 / 5;\n",
       "  color: var(--xr-font-color2);\n",
       "}\n",
       "\n",
       ".xr-var-name,\n",
       ".xr-var-dims,\n",
       ".xr-var-dtype,\n",
       ".xr-preview,\n",
       ".xr-attrs dt {\n",
       "  white-space: nowrap;\n",
       "  overflow: hidden;\n",
       "  text-overflow: ellipsis;\n",
       "  padding-right: 10px;\n",
       "}\n",
       "\n",
       ".xr-var-name:hover,\n",
       ".xr-var-dims:hover,\n",
       ".xr-var-dtype:hover,\n",
       ".xr-attrs dt:hover {\n",
       "  overflow: visible;\n",
       "  width: auto;\n",
       "  z-index: 1;\n",
       "}\n",
       "\n",
       ".xr-var-attrs,\n",
       ".xr-var-data,\n",
       ".xr-index-data {\n",
       "  display: none;\n",
       "  background-color: var(--xr-background-color) !important;\n",
       "  padding-bottom: 5px !important;\n",
       "}\n",
       "\n",
       ".xr-var-attrs-in:checked ~ .xr-var-attrs,\n",
       ".xr-var-data-in:checked ~ .xr-var-data,\n",
       ".xr-index-data-in:checked ~ .xr-index-data {\n",
       "  display: block;\n",
       "}\n",
       "\n",
       ".xr-var-data > table {\n",
       "  float: right;\n",
       "}\n",
       "\n",
       ".xr-var-name span,\n",
       ".xr-var-data,\n",
       ".xr-index-name div,\n",
       ".xr-index-data,\n",
       ".xr-attrs {\n",
       "  padding-left: 25px !important;\n",
       "}\n",
       "\n",
       ".xr-attrs,\n",
       ".xr-var-attrs,\n",
       ".xr-var-data,\n",
       ".xr-index-data {\n",
       "  grid-column: 1 / -1;\n",
       "}\n",
       "\n",
       "dl.xr-attrs {\n",
       "  padding: 0;\n",
       "  margin: 0;\n",
       "  display: grid;\n",
       "  grid-template-columns: 125px auto;\n",
       "}\n",
       "\n",
       ".xr-attrs dt,\n",
       ".xr-attrs dd {\n",
       "  padding: 0;\n",
       "  margin: 0;\n",
       "  float: left;\n",
       "  padding-right: 10px;\n",
       "  width: auto;\n",
       "}\n",
       "\n",
       ".xr-attrs dt {\n",
       "  font-weight: normal;\n",
       "  grid-column: 1;\n",
       "}\n",
       "\n",
       ".xr-attrs dt:hover span {\n",
       "  display: inline-block;\n",
       "  background: var(--xr-background-color);\n",
       "  padding-right: 10px;\n",
       "}\n",
       "\n",
       ".xr-attrs dd {\n",
       "  grid-column: 2;\n",
       "  white-space: pre-wrap;\n",
       "  word-break: break-all;\n",
       "}\n",
       "\n",
       ".xr-icon-database,\n",
       ".xr-icon-file-text2,\n",
       ".xr-no-icon {\n",
       "  display: inline-block;\n",
       "  vertical-align: middle;\n",
       "  width: 1em;\n",
       "  height: 1.5em !important;\n",
       "  stroke-width: 0;\n",
       "  stroke: currentColor;\n",
       "  fill: currentColor;\n",
       "}\n",
       "</style><pre class='xr-text-repr-fallback'>&lt;TimeSeries (DataArray) (ds: 34274, component: 47, sample: 1)&gt;\n",
       "array([[[7.69999981e+00],\n",
       "        [1.22825003e+00],\n",
       "        [1.72894995e+03],\n",
       "        ...,\n",
       "        [0.00000000e+00],\n",
       "        [0.00000000e+00],\n",
       "        [0.00000000e+00]],\n",
       "\n",
       "       [[7.69999981e+00],\n",
       "        [1.22350001e+00],\n",
       "        [1.68982495e+03],\n",
       "        ...,\n",
       "        [0.00000000e+00],\n",
       "        [0.00000000e+00],\n",
       "        [0.00000000e+00]],\n",
       "\n",
       "       [[7.87500000e+00],\n",
       "        [1.21974993e+00],\n",
       "        [1.56322498e+03],\n",
       "        ...,\n",
       "...\n",
       "        ...,\n",
       "        [0.00000000e+00],\n",
       "        [1.38145000e+05],\n",
       "        [0.00000000e+00]],\n",
       "\n",
       "       [[4.50000000e+00],\n",
       "        [1.28100002e+00],\n",
       "        [1.35340002e+03],\n",
       "        ...,\n",
       "        [0.00000000e+00],\n",
       "        [1.41745000e+05],\n",
       "        [0.00000000e+00]],\n",
       "\n",
       "       [[4.50000000e+00],\n",
       "        [1.28100002e+00],\n",
       "        [1.62657495e+03],\n",
       "        ...,\n",
       "        [0.00000000e+00],\n",
       "        [1.45345000e+05],\n",
       "        [0.00000000e+00]]])\n",
       "Coordinates:\n",
       "  * ds         (ds) datetime64[ns] 2019-06-02T22:00:00 ... 2023-04-30T23:00:00\n",
       "  * component  (component) object &#x27;absolute_humidity_2m:gm3&#x27; ... &#x27;y&#x27;\n",
       "Dimensions without coordinates: sample\n",
       "Attributes:\n",
       "    static_covariates:  static_covariates  location\\nglobal_components       0.0\n",
       "    hierarchy:          None</pre><div class='xr-wrap' style='display:none'><div class='xr-header'><div class='xr-obj-type'>TimeSeries (DataArray)</div><div class='xr-array-name'></div><ul class='xr-dim-list'><li><span class='xr-has-index'>ds</span>: 34274</li><li><span class='xr-has-index'>component</span>: 47</li><li><span>sample</span>: 1</li></ul></div><ul class='xr-sections'><li class='xr-section-item'><div class='xr-array-wrap'><input id='section-f6235924-faaf-499a-929b-451db5dda139' class='xr-array-in' type='checkbox' checked><label for='section-f6235924-faaf-499a-929b-451db5dda139' title='Show/hide data repr'><svg class='icon xr-icon-database'><use xlink:href='#icon-database'></use></svg></label><div class='xr-array-preview xr-preview'><span>7.7 1.228 1.729e+03 0.0 0.0 1.729e+03 ... 2.725 2.55 0.0 1.453e+05 0.0</span></div><div class='xr-array-data'><pre>array([[[7.69999981e+00],\n",
       "        [1.22825003e+00],\n",
       "        [1.72894995e+03],\n",
       "        ...,\n",
       "        [0.00000000e+00],\n",
       "        [0.00000000e+00],\n",
       "        [0.00000000e+00]],\n",
       "\n",
       "       [[7.69999981e+00],\n",
       "        [1.22350001e+00],\n",
       "        [1.68982495e+03],\n",
       "        ...,\n",
       "        [0.00000000e+00],\n",
       "        [0.00000000e+00],\n",
       "        [0.00000000e+00]],\n",
       "\n",
       "       [[7.87500000e+00],\n",
       "        [1.21974993e+00],\n",
       "        [1.56322498e+03],\n",
       "        ...,\n",
       "...\n",
       "        ...,\n",
       "        [0.00000000e+00],\n",
       "        [1.38145000e+05],\n",
       "        [0.00000000e+00]],\n",
       "\n",
       "       [[4.50000000e+00],\n",
       "        [1.28100002e+00],\n",
       "        [1.35340002e+03],\n",
       "        ...,\n",
       "        [0.00000000e+00],\n",
       "        [1.41745000e+05],\n",
       "        [0.00000000e+00]],\n",
       "\n",
       "       [[4.50000000e+00],\n",
       "        [1.28100002e+00],\n",
       "        [1.62657495e+03],\n",
       "        ...,\n",
       "        [0.00000000e+00],\n",
       "        [1.45345000e+05],\n",
       "        [0.00000000e+00]]])</pre></div></div></li><li class='xr-section-item'><input id='section-d6aa8b06-3a10-4464-8943-dbf565156e07' class='xr-section-summary-in' type='checkbox'  checked><label for='section-d6aa8b06-3a10-4464-8943-dbf565156e07' class='xr-section-summary' >Coordinates: <span>(2)</span></label><div class='xr-section-inline-details'></div><div class='xr-section-details'><ul class='xr-var-list'><li class='xr-var-item'><div class='xr-var-name'><span class='xr-has-index'>ds</span></div><div class='xr-var-dims'>(ds)</div><div class='xr-var-dtype'>datetime64[ns]</div><div class='xr-var-preview xr-preview'>2019-06-02T22:00:00 ... 2023-04-...</div><input id='attrs-5be2e021-d25b-47b6-99cb-6740d6a163e9' class='xr-var-attrs-in' type='checkbox' disabled><label for='attrs-5be2e021-d25b-47b6-99cb-6740d6a163e9' title='Show/Hide attributes'><svg class='icon xr-icon-file-text2'><use xlink:href='#icon-file-text2'></use></svg></label><input id='data-7d3b09a9-4ed0-4212-9b9d-5edae136da81' class='xr-var-data-in' type='checkbox'><label for='data-7d3b09a9-4ed0-4212-9b9d-5edae136da81' title='Show/Hide data repr'><svg class='icon xr-icon-database'><use xlink:href='#icon-database'></use></svg></label><div class='xr-var-attrs'><dl class='xr-attrs'></dl></div><div class='xr-var-data'><pre>array([&#x27;2019-06-02T22:00:00.000000000&#x27;, &#x27;2019-06-02T23:00:00.000000000&#x27;,\n",
       "       &#x27;2019-06-03T00:00:00.000000000&#x27;, ..., &#x27;2023-04-30T21:00:00.000000000&#x27;,\n",
       "       &#x27;2023-04-30T22:00:00.000000000&#x27;, &#x27;2023-04-30T23:00:00.000000000&#x27;],\n",
       "      dtype=&#x27;datetime64[ns]&#x27;)</pre></div></li><li class='xr-var-item'><div class='xr-var-name'><span class='xr-has-index'>component</span></div><div class='xr-var-dims'>(component)</div><div class='xr-var-dtype'>object</div><div class='xr-var-preview xr-preview'>&#x27;absolute_humidity_2m:gm3&#x27; ... &#x27;y&#x27;</div><input id='attrs-579624da-4b4e-4484-ad41-1ad5a92a1679' class='xr-var-attrs-in' type='checkbox' disabled><label for='attrs-579624da-4b4e-4484-ad41-1ad5a92a1679' title='Show/Hide attributes'><svg class='icon xr-icon-file-text2'><use xlink:href='#icon-file-text2'></use></svg></label><input id='data-01f1c16b-3ae9-4f36-bad5-c457f09a7237' class='xr-var-data-in' type='checkbox'><label for='data-01f1c16b-3ae9-4f36-bad5-c457f09a7237' title='Show/Hide data repr'><svg class='icon xr-icon-database'><use xlink:href='#icon-database'></use></svg></label><div class='xr-var-attrs'><dl class='xr-attrs'></dl></div><div class='xr-var-data'><pre>array([&#x27;absolute_humidity_2m:gm3&#x27;, &#x27;air_density_2m:kgm3&#x27;,\n",
       "       &#x27;ceiling_height_agl:m&#x27;, &#x27;clear_sky_energy_1h:J&#x27;, &#x27;clear_sky_rad:W&#x27;,\n",
       "       &#x27;cloud_base_agl:m&#x27;, &#x27;dew_or_rime:idx&#x27;, &#x27;dew_point_2m:K&#x27;,\n",
       "       &#x27;diffuse_rad:W&#x27;, &#x27;diffuse_rad_1h:J&#x27;, &#x27;direct_rad:W&#x27;, &#x27;direct_rad_1h:J&#x27;,\n",
       "       &#x27;effective_cloud_cover:p&#x27;, &#x27;elevation:m&#x27;, &#x27;fresh_snow_12h:cm&#x27;,\n",
       "       &#x27;fresh_snow_1h:cm&#x27;, &#x27;fresh_snow_24h:cm&#x27;, &#x27;fresh_snow_3h:cm&#x27;,\n",
       "       &#x27;fresh_snow_6h:cm&#x27;, &#x27;is_day:idx&#x27;, &#x27;is_in_shadow:idx&#x27;,\n",
       "       &#x27;msl_pressure:hPa&#x27;, &#x27;precip_5min:mm&#x27;, &#x27;precip_type_5min:idx&#x27;,\n",
       "       &#x27;pressure_100m:hPa&#x27;, &#x27;pressure_50m:hPa&#x27;, &#x27;prob_rime:p&#x27;,\n",
       "       &#x27;rain_water:kgm2&#x27;, &#x27;relative_humidity_1000hPa:p&#x27;, &#x27;sfc_pressure:hPa&#x27;,\n",
       "       &#x27;snow_density:kgm3&#x27;, &#x27;snow_depth:cm&#x27;, &#x27;snow_drift:idx&#x27;,\n",
       "       &#x27;snow_melt_10min:mm&#x27;, &#x27;snow_water:kgm2&#x27;, &#x27;sun_azimuth:d&#x27;,\n",
       "       &#x27;sun_elevation:d&#x27;, &#x27;super_cooled_liquid_water:kgm2&#x27;, &#x27;t_1000hPa:K&#x27;,\n",
       "       &#x27;total_cloud_cover:p&#x27;, &#x27;visibility:m&#x27;, &#x27;wind_speed_10m:ms&#x27;,\n",
       "       &#x27;wind_speed_u_10m:ms&#x27;, &#x27;wind_speed_v_10m:ms&#x27;, &#x27;wind_speed_w_1000hPa:ms&#x27;,\n",
       "       &#x27;time_diff&#x27;, &#x27;y&#x27;], dtype=object)</pre></div></li></ul></div></li><li class='xr-section-item'><input id='section-368c75b0-0850-48ea-9e0f-16f4e2268bd2' class='xr-section-summary-in' type='checkbox'  ><label for='section-368c75b0-0850-48ea-9e0f-16f4e2268bd2' class='xr-section-summary' >Indexes: <span>(2)</span></label><div class='xr-section-inline-details'></div><div class='xr-section-details'><ul class='xr-var-list'><li class='xr-var-item'><div class='xr-index-name'><div>ds</div></div><div class='xr-index-preview'>PandasIndex</div><div></div><input id='index-095114b2-6c4e-484d-97a9-fe0b7e0704bd' class='xr-index-data-in' type='checkbox'/><label for='index-095114b2-6c4e-484d-97a9-fe0b7e0704bd' title='Show/Hide index repr'><svg class='icon xr-icon-database'><use xlink:href='#icon-database'></use></svg></label><div class='xr-index-data'><pre>PandasIndex(DatetimeIndex([&#x27;2019-06-02 22:00:00&#x27;, &#x27;2019-06-02 23:00:00&#x27;,\n",
       "               &#x27;2019-06-03 00:00:00&#x27;, &#x27;2019-06-03 01:00:00&#x27;,\n",
       "               &#x27;2019-06-03 02:00:00&#x27;, &#x27;2019-06-03 03:00:00&#x27;,\n",
       "               &#x27;2019-06-03 04:00:00&#x27;, &#x27;2019-06-03 05:00:00&#x27;,\n",
       "               &#x27;2019-06-03 06:00:00&#x27;, &#x27;2019-06-03 07:00:00&#x27;,\n",
       "               ...\n",
       "               &#x27;2023-04-30 14:00:00&#x27;, &#x27;2023-04-30 15:00:00&#x27;,\n",
       "               &#x27;2023-04-30 16:00:00&#x27;, &#x27;2023-04-30 17:00:00&#x27;,\n",
       "               &#x27;2023-04-30 18:00:00&#x27;, &#x27;2023-04-30 19:00:00&#x27;,\n",
       "               &#x27;2023-04-30 20:00:00&#x27;, &#x27;2023-04-30 21:00:00&#x27;,\n",
       "               &#x27;2023-04-30 22:00:00&#x27;, &#x27;2023-04-30 23:00:00&#x27;],\n",
       "              dtype=&#x27;datetime64[ns]&#x27;, name=&#x27;ds&#x27;, length=34274, freq=&#x27;H&#x27;))</pre></div></li><li class='xr-var-item'><div class='xr-index-name'><div>component</div></div><div class='xr-index-preview'>PandasIndex</div><div></div><input id='index-0aad4266-b3fe-4ee7-8eb9-8dd01502365f' class='xr-index-data-in' type='checkbox'/><label for='index-0aad4266-b3fe-4ee7-8eb9-8dd01502365f' title='Show/Hide index repr'><svg class='icon xr-icon-database'><use xlink:href='#icon-database'></use></svg></label><div class='xr-index-data'><pre>PandasIndex(Index([&#x27;absolute_humidity_2m:gm3&#x27;, &#x27;air_density_2m:kgm3&#x27;,\n",
       "       &#x27;ceiling_height_agl:m&#x27;, &#x27;clear_sky_energy_1h:J&#x27;, &#x27;clear_sky_rad:W&#x27;,\n",
       "       &#x27;cloud_base_agl:m&#x27;, &#x27;dew_or_rime:idx&#x27;, &#x27;dew_point_2m:K&#x27;,\n",
       "       &#x27;diffuse_rad:W&#x27;, &#x27;diffuse_rad_1h:J&#x27;, &#x27;direct_rad:W&#x27;, &#x27;direct_rad_1h:J&#x27;,\n",
       "       &#x27;effective_cloud_cover:p&#x27;, &#x27;elevation:m&#x27;, &#x27;fresh_snow_12h:cm&#x27;,\n",
       "       &#x27;fresh_snow_1h:cm&#x27;, &#x27;fresh_snow_24h:cm&#x27;, &#x27;fresh_snow_3h:cm&#x27;,\n",
       "       &#x27;fresh_snow_6h:cm&#x27;, &#x27;is_day:idx&#x27;, &#x27;is_in_shadow:idx&#x27;,\n",
       "       &#x27;msl_pressure:hPa&#x27;, &#x27;precip_5min:mm&#x27;, &#x27;precip_type_5min:idx&#x27;,\n",
       "       &#x27;pressure_100m:hPa&#x27;, &#x27;pressure_50m:hPa&#x27;, &#x27;prob_rime:p&#x27;,\n",
       "       &#x27;rain_water:kgm2&#x27;, &#x27;relative_humidity_1000hPa:p&#x27;, &#x27;sfc_pressure:hPa&#x27;,\n",
       "       &#x27;snow_density:kgm3&#x27;, &#x27;snow_depth:cm&#x27;, &#x27;snow_drift:idx&#x27;,\n",
       "       &#x27;snow_melt_10min:mm&#x27;, &#x27;snow_water:kgm2&#x27;, &#x27;sun_azimuth:d&#x27;,\n",
       "       &#x27;sun_elevation:d&#x27;, &#x27;super_cooled_liquid_water:kgm2&#x27;, &#x27;t_1000hPa:K&#x27;,\n",
       "       &#x27;total_cloud_cover:p&#x27;, &#x27;visibility:m&#x27;, &#x27;wind_speed_10m:ms&#x27;,\n",
       "       &#x27;wind_speed_u_10m:ms&#x27;, &#x27;wind_speed_v_10m:ms&#x27;, &#x27;wind_speed_w_1000hPa:ms&#x27;,\n",
       "       &#x27;time_diff&#x27;, &#x27;y&#x27;],\n",
       "      dtype=&#x27;object&#x27;, name=&#x27;component&#x27;))</pre></div></li></ul></div></li><li class='xr-section-item'><input id='section-8cf74b8a-1334-4845-8d5b-2fbc051ea937' class='xr-section-summary-in' type='checkbox'  checked><label for='section-8cf74b8a-1334-4845-8d5b-2fbc051ea937' class='xr-section-summary' >Attributes: <span>(2)</span></label><div class='xr-section-inline-details'></div><div class='xr-section-details'><dl class='xr-attrs'><dt><span>static_covariates :</span></dt><dd>static_covariates  location\n",
       "global_components       0.0</dd><dt><span>hierarchy :</span></dt><dd>None</dd></dl></div></li></ul></div></div>"
      ],
      "text/plain": [
       "<TimeSeries (DataArray) (ds: 34274, component: 47, sample: 1)>\n",
       "array([[[7.69999981e+00],\n",
       "        [1.22825003e+00],\n",
       "        [1.72894995e+03],\n",
       "        ...,\n",
       "        [0.00000000e+00],\n",
       "        [0.00000000e+00],\n",
       "        [0.00000000e+00]],\n",
       "\n",
       "       [[7.69999981e+00],\n",
       "        [1.22350001e+00],\n",
       "        [1.68982495e+03],\n",
       "        ...,\n",
       "        [0.00000000e+00],\n",
       "        [0.00000000e+00],\n",
       "        [0.00000000e+00]],\n",
       "\n",
       "       [[7.87500000e+00],\n",
       "        [1.21974993e+00],\n",
       "        [1.56322498e+03],\n",
       "        ...,\n",
       "...\n",
       "        ...,\n",
       "        [0.00000000e+00],\n",
       "        [1.38145000e+05],\n",
       "        [0.00000000e+00]],\n",
       "\n",
       "       [[4.50000000e+00],\n",
       "        [1.28100002e+00],\n",
       "        [1.35340002e+03],\n",
       "        ...,\n",
       "        [0.00000000e+00],\n",
       "        [1.41745000e+05],\n",
       "        [0.00000000e+00]],\n",
       "\n",
       "       [[4.50000000e+00],\n",
       "        [1.28100002e+00],\n",
       "        [1.62657495e+03],\n",
       "        ...,\n",
       "        [0.00000000e+00],\n",
       "        [1.45345000e+05],\n",
       "        [0.00000000e+00]]])\n",
       "Coordinates:\n",
       "  * ds         (ds) datetime64[ns] 2019-06-02T22:00:00 ... 2023-04-30T23:00:00\n",
       "  * component  (component) object 'absolute_humidity_2m:gm3' ... 'y'\n",
       "Dimensions without coordinates: sample\n",
       "Attributes:\n",
       "    static_covariates:  static_covariates  location\\nglobal_components       0.0\n",
       "    hierarchy:          None"
      ]
     },
     "execution_count": 161,
     "metadata": {},
     "output_type": "execute_result"
    }
   ],
   "source": [
    "from darts import TimeSeries\n",
    "import pandas as pd\n",
    "\n",
    "df = pd.read_csv('X_train.csv')\n",
    "\n",
    "fillna_value = 0\n",
    "\n",
    "train_series = TimeSeries.from_group_dataframe(df=df, group_cols=[\"location\"], time_col=\"ds\", freq=\"H\", fill_missing_dates=False, fillna_value=fillna_value, value_cols=None)\n",
    "\n",
    "test_df = pd.read_csv('X_test.csv')\n",
    "covariate_future = TimeSeries.from_group_dataframe(df=test_df, group_cols=[\"location\"], time_col=\"ds\", freq=\"H\", fill_missing_dates=False, fillna_value=fillna_value, value_cols=None)\n",
    "\n",
    "#train_series = TimeSeries.from_dataframe(df=df, time_col=\"ds\", freq=\"H\", target=\"y\",fill_missing_dates=False, static_covariates=location_static_covariate)\n",
    "train_series[0]"
   ]
  },
  {
   "cell_type": "code",
   "execution_count": 162,
   "metadata": {},
   "outputs": [],
   "source": [
    "i = 0"
   ]
  },
  {
   "cell_type": "code",
   "execution_count": 163,
   "metadata": {},
   "outputs": [
    {
     "data": {
      "text/plain": [
       "<Axes: xlabel='ds'>"
      ]
     },
     "execution_count": 163,
     "metadata": {},
     "output_type": "execute_result"
    },
    {
     "data": {
      "image/png": "[encoded data removed]",
      "text/plain": [
       "<Figure size 640x480 with 1 Axes>"
      ]
     },
     "metadata": {},
     "output_type": "display_data"
    }
   ],
   "source": [
    "train_series[i].univariate_component(\"y\").plot()"
   ]
  },
  {
   "cell_type": "code",
   "execution_count": 164,
   "metadata": {},
   "outputs": [],
   "source": [
    "# # add_datetime_attribute\n",
    "# train_series[i] = train_series[i].add_datetime_attribute(attribute=\"hour\", one_hot=False)\n",
    "# train_series[i] = train_series[i].add_datetime_attribute(attribute=\"month\", one_hot=False)\n",
    "# covariate_future[i] = covariate_future[i].add_datetime_attribute(attribute=\"hour\", one_hot=False)\n",
    "# covariate_future[i] = covariate_future[i].add_datetime_attribute(attribute=\"month\", one_hot=False)"
   ]
  },
  {
   "cell_type": "code",
   "execution_count": 165,
   "metadata": {},
   "outputs": [
    {
     "data": {
      "text/html": [
       "<div><svg style=\"position: absolute; width: 0; height: 0; overflow: hidden\">\n",
       "<defs>\n",
       "<symbol id=\"icon-database\" viewBox=\"0 0 32 32\">\n",
       "<path d=\"M16 0c-8.837 0-16 2.239-16 5v4c0 2.761 7.163 5 16 5s16-2.239 16-5v-4c0-2.761-7.163-5-16-5z\"></path>\n",
       "<path d=\"M16 17c-8.837 0-16-2.239-16-5v6c0 2.761 7.163 5 16 5s16-2.239 16-5v-6c0 2.761-7.163 5-16 5z\"></path>\n",
       "<path d=\"M16 26c-8.837 0-16-2.239-16-5v6c0 2.761 7.163 5 16 5s16-2.239 16-5v-6c0 2.761-7.163 5-16 5z\"></path>\n",
       "</symbol>\n",
       "<symbol id=\"icon-file-text2\" viewBox=\"0 0 32 32\">\n",
       "<path d=\"M28.681 7.159c-0.694-0.947-1.662-2.053-2.724-3.116s-2.169-2.030-3.116-2.724c-1.612-1.182-2.393-1.319-2.841-1.319h-15.5c-1.378 0-2.5 1.121-2.5 2.5v27c0 1.378 1.122 2.5 2.5 2.5h23c1.378 0 2.5-1.122 2.5-2.5v-19.5c0-0.448-0.137-1.23-1.319-2.841zM24.543 5.457c0.959 0.959 1.712 1.825 2.268 2.543h-4.811v-4.811c0.718 0.556 1.584 1.309 2.543 2.268zM28 29.5c0 0.271-0.229 0.5-0.5 0.5h-23c-0.271 0-0.5-0.229-0.5-0.5v-27c0-0.271 0.229-0.5 0.5-0.5 0 0 15.499-0 15.5 0v7c0 0.552 0.448 1 1 1h7v19.5z\"></path>\n",
       "<path d=\"M23 26h-14c-0.552 0-1-0.448-1-1s0.448-1 1-1h14c0.552 0 1 0.448 1 1s-0.448 1-1 1z\"></path>\n",
       "<path d=\"M23 22h-14c-0.552 0-1-0.448-1-1s0.448-1 1-1h14c0.552 0 1 0.448 1 1s-0.448 1-1 1z\"></path>\n",
       "<path d=\"M23 18h-14c-0.552 0-1-0.448-1-1s0.448-1 1-1h14c0.552 0 1 0.448 1 1s-0.448 1-1 1z\"></path>\n",
       "</symbol>\n",
       "</defs>\n",
       "</svg>\n",
       "<style>/* CSS stylesheet for displaying xarray objects in jupyterlab.\n",
       " *\n",
       " */\n",
       "\n",
       ":root {\n",
       "  --xr-font-color0: var(--jp-content-font-color0, rgba(0, 0, 0, 1));\n",
       "  --xr-font-color2: var(--jp-content-font-color2, rgba(0, 0, 0, 0.54));\n",
       "  --xr-font-color3: var(--jp-content-font-color3, rgba(0, 0, 0, 0.38));\n",
       "  --xr-border-color: var(--jp-border-color2, #e0e0e0);\n",
       "  --xr-disabled-color: var(--jp-layout-color3, #bdbdbd);\n",
       "  --xr-background-color: var(--jp-layout-color0, white);\n",
       "  --xr-background-color-row-even: var(--jp-layout-color1, white);\n",
       "  --xr-background-color-row-odd: var(--jp-layout-color2, #eeeeee);\n",
       "}\n",
       "\n",
       "html[theme=dark],\n",
       "body[data-theme=dark],\n",
       "body.vscode-dark {\n",
       "  --xr-font-color0: rgba(255, 255, 255, 1);\n",
       "  --xr-font-color2: rgba(255, 255, 255, 0.54);\n",
       "  --xr-font-color3: rgba(255, 255, 255, 0.38);\n",
       "  --xr-border-color: #1F1F1F;\n",
       "  --xr-disabled-color: #515151;\n",
       "  --xr-background-color: #111111;\n",
       "  --xr-background-color-row-even: #111111;\n",
       "  --xr-background-color-row-odd: #313131;\n",
       "}\n",
       "\n",
       ".xr-wrap {\n",
       "  display: block !important;\n",
       "  min-width: 300px;\n",
       "  max-width: 700px;\n",
       "}\n",
       "\n",
       ".xr-text-repr-fallback {\n",
       "  /* fallback to plain text repr when CSS is not injected (untrusted notebook) */\n",
       "  display: none;\n",
       "}\n",
       "\n",
       ".xr-header {\n",
       "  padding-top: 6px;\n",
       "  padding-bottom: 6px;\n",
       "  margin-bottom: 4px;\n",
       "  border-bottom: solid 1px var(--xr-border-color);\n",
       "}\n",
       "\n",
       ".xr-header > div,\n",
       ".xr-header > ul {\n",
       "  display: inline;\n",
       "  margin-top: 0;\n",
       "  margin-bottom: 0;\n",
       "}\n",
       "\n",
       ".xr-obj-type,\n",
       ".xr-array-name {\n",
       "  margin-left: 2px;\n",
       "  margin-right: 10px;\n",
       "}\n",
       "\n",
       ".xr-obj-type {\n",
       "  color: var(--xr-font-color2);\n",
       "}\n",
       "\n",
       ".xr-sections {\n",
       "  padding-left: 0 !important;\n",
       "  display: grid;\n",
       "  grid-template-columns: 150px auto auto 1fr 20px 20px;\n",
       "}\n",
       "\n",
       ".xr-section-item {\n",
       "  display: contents;\n",
       "}\n",
       "\n",
       ".xr-section-item input {\n",
       "  display: none;\n",
       "}\n",
       "\n",
       ".xr-section-item input + label {\n",
       "  color: var(--xr-disabled-color);\n",
       "}\n",
       "\n",
       ".xr-section-item input:enabled + label {\n",
       "  cursor: pointer;\n",
       "  color: var(--xr-font-color2);\n",
       "}\n",
       "\n",
       ".xr-section-item input:enabled + label:hover {\n",
       "  color: var(--xr-font-color0);\n",
       "}\n",
       "\n",
       ".xr-section-summary {\n",
       "  grid-column: 1;\n",
       "  color: var(--xr-font-color2);\n",
       "  font-weight: 500;\n",
       "}\n",
       "\n",
       ".xr-section-summary > span {\n",
       "  display: inline-block;\n",
       "  padding-left: 0.5em;\n",
       "}\n",
       "\n",
       ".xr-section-summary-in:disabled + label {\n",
       "  color: var(--xr-font-color2);\n",
       "}\n",
       "\n",
       ".xr-section-summary-in + label:before {\n",
       "  display: inline-block;\n",
       "  content: '►';\n",
       "  font-size: 11px;\n",
       "  width: 15px;\n",
       "  text-align: center;\n",
       "}\n",
       "\n",
       ".xr-section-summary-in:disabled + label:before {\n",
       "  color: var(--xr-disabled-color);\n",
       "}\n",
       "\n",
       ".xr-section-summary-in:checked + label:before {\n",
       "  content: '▼';\n",
       "}\n",
       "\n",
       ".xr-section-summary-in:checked + label > span {\n",
       "  display: none;\n",
       "}\n",
       "\n",
       ".xr-section-summary,\n",
       ".xr-section-inline-details {\n",
       "  padding-top: 4px;\n",
       "  padding-bottom: 4px;\n",
       "}\n",
       "\n",
       ".xr-section-inline-details {\n",
       "  grid-column: 2 / -1;\n",
       "}\n",
       "\n",
       ".xr-section-details {\n",
       "  display: none;\n",
       "  grid-column: 1 / -1;\n",
       "  margin-bottom: 5px;\n",
       "}\n",
       "\n",
       ".xr-section-summary-in:checked ~ .xr-section-details {\n",
       "  display: contents;\n",
       "}\n",
       "\n",
       ".xr-array-wrap {\n",
       "  grid-column: 1 / -1;\n",
       "  display: grid;\n",
       "  grid-template-columns: 20px auto;\n",
       "}\n",
       "\n",
       ".xr-array-wrap > label {\n",
       "  grid-column: 1;\n",
       "  vertical-align: top;\n",
       "}\n",
       "\n",
       ".xr-preview {\n",
       "  color: var(--xr-font-color3);\n",
       "}\n",
       "\n",
       ".xr-array-preview,\n",
       ".xr-array-data {\n",
       "  padding: 0 5px !important;\n",
       "  grid-column: 2;\n",
       "}\n",
       "\n",
       ".xr-array-data,\n",
       ".xr-array-in:checked ~ .xr-array-preview {\n",
       "  display: none;\n",
       "}\n",
       "\n",
       ".xr-array-in:checked ~ .xr-array-data,\n",
       ".xr-array-preview {\n",
       "  display: inline-block;\n",
       "}\n",
       "\n",
       ".xr-dim-list {\n",
       "  display: inline-block !important;\n",
       "  list-style: none;\n",
       "  padding: 0 !important;\n",
       "  margin: 0;\n",
       "}\n",
       "\n",
       ".xr-dim-list li {\n",
       "  display: inline-block;\n",
       "  padding: 0;\n",
       "  margin: 0;\n",
       "}\n",
       "\n",
       ".xr-dim-list:before {\n",
       "  content: '(';\n",
       "}\n",
       "\n",
       ".xr-dim-list:after {\n",
       "  content: ')';\n",
       "}\n",
       "\n",
       ".xr-dim-list li:not(:last-child):after {\n",
       "  content: ',';\n",
       "  padding-right: 5px;\n",
       "}\n",
       "\n",
       ".xr-has-index {\n",
       "  font-weight: bold;\n",
       "}\n",
       "\n",
       ".xr-var-list,\n",
       ".xr-var-item {\n",
       "  display: contents;\n",
       "}\n",
       "\n",
       ".xr-var-item > div,\n",
       ".xr-var-item label,\n",
       ".xr-var-item > .xr-var-name span {\n",
       "  background-color: var(--xr-background-color-row-even);\n",
       "  margin-bottom: 0;\n",
       "}\n",
       "\n",
       ".xr-var-item > .xr-var-name:hover span {\n",
       "  padding-right: 5px;\n",
       "}\n",
       "\n",
       ".xr-var-list > li:nth-child(odd) > div,\n",
       ".xr-var-list > li:nth-child(odd) > label,\n",
       ".xr-var-list > li:nth-child(odd) > .xr-var-name span {\n",
       "  background-color: var(--xr-background-color-row-odd);\n",
       "}\n",
       "\n",
       ".xr-var-name {\n",
       "  grid-column: 1;\n",
       "}\n",
       "\n",
       ".xr-var-dims {\n",
       "  grid-column: 2;\n",
       "}\n",
       "\n",
       ".xr-var-dtype {\n",
       "  grid-column: 3;\n",
       "  text-align: right;\n",
       "  color: var(--xr-font-color2);\n",
       "}\n",
       "\n",
       ".xr-var-preview {\n",
       "  grid-column: 4;\n",
       "}\n",
       "\n",
       ".xr-index-preview {\n",
       "  grid-column: 2 / 5;\n",
       "  color: var(--xr-font-color2);\n",
       "}\n",
       "\n",
       ".xr-var-name,\n",
       ".xr-var-dims,\n",
       ".xr-var-dtype,\n",
       ".xr-preview,\n",
       ".xr-attrs dt {\n",
       "  white-space: nowrap;\n",
       "  overflow: hidden;\n",
       "  text-overflow: ellipsis;\n",
       "  padding-right: 10px;\n",
       "}\n",
       "\n",
       ".xr-var-name:hover,\n",
       ".xr-var-dims:hover,\n",
       ".xr-var-dtype:hover,\n",
       ".xr-attrs dt:hover {\n",
       "  overflow: visible;\n",
       "  width: auto;\n",
       "  z-index: 1;\n",
       "}\n",
       "\n",
       ".xr-var-attrs,\n",
       ".xr-var-data,\n",
       ".xr-index-data {\n",
       "  display: none;\n",
       "  background-color: var(--xr-background-color) !important;\n",
       "  padding-bottom: 5px !important;\n",
       "}\n",
       "\n",
       ".xr-var-attrs-in:checked ~ .xr-var-attrs,\n",
       ".xr-var-data-in:checked ~ .xr-var-data,\n",
       ".xr-index-data-in:checked ~ .xr-index-data {\n",
       "  display: block;\n",
       "}\n",
       "\n",
       ".xr-var-data > table {\n",
       "  float: right;\n",
       "}\n",
       "\n",
       ".xr-var-name span,\n",
       ".xr-var-data,\n",
       ".xr-index-name div,\n",
       ".xr-index-data,\n",
       ".xr-attrs {\n",
       "  padding-left: 25px !important;\n",
       "}\n",
       "\n",
       ".xr-attrs,\n",
       ".xr-var-attrs,\n",
       ".xr-var-data,\n",
       ".xr-index-data {\n",
       "  grid-column: 1 / -1;\n",
       "}\n",
       "\n",
       "dl.xr-attrs {\n",
       "  padding: 0;\n",
       "  margin: 0;\n",
       "  display: grid;\n",
       "  grid-template-columns: 125px auto;\n",
       "}\n",
       "\n",
       ".xr-attrs dt,\n",
       ".xr-attrs dd {\n",
       "  padding: 0;\n",
       "  margin: 0;\n",
       "  float: left;\n",
       "  padding-right: 10px;\n",
       "  width: auto;\n",
       "}\n",
       "\n",
       ".xr-attrs dt {\n",
       "  font-weight: normal;\n",
       "  grid-column: 1;\n",
       "}\n",
       "\n",
       ".xr-attrs dt:hover span {\n",
       "  display: inline-block;\n",
       "  background: var(--xr-background-color);\n",
       "  padding-right: 10px;\n",
       "}\n",
       "\n",
       ".xr-attrs dd {\n",
       "  grid-column: 2;\n",
       "  white-space: pre-wrap;\n",
       "  word-break: break-all;\n",
       "}\n",
       "\n",
       ".xr-icon-database,\n",
       ".xr-icon-file-text2,\n",
       ".xr-no-icon {\n",
       "  display: inline-block;\n",
       "  vertical-align: middle;\n",
       "  width: 1em;\n",
       "  height: 1.5em !important;\n",
       "  stroke-width: 0;\n",
       "  stroke: currentColor;\n",
       "  fill: currentColor;\n",
       "}\n",
       "</style><pre class='xr-text-repr-fallback'>&lt;TimeSeries (DataArray) (ds: 1536, component: 46, sample: 1)&gt;\n",
       "array([[[ 4.32500029e+00],\n",
       "        [ 1.28674996e+00],\n",
       "        [ 9.12700012e+02],\n",
       "        ...,\n",
       "        [ 3.34999990e+00],\n",
       "        [ 0.00000000e+00],\n",
       "        [ 6.25460000e+04]],\n",
       "\n",
       "       [[ 4.27500010e+00],\n",
       "        [ 1.28600001e+00],\n",
       "        [ 1.33975000e+03],\n",
       "        ...,\n",
       "        [ 3.29999995e+00],\n",
       "        [ 0.00000000e+00],\n",
       "        [ 6.61460000e+04]],\n",
       "\n",
       "       [[ 4.14999962e+00],\n",
       "        [ 1.28375006e+00],\n",
       "        [ 1.79130005e+03],\n",
       "        ...,\n",
       "...\n",
       "        ...,\n",
       "        [-1.39999998e+00],\n",
       "        [ 0.00000000e+00],\n",
       "        [ 1.38119000e+05]],\n",
       "\n",
       "       [[ 9.02499962e+00],\n",
       "        [ 1.20700002e+00],\n",
       "        [ 2.20280005e+03],\n",
       "        ...,\n",
       "        [-1.34999990e+00],\n",
       "        [ 0.00000000e+00],\n",
       "        [ 1.41719000e+05]],\n",
       "\n",
       "       [[ 9.05000019e+00],\n",
       "        [ 1.20774996e+00],\n",
       "        [ 2.01567505e+03],\n",
       "        ...,\n",
       "        [-1.17499995e+00],\n",
       "        [ 0.00000000e+00],\n",
       "        [ 1.45319000e+05]]])\n",
       "Coordinates:\n",
       "  * ds         (ds) datetime64[ns] 2023-05-01 ... 2023-07-03T23:00:00\n",
       "  * component  (component) object &#x27;absolute_humidity_2m:gm3&#x27; ... &#x27;time_diff&#x27;\n",
       "Dimensions without coordinates: sample\n",
       "Attributes:\n",
       "    static_covariates:  static_covariates  location\\nglobal_components       0.0\n",
       "    hierarchy:          None</pre><div class='xr-wrap' style='display:none'><div class='xr-header'><div class='xr-obj-type'>TimeSeries (DataArray)</div><div class='xr-array-name'></div><ul class='xr-dim-list'><li><span class='xr-has-index'>ds</span>: 1536</li><li><span class='xr-has-index'>component</span>: 46</li><li><span>sample</span>: 1</li></ul></div><ul class='xr-sections'><li class='xr-section-item'><div class='xr-array-wrap'><input id='section-6b108120-23bd-4254-8f3f-c30e4737334b' class='xr-array-in' type='checkbox' checked><label for='section-6b108120-23bd-4254-8f3f-c30e4737334b' title='Show/hide data repr'><svg class='icon xr-icon-database'><use xlink:href='#icon-database'></use></svg></label><div class='xr-array-preview xr-preview'><span>4.325 1.287 912.7 0.0 0.0 1.062e+03 ... 1.975 1.6 -1.175 0.0 1.453e+05</span></div><div class='xr-array-data'><pre>array([[[ 4.32500029e+00],\n",
       "        [ 1.28674996e+00],\n",
       "        [ 9.12700012e+02],\n",
       "        ...,\n",
       "        [ 3.34999990e+00],\n",
       "        [ 0.00000000e+00],\n",
       "        [ 6.25460000e+04]],\n",
       "\n",
       "       [[ 4.27500010e+00],\n",
       "        [ 1.28600001e+00],\n",
       "        [ 1.33975000e+03],\n",
       "        ...,\n",
       "        [ 3.29999995e+00],\n",
       "        [ 0.00000000e+00],\n",
       "        [ 6.61460000e+04]],\n",
       "\n",
       "       [[ 4.14999962e+00],\n",
       "        [ 1.28375006e+00],\n",
       "        [ 1.79130005e+03],\n",
       "        ...,\n",
       "...\n",
       "        ...,\n",
       "        [-1.39999998e+00],\n",
       "        [ 0.00000000e+00],\n",
       "        [ 1.38119000e+05]],\n",
       "\n",
       "       [[ 9.02499962e+00],\n",
       "        [ 1.20700002e+00],\n",
       "        [ 2.20280005e+03],\n",
       "        ...,\n",
       "        [-1.34999990e+00],\n",
       "        [ 0.00000000e+00],\n",
       "        [ 1.41719000e+05]],\n",
       "\n",
       "       [[ 9.05000019e+00],\n",
       "        [ 1.20774996e+00],\n",
       "        [ 2.01567505e+03],\n",
       "        ...,\n",
       "        [-1.17499995e+00],\n",
       "        [ 0.00000000e+00],\n",
       "        [ 1.45319000e+05]]])</pre></div></div></li><li class='xr-section-item'><input id='section-65ae41d7-cd6e-42ef-9abf-b0b99259305d' class='xr-section-summary-in' type='checkbox'  checked><label for='section-65ae41d7-cd6e-42ef-9abf-b0b99259305d' class='xr-section-summary' >Coordinates: <span>(2)</span></label><div class='xr-section-inline-details'></div><div class='xr-section-details'><ul class='xr-var-list'><li class='xr-var-item'><div class='xr-var-name'><span class='xr-has-index'>ds</span></div><div class='xr-var-dims'>(ds)</div><div class='xr-var-dtype'>datetime64[ns]</div><div class='xr-var-preview xr-preview'>2023-05-01 ... 2023-07-03T23:00:00</div><input id='attrs-c0e87924-f0fd-49c5-9910-2a3432f341f1' class='xr-var-attrs-in' type='checkbox' disabled><label for='attrs-c0e87924-f0fd-49c5-9910-2a3432f341f1' title='Show/Hide attributes'><svg class='icon xr-icon-file-text2'><use xlink:href='#icon-file-text2'></use></svg></label><input id='data-6b907c06-dc03-4df3-8701-ccaea5f91857' class='xr-var-data-in' type='checkbox'><label for='data-6b907c06-dc03-4df3-8701-ccaea5f91857' title='Show/Hide data repr'><svg class='icon xr-icon-database'><use xlink:href='#icon-database'></use></svg></label><div class='xr-var-attrs'><dl class='xr-attrs'></dl></div><div class='xr-var-data'><pre>array([&#x27;2023-05-01T00:00:00.000000000&#x27;, &#x27;2023-05-01T01:00:00.000000000&#x27;,\n",
       "       &#x27;2023-05-01T02:00:00.000000000&#x27;, ..., &#x27;2023-07-03T21:00:00.000000000&#x27;,\n",
       "       &#x27;2023-07-03T22:00:00.000000000&#x27;, &#x27;2023-07-03T23:00:00.000000000&#x27;],\n",
       "      dtype=&#x27;datetime64[ns]&#x27;)</pre></div></li><li class='xr-var-item'><div class='xr-var-name'><span class='xr-has-index'>component</span></div><div class='xr-var-dims'>(component)</div><div class='xr-var-dtype'>object</div><div class='xr-var-preview xr-preview'>&#x27;absolute_humidity_2m:gm3&#x27; ... &#x27;...</div><input id='attrs-4b9228a8-47a6-411b-acb9-acdbdcb9073d' class='xr-var-attrs-in' type='checkbox' disabled><label for='attrs-4b9228a8-47a6-411b-acb9-acdbdcb9073d' title='Show/Hide attributes'><svg class='icon xr-icon-file-text2'><use xlink:href='#icon-file-text2'></use></svg></label><input id='data-28a8cbf6-fa05-4f36-8c8a-a5fb482b3e3d' class='xr-var-data-in' type='checkbox'><label for='data-28a8cbf6-fa05-4f36-8c8a-a5fb482b3e3d' title='Show/Hide data repr'><svg class='icon xr-icon-database'><use xlink:href='#icon-database'></use></svg></label><div class='xr-var-attrs'><dl class='xr-attrs'></dl></div><div class='xr-var-data'><pre>array([&#x27;absolute_humidity_2m:gm3&#x27;, &#x27;air_density_2m:kgm3&#x27;,\n",
       "       &#x27;ceiling_height_agl:m&#x27;, &#x27;clear_sky_energy_1h:J&#x27;, &#x27;clear_sky_rad:W&#x27;,\n",
       "       &#x27;cloud_base_agl:m&#x27;, &#x27;dew_or_rime:idx&#x27;, &#x27;dew_point_2m:K&#x27;,\n",
       "       &#x27;diffuse_rad:W&#x27;, &#x27;diffuse_rad_1h:J&#x27;, &#x27;direct_rad:W&#x27;, &#x27;direct_rad_1h:J&#x27;,\n",
       "       &#x27;effective_cloud_cover:p&#x27;, &#x27;elevation:m&#x27;, &#x27;fresh_snow_12h:cm&#x27;,\n",
       "       &#x27;fresh_snow_1h:cm&#x27;, &#x27;fresh_snow_24h:cm&#x27;, &#x27;fresh_snow_3h:cm&#x27;,\n",
       "       &#x27;fresh_snow_6h:cm&#x27;, &#x27;is_day:idx&#x27;, &#x27;is_in_shadow:idx&#x27;,\n",
       "       &#x27;msl_pressure:hPa&#x27;, &#x27;precip_5min:mm&#x27;, &#x27;precip_type_5min:idx&#x27;,\n",
       "       &#x27;pressure_100m:hPa&#x27;, &#x27;pressure_50m:hPa&#x27;, &#x27;prob_rime:p&#x27;,\n",
       "       &#x27;rain_water:kgm2&#x27;, &#x27;relative_humidity_1000hPa:p&#x27;, &#x27;sfc_pressure:hPa&#x27;,\n",
       "       &#x27;snow_density:kgm3&#x27;, &#x27;snow_depth:cm&#x27;, &#x27;snow_drift:idx&#x27;,\n",
       "       &#x27;snow_melt_10min:mm&#x27;, &#x27;snow_water:kgm2&#x27;, &#x27;sun_azimuth:d&#x27;,\n",
       "       &#x27;sun_elevation:d&#x27;, &#x27;super_cooled_liquid_water:kgm2&#x27;, &#x27;t_1000hPa:K&#x27;,\n",
       "       &#x27;total_cloud_cover:p&#x27;, &#x27;visibility:m&#x27;, &#x27;wind_speed_10m:ms&#x27;,\n",
       "       &#x27;wind_speed_u_10m:ms&#x27;, &#x27;wind_speed_v_10m:ms&#x27;, &#x27;wind_speed_w_1000hPa:ms&#x27;,\n",
       "       &#x27;time_diff&#x27;], dtype=object)</pre></div></li></ul></div></li><li class='xr-section-item'><input id='section-101e3294-f5e3-4f9d-874c-ed6b69fd6846' class='xr-section-summary-in' type='checkbox'  ><label for='section-101e3294-f5e3-4f9d-874c-ed6b69fd6846' class='xr-section-summary' >Indexes: <span>(2)</span></label><div class='xr-section-inline-details'></div><div class='xr-section-details'><ul class='xr-var-list'><li class='xr-var-item'><div class='xr-index-name'><div>ds</div></div><div class='xr-index-preview'>PandasIndex</div><div></div><input id='index-6dd44246-4ae6-426e-b433-65b53e7c6782' class='xr-index-data-in' type='checkbox'/><label for='index-6dd44246-4ae6-426e-b433-65b53e7c6782' title='Show/Hide index repr'><svg class='icon xr-icon-database'><use xlink:href='#icon-database'></use></svg></label><div class='xr-index-data'><pre>PandasIndex(DatetimeIndex([&#x27;2023-05-01 00:00:00&#x27;, &#x27;2023-05-01 01:00:00&#x27;,\n",
       "               &#x27;2023-05-01 02:00:00&#x27;, &#x27;2023-05-01 03:00:00&#x27;,\n",
       "               &#x27;2023-05-01 04:00:00&#x27;, &#x27;2023-05-01 05:00:00&#x27;,\n",
       "               &#x27;2023-05-01 06:00:00&#x27;, &#x27;2023-05-01 07:00:00&#x27;,\n",
       "               &#x27;2023-05-01 08:00:00&#x27;, &#x27;2023-05-01 09:00:00&#x27;,\n",
       "               ...\n",
       "               &#x27;2023-07-03 14:00:00&#x27;, &#x27;2023-07-03 15:00:00&#x27;,\n",
       "               &#x27;2023-07-03 16:00:00&#x27;, &#x27;2023-07-03 17:00:00&#x27;,\n",
       "               &#x27;2023-07-03 18:00:00&#x27;, &#x27;2023-07-03 19:00:00&#x27;,\n",
       "               &#x27;2023-07-03 20:00:00&#x27;, &#x27;2023-07-03 21:00:00&#x27;,\n",
       "               &#x27;2023-07-03 22:00:00&#x27;, &#x27;2023-07-03 23:00:00&#x27;],\n",
       "              dtype=&#x27;datetime64[ns]&#x27;, name=&#x27;ds&#x27;, length=1536, freq=&#x27;H&#x27;))</pre></div></li><li class='xr-var-item'><div class='xr-index-name'><div>component</div></div><div class='xr-index-preview'>PandasIndex</div><div></div><input id='index-de9a0ec9-771f-4221-872c-c9b2be1f29fd' class='xr-index-data-in' type='checkbox'/><label for='index-de9a0ec9-771f-4221-872c-c9b2be1f29fd' title='Show/Hide index repr'><svg class='icon xr-icon-database'><use xlink:href='#icon-database'></use></svg></label><div class='xr-index-data'><pre>PandasIndex(Index([&#x27;absolute_humidity_2m:gm3&#x27;, &#x27;air_density_2m:kgm3&#x27;,\n",
       "       &#x27;ceiling_height_agl:m&#x27;, &#x27;clear_sky_energy_1h:J&#x27;, &#x27;clear_sky_rad:W&#x27;,\n",
       "       &#x27;cloud_base_agl:m&#x27;, &#x27;dew_or_rime:idx&#x27;, &#x27;dew_point_2m:K&#x27;,\n",
       "       &#x27;diffuse_rad:W&#x27;, &#x27;diffuse_rad_1h:J&#x27;, &#x27;direct_rad:W&#x27;, &#x27;direct_rad_1h:J&#x27;,\n",
       "       &#x27;effective_cloud_cover:p&#x27;, &#x27;elevation:m&#x27;, &#x27;fresh_snow_12h:cm&#x27;,\n",
       "       &#x27;fresh_snow_1h:cm&#x27;, &#x27;fresh_snow_24h:cm&#x27;, &#x27;fresh_snow_3h:cm&#x27;,\n",
       "       &#x27;fresh_snow_6h:cm&#x27;, &#x27;is_day:idx&#x27;, &#x27;is_in_shadow:idx&#x27;,\n",
       "       &#x27;msl_pressure:hPa&#x27;, &#x27;precip_5min:mm&#x27;, &#x27;precip_type_5min:idx&#x27;,\n",
       "       &#x27;pressure_100m:hPa&#x27;, &#x27;pressure_50m:hPa&#x27;, &#x27;prob_rime:p&#x27;,\n",
       "       &#x27;rain_water:kgm2&#x27;, &#x27;relative_humidity_1000hPa:p&#x27;, &#x27;sfc_pressure:hPa&#x27;,\n",
       "       &#x27;snow_density:kgm3&#x27;, &#x27;snow_depth:cm&#x27;, &#x27;snow_drift:idx&#x27;,\n",
       "       &#x27;snow_melt_10min:mm&#x27;, &#x27;snow_water:kgm2&#x27;, &#x27;sun_azimuth:d&#x27;,\n",
       "       &#x27;sun_elevation:d&#x27;, &#x27;super_cooled_liquid_water:kgm2&#x27;, &#x27;t_1000hPa:K&#x27;,\n",
       "       &#x27;total_cloud_cover:p&#x27;, &#x27;visibility:m&#x27;, &#x27;wind_speed_10m:ms&#x27;,\n",
       "       &#x27;wind_speed_u_10m:ms&#x27;, &#x27;wind_speed_v_10m:ms&#x27;, &#x27;wind_speed_w_1000hPa:ms&#x27;,\n",
       "       &#x27;time_diff&#x27;],\n",
       "      dtype=&#x27;object&#x27;, name=&#x27;component&#x27;))</pre></div></li></ul></div></li><li class='xr-section-item'><input id='section-d56a895d-348e-482c-9ff2-d6cbbcbac666' class='xr-section-summary-in' type='checkbox'  checked><label for='section-d56a895d-348e-482c-9ff2-d6cbbcbac666' class='xr-section-summary' >Attributes: <span>(2)</span></label><div class='xr-section-inline-details'></div><div class='xr-section-details'><dl class='xr-attrs'><dt><span>static_covariates :</span></dt><dd>static_covariates  location\n",
       "global_components       0.0</dd><dt><span>hierarchy :</span></dt><dd>None</dd></dl></div></li></ul></div></div>"
      ],
      "text/plain": [
       "<TimeSeries (DataArray) (ds: 1536, component: 46, sample: 1)>\n",
       "array([[[ 4.32500029e+00],\n",
       "        [ 1.28674996e+00],\n",
       "        [ 9.12700012e+02],\n",
       "        ...,\n",
       "        [ 3.34999990e+00],\n",
       "        [ 0.00000000e+00],\n",
       "        [ 6.25460000e+04]],\n",
       "\n",
       "       [[ 4.27500010e+00],\n",
       "        [ 1.28600001e+00],\n",
       "        [ 1.33975000e+03],\n",
       "        ...,\n",
       "        [ 3.29999995e+00],\n",
       "        [ 0.00000000e+00],\n",
       "        [ 6.61460000e+04]],\n",
       "\n",
       "       [[ 4.14999962e+00],\n",
       "        [ 1.28375006e+00],\n",
       "        [ 1.79130005e+03],\n",
       "        ...,\n",
       "...\n",
       "        ...,\n",
       "        [-1.39999998e+00],\n",
       "        [ 0.00000000e+00],\n",
       "        [ 1.38119000e+05]],\n",
       "\n",
       "       [[ 9.02499962e+00],\n",
       "        [ 1.20700002e+00],\n",
       "        [ 2.20280005e+03],\n",
       "        ...,\n",
       "        [-1.34999990e+00],\n",
       "        [ 0.00000000e+00],\n",
       "        [ 1.41719000e+05]],\n",
       "\n",
       "       [[ 9.05000019e+00],\n",
       "        [ 1.20774996e+00],\n",
       "        [ 2.01567505e+03],\n",
       "        ...,\n",
       "        [-1.17499995e+00],\n",
       "        [ 0.00000000e+00],\n",
       "        [ 1.45319000e+05]]])\n",
       "Coordinates:\n",
       "  * ds         (ds) datetime64[ns] 2023-05-01 ... 2023-07-03T23:00:00\n",
       "  * component  (component) object 'absolute_humidity_2m:gm3' ... 'time_diff'\n",
       "Dimensions without coordinates: sample\n",
       "Attributes:\n",
       "    static_covariates:  static_covariates  location\\nglobal_components       0.0\n",
       "    hierarchy:          None"
      ]
     },
     "execution_count": 165,
     "metadata": {},
     "output_type": "execute_result"
    }
   ],
   "source": [
    "covariate_future[0]"
   ]
  },
  {
   "cell_type": "code",
   "execution_count": 166,
   "metadata": {},
   "outputs": [
    {
     "data": {
      "text/plain": [
       "Index(['absolute_humidity_2m:gm3', 'air_density_2m:kgm3',\n",
       "       'ceiling_height_agl:m', 'clear_sky_energy_1h:J', 'clear_sky_rad:W',\n",
       "       'cloud_base_agl:m', 'dew_or_rime:idx', 'dew_point_2m:K',\n",
       "       'diffuse_rad:W', 'diffuse_rad_1h:J', 'direct_rad:W', 'direct_rad_1h:J',\n",
       "       'effective_cloud_cover:p', 'elevation:m', 'fresh_snow_12h:cm',\n",
       "       'fresh_snow_1h:cm', 'fresh_snow_24h:cm', 'fresh_snow_3h:cm',\n",
       "       'fresh_snow_6h:cm', 'is_day:idx', 'is_in_shadow:idx',\n",
       "       'msl_pressure:hPa', 'precip_5min:mm', 'precip_type_5min:idx',\n",
       "       'pressure_100m:hPa', 'pressure_50m:hPa', 'prob_rime:p',\n",
       "       'rain_water:kgm2', 'relative_humidity_1000hPa:p', 'sfc_pressure:hPa',\n",
       "       'snow_density:kgm3', 'snow_depth:cm', 'snow_drift:idx',\n",
       "       'snow_melt_10min:mm', 'snow_water:kgm2', 'sun_azimuth:d',\n",
       "       'sun_elevation:d', 'super_cooled_liquid_water:kgm2', 't_1000hPa:K',\n",
       "       'total_cloud_cover:p', 'visibility:m', 'wind_speed_10m:ms',\n",
       "       'wind_speed_u_10m:ms', 'wind_speed_v_10m:ms', 'wind_speed_w_1000hPa:ms',\n",
       "       'time_diff', 'y'],\n",
       "      dtype='object', name='component')"
      ]
     },
     "execution_count": 166,
     "metadata": {},
     "output_type": "execute_result"
    }
   ],
   "source": [
    "train_series[i].columns"
   ]
  },
  {
   "cell_type": "code",
   "execution_count": 167,
   "metadata": {},
   "outputs": [
    {
     "data": {
      "text/html": [
       "<div><svg style=\"position: absolute; width: 0; height: 0; overflow: hidden\">\n",
       "<defs>\n",
       "<symbol id=\"icon-database\" viewBox=\"0 0 32 32\">\n",
       "<path d=\"M16 0c-8.837 0-16 2.239-16 5v4c0 2.761 7.163 5 16 5s16-2.239 16-5v-4c0-2.761-7.163-5-16-5z\"></path>\n",
       "<path d=\"M16 17c-8.837 0-16-2.239-16-5v6c0 2.761 7.163 5 16 5s16-2.239 16-5v-6c0 2.761-7.163 5-16 5z\"></path>\n",
       "<path d=\"M16 26c-8.837 0-16-2.239-16-5v6c0 2.761 7.163 5 16 5s16-2.239 16-5v-6c0 2.761-7.163 5-16 5z\"></path>\n",
       "</symbol>\n",
       "<symbol id=\"icon-file-text2\" viewBox=\"0 0 32 32\">\n",
       "<path d=\"M28.681 7.159c-0.694-0.947-1.662-2.053-2.724-3.116s-2.169-2.030-3.116-2.724c-1.612-1.182-2.393-1.319-2.841-1.319h-15.5c-1.378 0-2.5 1.121-2.5 2.5v27c0 1.378 1.122 2.5 2.5 2.5h23c1.378 0 2.5-1.122 2.5-2.5v-19.5c0-0.448-0.137-1.23-1.319-2.841zM24.543 5.457c0.959 0.959 1.712 1.825 2.268 2.543h-4.811v-4.811c0.718 0.556 1.584 1.309 2.543 2.268zM28 29.5c0 0.271-0.229 0.5-0.5 0.5h-23c-0.271 0-0.5-0.229-0.5-0.5v-27c0-0.271 0.229-0.5 0.5-0.5 0 0 15.499-0 15.5 0v7c0 0.552 0.448 1 1 1h7v19.5z\"></path>\n",
       "<path d=\"M23 26h-14c-0.552 0-1-0.448-1-1s0.448-1 1-1h14c0.552 0 1 0.448 1 1s-0.448 1-1 1z\"></path>\n",
       "<path d=\"M23 22h-14c-0.552 0-1-0.448-1-1s0.448-1 1-1h14c0.552 0 1 0.448 1 1s-0.448 1-1 1z\"></path>\n",
       "<path d=\"M23 18h-14c-0.552 0-1-0.448-1-1s0.448-1 1-1h14c0.552 0 1 0.448 1 1s-0.448 1-1 1z\"></path>\n",
       "</symbol>\n",
       "</defs>\n",
       "</svg>\n",
       "<style>/* CSS stylesheet for displaying xarray objects in jupyterlab.\n",
       " *\n",
       " */\n",
       "\n",
       ":root {\n",
       "  --xr-font-color0: var(--jp-content-font-color0, rgba(0, 0, 0, 1));\n",
       "  --xr-font-color2: var(--jp-content-font-color2, rgba(0, 0, 0, 0.54));\n",
       "  --xr-font-color3: var(--jp-content-font-color3, rgba(0, 0, 0, 0.38));\n",
       "  --xr-border-color: var(--jp-border-color2, #e0e0e0);\n",
       "  --xr-disabled-color: var(--jp-layout-color3, #bdbdbd);\n",
       "  --xr-background-color: var(--jp-layout-color0, white);\n",
       "  --xr-background-color-row-even: var(--jp-layout-color1, white);\n",
       "  --xr-background-color-row-odd: var(--jp-layout-color2, #eeeeee);\n",
       "}\n",
       "\n",
       "html[theme=dark],\n",
       "body[data-theme=dark],\n",
       "body.vscode-dark {\n",
       "  --xr-font-color0: rgba(255, 255, 255, 1);\n",
       "  --xr-font-color2: rgba(255, 255, 255, 0.54);\n",
       "  --xr-font-color3: rgba(255, 255, 255, 0.38);\n",
       "  --xr-border-color: #1F1F1F;\n",
       "  --xr-disabled-color: #515151;\n",
       "  --xr-background-color: #111111;\n",
       "  --xr-background-color-row-even: #111111;\n",
       "  --xr-background-color-row-odd: #313131;\n",
       "}\n",
       "\n",
       ".xr-wrap {\n",
       "  display: block !important;\n",
       "  min-width: 300px;\n",
       "  max-width: 700px;\n",
       "}\n",
       "\n",
       ".xr-text-repr-fallback {\n",
       "  /* fallback to plain text repr when CSS is not injected (untrusted notebook) */\n",
       "  display: none;\n",
       "}\n",
       "\n",
       ".xr-header {\n",
       "  padding-top: 6px;\n",
       "  padding-bottom: 6px;\n",
       "  margin-bottom: 4px;\n",
       "  border-bottom: solid 1px var(--xr-border-color);\n",
       "}\n",
       "\n",
       ".xr-header > div,\n",
       ".xr-header > ul {\n",
       "  display: inline;\n",
       "  margin-top: 0;\n",
       "  margin-bottom: 0;\n",
       "}\n",
       "\n",
       ".xr-obj-type,\n",
       ".xr-array-name {\n",
       "  margin-left: 2px;\n",
       "  margin-right: 10px;\n",
       "}\n",
       "\n",
       ".xr-obj-type {\n",
       "  color: var(--xr-font-color2);\n",
       "}\n",
       "\n",
       ".xr-sections {\n",
       "  padding-left: 0 !important;\n",
       "  display: grid;\n",
       "  grid-template-columns: 150px auto auto 1fr 20px 20px;\n",
       "}\n",
       "\n",
       ".xr-section-item {\n",
       "  display: contents;\n",
       "}\n",
       "\n",
       ".xr-section-item input {\n",
       "  display: none;\n",
       "}\n",
       "\n",
       ".xr-section-item input + label {\n",
       "  color: var(--xr-disabled-color);\n",
       "}\n",
       "\n",
       ".xr-section-item input:enabled + label {\n",
       "  cursor: pointer;\n",
       "  color: var(--xr-font-color2);\n",
       "}\n",
       "\n",
       ".xr-section-item input:enabled + label:hover {\n",
       "  color: var(--xr-font-color0);\n",
       "}\n",
       "\n",
       ".xr-section-summary {\n",
       "  grid-column: 1;\n",
       "  color: var(--xr-font-color2);\n",
       "  font-weight: 500;\n",
       "}\n",
       "\n",
       ".xr-section-summary > span {\n",
       "  display: inline-block;\n",
       "  padding-left: 0.5em;\n",
       "}\n",
       "\n",
       ".xr-section-summary-in:disabled + label {\n",
       "  color: var(--xr-font-color2);\n",
       "}\n",
       "\n",
       ".xr-section-summary-in + label:before {\n",
       "  display: inline-block;\n",
       "  content: '►';\n",
       "  font-size: 11px;\n",
       "  width: 15px;\n",
       "  text-align: center;\n",
       "}\n",
       "\n",
       ".xr-section-summary-in:disabled + label:before {\n",
       "  color: var(--xr-disabled-color);\n",
       "}\n",
       "\n",
       ".xr-section-summary-in:checked + label:before {\n",
       "  content: '▼';\n",
       "}\n",
       "\n",
       ".xr-section-summary-in:checked + label > span {\n",
       "  display: none;\n",
       "}\n",
       "\n",
       ".xr-section-summary,\n",
       ".xr-section-inline-details {\n",
       "  padding-top: 4px;\n",
       "  padding-bottom: 4px;\n",
       "}\n",
       "\n",
       ".xr-section-inline-details {\n",
       "  grid-column: 2 / -1;\n",
       "}\n",
       "\n",
       ".xr-section-details {\n",
       "  display: none;\n",
       "  grid-column: 1 / -1;\n",
       "  margin-bottom: 5px;\n",
       "}\n",
       "\n",
       ".xr-section-summary-in:checked ~ .xr-section-details {\n",
       "  display: contents;\n",
       "}\n",
       "\n",
       ".xr-array-wrap {\n",
       "  grid-column: 1 / -1;\n",
       "  display: grid;\n",
       "  grid-template-columns: 20px auto;\n",
       "}\n",
       "\n",
       ".xr-array-wrap > label {\n",
       "  grid-column: 1;\n",
       "  vertical-align: top;\n",
       "}\n",
       "\n",
       ".xr-preview {\n",
       "  color: var(--xr-font-color3);\n",
       "}\n",
       "\n",
       ".xr-array-preview,\n",
       ".xr-array-data {\n",
       "  padding: 0 5px !important;\n",
       "  grid-column: 2;\n",
       "}\n",
       "\n",
       ".xr-array-data,\n",
       ".xr-array-in:checked ~ .xr-array-preview {\n",
       "  display: none;\n",
       "}\n",
       "\n",
       ".xr-array-in:checked ~ .xr-array-data,\n",
       ".xr-array-preview {\n",
       "  display: inline-block;\n",
       "}\n",
       "\n",
       ".xr-dim-list {\n",
       "  display: inline-block !important;\n",
       "  list-style: none;\n",
       "  padding: 0 !important;\n",
       "  margin: 0;\n",
       "}\n",
       "\n",
       ".xr-dim-list li {\n",
       "  display: inline-block;\n",
       "  padding: 0;\n",
       "  margin: 0;\n",
       "}\n",
       "\n",
       ".xr-dim-list:before {\n",
       "  content: '(';\n",
       "}\n",
       "\n",
       ".xr-dim-list:after {\n",
       "  content: ')';\n",
       "}\n",
       "\n",
       ".xr-dim-list li:not(:last-child):after {\n",
       "  content: ',';\n",
       "  padding-right: 5px;\n",
       "}\n",
       "\n",
       ".xr-has-index {\n",
       "  font-weight: bold;\n",
       "}\n",
       "\n",
       ".xr-var-list,\n",
       ".xr-var-item {\n",
       "  display: contents;\n",
       "}\n",
       "\n",
       ".xr-var-item > div,\n",
       ".xr-var-item label,\n",
       ".xr-var-item > .xr-var-name span {\n",
       "  background-color: var(--xr-background-color-row-even);\n",
       "  margin-bottom: 0;\n",
       "}\n",
       "\n",
       ".xr-var-item > .xr-var-name:hover span {\n",
       "  padding-right: 5px;\n",
       "}\n",
       "\n",
       ".xr-var-list > li:nth-child(odd) > div,\n",
       ".xr-var-list > li:nth-child(odd) > label,\n",
       ".xr-var-list > li:nth-child(odd) > .xr-var-name span {\n",
       "  background-color: var(--xr-background-color-row-odd);\n",
       "}\n",
       "\n",
       ".xr-var-name {\n",
       "  grid-column: 1;\n",
       "}\n",
       "\n",
       ".xr-var-dims {\n",
       "  grid-column: 2;\n",
       "}\n",
       "\n",
       ".xr-var-dtype {\n",
       "  grid-column: 3;\n",
       "  text-align: right;\n",
       "  color: var(--xr-font-color2);\n",
       "}\n",
       "\n",
       ".xr-var-preview {\n",
       "  grid-column: 4;\n",
       "}\n",
       "\n",
       ".xr-index-preview {\n",
       "  grid-column: 2 / 5;\n",
       "  color: var(--xr-font-color2);\n",
       "}\n",
       "\n",
       ".xr-var-name,\n",
       ".xr-var-dims,\n",
       ".xr-var-dtype,\n",
       ".xr-preview,\n",
       ".xr-attrs dt {\n",
       "  white-space: nowrap;\n",
       "  overflow: hidden;\n",
       "  text-overflow: ellipsis;\n",
       "  padding-right: 10px;\n",
       "}\n",
       "\n",
       ".xr-var-name:hover,\n",
       ".xr-var-dims:hover,\n",
       ".xr-var-dtype:hover,\n",
       ".xr-attrs dt:hover {\n",
       "  overflow: visible;\n",
       "  width: auto;\n",
       "  z-index: 1;\n",
       "}\n",
       "\n",
       ".xr-var-attrs,\n",
       ".xr-var-data,\n",
       ".xr-index-data {\n",
       "  display: none;\n",
       "  background-color: var(--xr-background-color) !important;\n",
       "  padding-bottom: 5px !important;\n",
       "}\n",
       "\n",
       ".xr-var-attrs-in:checked ~ .xr-var-attrs,\n",
       ".xr-var-data-in:checked ~ .xr-var-data,\n",
       ".xr-index-data-in:checked ~ .xr-index-data {\n",
       "  display: block;\n",
       "}\n",
       "\n",
       ".xr-var-data > table {\n",
       "  float: right;\n",
       "}\n",
       "\n",
       ".xr-var-name span,\n",
       ".xr-var-data,\n",
       ".xr-index-name div,\n",
       ".xr-index-data,\n",
       ".xr-attrs {\n",
       "  padding-left: 25px !important;\n",
       "}\n",
       "\n",
       ".xr-attrs,\n",
       ".xr-var-attrs,\n",
       ".xr-var-data,\n",
       ".xr-index-data {\n",
       "  grid-column: 1 / -1;\n",
       "}\n",
       "\n",
       "dl.xr-attrs {\n",
       "  padding: 0;\n",
       "  margin: 0;\n",
       "  display: grid;\n",
       "  grid-template-columns: 125px auto;\n",
       "}\n",
       "\n",
       ".xr-attrs dt,\n",
       ".xr-attrs dd {\n",
       "  padding: 0;\n",
       "  margin: 0;\n",
       "  float: left;\n",
       "  padding-right: 10px;\n",
       "  width: auto;\n",
       "}\n",
       "\n",
       ".xr-attrs dt {\n",
       "  font-weight: normal;\n",
       "  grid-column: 1;\n",
       "}\n",
       "\n",
       ".xr-attrs dt:hover span {\n",
       "  display: inline-block;\n",
       "  background: var(--xr-background-color);\n",
       "  padding-right: 10px;\n",
       "}\n",
       "\n",
       ".xr-attrs dd {\n",
       "  grid-column: 2;\n",
       "  white-space: pre-wrap;\n",
       "  word-break: break-all;\n",
       "}\n",
       "\n",
       ".xr-icon-database,\n",
       ".xr-icon-file-text2,\n",
       ".xr-no-icon {\n",
       "  display: inline-block;\n",
       "  vertical-align: middle;\n",
       "  width: 1em;\n",
       "  height: 1.5em !important;\n",
       "  stroke-width: 0;\n",
       "  stroke: currentColor;\n",
       "  fill: currentColor;\n",
       "}\n",
       "</style><pre class='xr-text-repr-fallback'>&lt;TimeSeries (DataArray) (ds: 1, component: 1, sample: 1)&gt;\n",
       "array([[[5733.42]]])\n",
       "Coordinates:\n",
       "  * ds         (ds) datetime64[ns] 2019-06-02T22:00:00\n",
       "  * component  (component) object &#x27;y&#x27;\n",
       "Dimensions without coordinates: sample\n",
       "Attributes:\n",
       "    static_covariates:  static_covariates  location\\ncomponent               ...\n",
       "    hierarchy:          None</pre><div class='xr-wrap' style='display:none'><div class='xr-header'><div class='xr-obj-type'>TimeSeries (DataArray)</div><div class='xr-array-name'></div><ul class='xr-dim-list'><li><span class='xr-has-index'>ds</span>: 1</li><li><span class='xr-has-index'>component</span>: 1</li><li><span>sample</span>: 1</li></ul></div><ul class='xr-sections'><li class='xr-section-item'><div class='xr-array-wrap'><input id='section-9b2f8942-0c57-4f77-88e0-b414ca451bd4' class='xr-array-in' type='checkbox' checked><label for='section-9b2f8942-0c57-4f77-88e0-b414ca451bd4' title='Show/hide data repr'><svg class='icon xr-icon-database'><use xlink:href='#icon-database'></use></svg></label><div class='xr-array-preview xr-preview'><span>5.733e+03</span></div><div class='xr-array-data'><pre>array([[[5733.42]]])</pre></div></div></li><li class='xr-section-item'><input id='section-db41332d-5de5-4057-90ab-2b0642b8c1d0' class='xr-section-summary-in' type='checkbox'  checked><label for='section-db41332d-5de5-4057-90ab-2b0642b8c1d0' class='xr-section-summary' >Coordinates: <span>(2)</span></label><div class='xr-section-inline-details'></div><div class='xr-section-details'><ul class='xr-var-list'><li class='xr-var-item'><div class='xr-var-name'><span class='xr-has-index'>ds</span></div><div class='xr-var-dims'>(ds)</div><div class='xr-var-dtype'>datetime64[ns]</div><div class='xr-var-preview xr-preview'>2019-06-02T22:00:00</div><input id='attrs-beca828a-7c54-4950-8aac-95c19575dd89' class='xr-var-attrs-in' type='checkbox' disabled><label for='attrs-beca828a-7c54-4950-8aac-95c19575dd89' title='Show/Hide attributes'><svg class='icon xr-icon-file-text2'><use xlink:href='#icon-file-text2'></use></svg></label><input id='data-b14decf1-0834-452c-aed0-b5119f76795b' class='xr-var-data-in' type='checkbox'><label for='data-b14decf1-0834-452c-aed0-b5119f76795b' title='Show/Hide data repr'><svg class='icon xr-icon-database'><use xlink:href='#icon-database'></use></svg></label><div class='xr-var-attrs'><dl class='xr-attrs'></dl></div><div class='xr-var-data'><pre>array([&#x27;2019-06-02T22:00:00.000000000&#x27;], dtype=&#x27;datetime64[ns]&#x27;)</pre></div></li><li class='xr-var-item'><div class='xr-var-name'><span class='xr-has-index'>component</span></div><div class='xr-var-dims'>(component)</div><div class='xr-var-dtype'>object</div><div class='xr-var-preview xr-preview'>&#x27;y&#x27;</div><input id='attrs-731dd388-dce0-4a53-b2ae-ddc30f79c7c0' class='xr-var-attrs-in' type='checkbox' disabled><label for='attrs-731dd388-dce0-4a53-b2ae-ddc30f79c7c0' title='Show/Hide attributes'><svg class='icon xr-icon-file-text2'><use xlink:href='#icon-file-text2'></use></svg></label><input id='data-d4165b65-f0ca-440e-a845-534ab71c5066' class='xr-var-data-in' type='checkbox'><label for='data-d4165b65-f0ca-440e-a845-534ab71c5066' title='Show/Hide data repr'><svg class='icon xr-icon-database'><use xlink:href='#icon-database'></use></svg></label><div class='xr-var-attrs'><dl class='xr-attrs'></dl></div><div class='xr-var-data'><pre>array([&#x27;y&#x27;], dtype=object)</pre></div></li></ul></div></li><li class='xr-section-item'><input id='section-fcad756b-edab-4aa5-9360-2d8989f06fe7' class='xr-section-summary-in' type='checkbox'  ><label for='section-fcad756b-edab-4aa5-9360-2d8989f06fe7' class='xr-section-summary' >Indexes: <span>(2)</span></label><div class='xr-section-inline-details'></div><div class='xr-section-details'><ul class='xr-var-list'><li class='xr-var-item'><div class='xr-index-name'><div>ds</div></div><div class='xr-index-preview'>PandasIndex</div><div></div><input id='index-2c95b80e-3081-4745-8400-faf6bcefd4aa' class='xr-index-data-in' type='checkbox'/><label for='index-2c95b80e-3081-4745-8400-faf6bcefd4aa' title='Show/Hide index repr'><svg class='icon xr-icon-database'><use xlink:href='#icon-database'></use></svg></label><div class='xr-index-data'><pre>PandasIndex(DatetimeIndex([&#x27;2019-06-02 22:00:00&#x27;], dtype=&#x27;datetime64[ns]&#x27;, name=&#x27;ds&#x27;, freq=&#x27;H&#x27;))</pre></div></li><li class='xr-var-item'><div class='xr-index-name'><div>component</div></div><div class='xr-index-preview'>PandasIndex</div><div></div><input id='index-2ea88755-dedf-45f1-8872-1eebe4fce400' class='xr-index-data-in' type='checkbox'/><label for='index-2ea88755-dedf-45f1-8872-1eebe4fce400' title='Show/Hide index repr'><svg class='icon xr-icon-database'><use xlink:href='#icon-database'></use></svg></label><div class='xr-index-data'><pre>PandasIndex(Index([&#x27;y&#x27;], dtype=&#x27;object&#x27;, name=&#x27;component&#x27;))</pre></div></li></ul></div></li><li class='xr-section-item'><input id='section-f52b9ac9-978a-48a3-93f5-d5512f00f081' class='xr-section-summary-in' type='checkbox'  checked><label for='section-f52b9ac9-978a-48a3-93f5-d5512f00f081' class='xr-section-summary' >Attributes: <span>(2)</span></label><div class='xr-section-inline-details'></div><div class='xr-section-details'><dl class='xr-attrs'><dt><span>static_covariates :</span></dt><dd>static_covariates  location\n",
       "component                  \n",
       "y                       0.0</dd><dt><span>hierarchy :</span></dt><dd>None</dd></dl></div></li></ul></div></div>"
      ],
      "text/plain": [
       "<TimeSeries (DataArray) (ds: 1, component: 1, sample: 1)>\n",
       "array([[[5733.42]]])\n",
       "Coordinates:\n",
       "  * ds         (ds) datetime64[ns] 2019-06-02T22:00:00\n",
       "  * component  (component) object 'y'\n",
       "Dimensions without coordinates: sample\n",
       "Attributes:\n",
       "    static_covariates:  static_covariates  location\\ncomponent               ...\n",
       "    hierarchy:          None"
      ]
     },
     "execution_count": 167,
     "metadata": {},
     "output_type": "execute_result"
    }
   ],
   "source": [
    "# check gaps\n",
    "import numpy as np\n",
    "train_series[i][\"y\"].map(lambda ndarray: np.nan_to_num(ndarray)).max(0)"
   ]
  },
  {
   "cell_type": "code",
   "execution_count": 168,
   "metadata": {},
   "outputs": [
    {
     "name": "stdout",
     "output_type": "stream",
     "text": [
      "False\n",
      "True\n"
     ]
    }
   ],
   "source": [
    "print(train_series[i].is_univariate)\n",
    "print(train_series[i][\"y\"].is_univariate)"
   ]
  },
  {
   "cell_type": "code",
   "execution_count": 169,
   "metadata": {},
   "outputs": [],
   "source": [
    "# workaround dropna\n",
    "def create_multiple_non_nan_series(series, minimum_length=24*7):\n",
    "    df = series.pd_dataframe()\n",
    "    df.dropna(inplace=True)\n",
    "    new_timeseries = TimeSeries.from_dataframe(df=df, freq=\"H\", fill_missing_dates=False, fillna_value=None, value_cols=None)\n",
    "    \n",
    "    # Get the gaps DataFrame\n",
    "    gaps_df = new_timeseries.gaps()\n",
    "    \n",
    "    # Create a list to store the resulting TimeSeries slices\n",
    "    series_list = []\n",
    "    \n",
    "    # Initialize the start date for the first slice\n",
    "    slice_start = new_timeseries.start_time()\n",
    "    \n",
    "    # Iterate through the rows in the gaps DataFrame\n",
    "    for index, row in gaps_df.iterrows():\n",
    "        gap_start, gap_end = row['gap_start'], row['gap_end']\n",
    "        \n",
    "        # Create a new slice from slice_start to gap_start - 1 freq\n",
    "        slice_end = gap_start - pd.Timedelta(hours=1)\n",
    "        sliced_series = new_timeseries.slice(slice_start, slice_end)\n",
    "        #print(sliced_series.gaps(), \"HEIEH\",sliced_series.start_time(), sliced_series.end_time())\n",
    "        #print(sliced_series.head(1))\n",
    "        \n",
    "        # Append the slice to the list\n",
    "        if len(sliced_series) >= minimum_length:\n",
    "            series_list.append(sliced_series)\n",
    "        \n",
    "        # Update slice_start for the next iteration\n",
    "        slice_start = gap_end + pd.Timedelta(hours=1)\n",
    "    \n",
    "    # Handle the slice after the last gap\n",
    "    slice_end = new_timeseries.end_time()\n",
    "    sliced_series = new_timeseries.slice(slice_start, slice_end)\n",
    "    #print(sliced_series.gaps(), \"HEIEH\",sliced_series.start_time(), sliced_series.end_time())\n",
    "    series_list.append(sliced_series)\n",
    "    \n",
    "    return series_list"
   ]
  },
  {
   "cell_type": "code",
   "execution_count": 170,
   "metadata": {},
   "outputs": [
    {
     "data": {
      "text/html": [
       "<div><svg style=\"position: absolute; width: 0; height: 0; overflow: hidden\">\n",
       "<defs>\n",
       "<symbol id=\"icon-database\" viewBox=\"0 0 32 32\">\n",
       "<path d=\"M16 0c-8.837 0-16 2.239-16 5v4c0 2.761 7.163 5 16 5s16-2.239 16-5v-4c0-2.761-7.163-5-16-5z\"></path>\n",
       "<path d=\"M16 17c-8.837 0-16-2.239-16-5v6c0 2.761 7.163 5 16 5s16-2.239 16-5v-6c0 2.761-7.163 5-16 5z\"></path>\n",
       "<path d=\"M16 26c-8.837 0-16-2.239-16-5v6c0 2.761 7.163 5 16 5s16-2.239 16-5v-6c0 2.761-7.163 5-16 5z\"></path>\n",
       "</symbol>\n",
       "<symbol id=\"icon-file-text2\" viewBox=\"0 0 32 32\">\n",
       "<path d=\"M28.681 7.159c-0.694-0.947-1.662-2.053-2.724-3.116s-2.169-2.030-3.116-2.724c-1.612-1.182-2.393-1.319-2.841-1.319h-15.5c-1.378 0-2.5 1.121-2.5 2.5v27c0 1.378 1.122 2.5 2.5 2.5h23c1.378 0 2.5-1.122 2.5-2.5v-19.5c0-0.448-0.137-1.23-1.319-2.841zM24.543 5.457c0.959 0.959 1.712 1.825 2.268 2.543h-4.811v-4.811c0.718 0.556 1.584 1.309 2.543 2.268zM28 29.5c0 0.271-0.229 0.5-0.5 0.5h-23c-0.271 0-0.5-0.229-0.5-0.5v-27c0-0.271 0.229-0.5 0.5-0.5 0 0 15.499-0 15.5 0v7c0 0.552 0.448 1 1 1h7v19.5z\"></path>\n",
       "<path d=\"M23 26h-14c-0.552 0-1-0.448-1-1s0.448-1 1-1h14c0.552 0 1 0.448 1 1s-0.448 1-1 1z\"></path>\n",
       "<path d=\"M23 22h-14c-0.552 0-1-0.448-1-1s0.448-1 1-1h14c0.552 0 1 0.448 1 1s-0.448 1-1 1z\"></path>\n",
       "<path d=\"M23 18h-14c-0.552 0-1-0.448-1-1s0.448-1 1-1h14c0.552 0 1 0.448 1 1s-0.448 1-1 1z\"></path>\n",
       "</symbol>\n",
       "</defs>\n",
       "</svg>\n",
       "<style>/* CSS stylesheet for displaying xarray objects in jupyterlab.\n",
       " *\n",
       " */\n",
       "\n",
       ":root {\n",
       "  --xr-font-color0: var(--jp-content-font-color0, rgba(0, 0, 0, 1));\n",
       "  --xr-font-color2: var(--jp-content-font-color2, rgba(0, 0, 0, 0.54));\n",
       "  --xr-font-color3: var(--jp-content-font-color3, rgba(0, 0, 0, 0.38));\n",
       "  --xr-border-color: var(--jp-border-color2, #e0e0e0);\n",
       "  --xr-disabled-color: var(--jp-layout-color3, #bdbdbd);\n",
       "  --xr-background-color: var(--jp-layout-color0, white);\n",
       "  --xr-background-color-row-even: var(--jp-layout-color1, white);\n",
       "  --xr-background-color-row-odd: var(--jp-layout-color2, #eeeeee);\n",
       "}\n",
       "\n",
       "html[theme=dark],\n",
       "body[data-theme=dark],\n",
       "body.vscode-dark {\n",
       "  --xr-font-color0: rgba(255, 255, 255, 1);\n",
       "  --xr-font-color2: rgba(255, 255, 255, 0.54);\n",
       "  --xr-font-color3: rgba(255, 255, 255, 0.38);\n",
       "  --xr-border-color: #1F1F1F;\n",
       "  --xr-disabled-color: #515151;\n",
       "  --xr-background-color: #111111;\n",
       "  --xr-background-color-row-even: #111111;\n",
       "  --xr-background-color-row-odd: #313131;\n",
       "}\n",
       "\n",
       ".xr-wrap {\n",
       "  display: block !important;\n",
       "  min-width: 300px;\n",
       "  max-width: 700px;\n",
       "}\n",
       "\n",
       ".xr-text-repr-fallback {\n",
       "  /* fallback to plain text repr when CSS is not injected (untrusted notebook) */\n",
       "  display: none;\n",
       "}\n",
       "\n",
       ".xr-header {\n",
       "  padding-top: 6px;\n",
       "  padding-bottom: 6px;\n",
       "  margin-bottom: 4px;\n",
       "  border-bottom: solid 1px var(--xr-border-color);\n",
       "}\n",
       "\n",
       ".xr-header > div,\n",
       ".xr-header > ul {\n",
       "  display: inline;\n",
       "  margin-top: 0;\n",
       "  margin-bottom: 0;\n",
       "}\n",
       "\n",
       ".xr-obj-type,\n",
       ".xr-array-name {\n",
       "  margin-left: 2px;\n",
       "  margin-right: 10px;\n",
       "}\n",
       "\n",
       ".xr-obj-type {\n",
       "  color: var(--xr-font-color2);\n",
       "}\n",
       "\n",
       ".xr-sections {\n",
       "  padding-left: 0 !important;\n",
       "  display: grid;\n",
       "  grid-template-columns: 150px auto auto 1fr 20px 20px;\n",
       "}\n",
       "\n",
       ".xr-section-item {\n",
       "  display: contents;\n",
       "}\n",
       "\n",
       ".xr-section-item input {\n",
       "  display: none;\n",
       "}\n",
       "\n",
       ".xr-section-item input + label {\n",
       "  color: var(--xr-disabled-color);\n",
       "}\n",
       "\n",
       ".xr-section-item input:enabled + label {\n",
       "  cursor: pointer;\n",
       "  color: var(--xr-font-color2);\n",
       "}\n",
       "\n",
       ".xr-section-item input:enabled + label:hover {\n",
       "  color: var(--xr-font-color0);\n",
       "}\n",
       "\n",
       ".xr-section-summary {\n",
       "  grid-column: 1;\n",
       "  color: var(--xr-font-color2);\n",
       "  font-weight: 500;\n",
       "}\n",
       "\n",
       ".xr-section-summary > span {\n",
       "  display: inline-block;\n",
       "  padding-left: 0.5em;\n",
       "}\n",
       "\n",
       ".xr-section-summary-in:disabled + label {\n",
       "  color: var(--xr-font-color2);\n",
       "}\n",
       "\n",
       ".xr-section-summary-in + label:before {\n",
       "  display: inline-block;\n",
       "  content: '►';\n",
       "  font-size: 11px;\n",
       "  width: 15px;\n",
       "  text-align: center;\n",
       "}\n",
       "\n",
       ".xr-section-summary-in:disabled + label:before {\n",
       "  color: var(--xr-disabled-color);\n",
       "}\n",
       "\n",
       ".xr-section-summary-in:checked + label:before {\n",
       "  content: '▼';\n",
       "}\n",
       "\n",
       ".xr-section-summary-in:checked + label > span {\n",
       "  display: none;\n",
       "}\n",
       "\n",
       ".xr-section-summary,\n",
       ".xr-section-inline-details {\n",
       "  padding-top: 4px;\n",
       "  padding-bottom: 4px;\n",
       "}\n",
       "\n",
       ".xr-section-inline-details {\n",
       "  grid-column: 2 / -1;\n",
       "}\n",
       "\n",
       ".xr-section-details {\n",
       "  display: none;\n",
       "  grid-column: 1 / -1;\n",
       "  margin-bottom: 5px;\n",
       "}\n",
       "\n",
       ".xr-section-summary-in:checked ~ .xr-section-details {\n",
       "  display: contents;\n",
       "}\n",
       "\n",
       ".xr-array-wrap {\n",
       "  grid-column: 1 / -1;\n",
       "  display: grid;\n",
       "  grid-template-columns: 20px auto;\n",
       "}\n",
       "\n",
       ".xr-array-wrap > label {\n",
       "  grid-column: 1;\n",
       "  vertical-align: top;\n",
       "}\n",
       "\n",
       ".xr-preview {\n",
       "  color: var(--xr-font-color3);\n",
       "}\n",
       "\n",
       ".xr-array-preview,\n",
       ".xr-array-data {\n",
       "  padding: 0 5px !important;\n",
       "  grid-column: 2;\n",
       "}\n",
       "\n",
       ".xr-array-data,\n",
       ".xr-array-in:checked ~ .xr-array-preview {\n",
       "  display: none;\n",
       "}\n",
       "\n",
       ".xr-array-in:checked ~ .xr-array-data,\n",
       ".xr-array-preview {\n",
       "  display: inline-block;\n",
       "}\n",
       "\n",
       ".xr-dim-list {\n",
       "  display: inline-block !important;\n",
       "  list-style: none;\n",
       "  padding: 0 !important;\n",
       "  margin: 0;\n",
       "}\n",
       "\n",
       ".xr-dim-list li {\n",
       "  display: inline-block;\n",
       "  padding: 0;\n",
       "  margin: 0;\n",
       "}\n",
       "\n",
       ".xr-dim-list:before {\n",
       "  content: '(';\n",
       "}\n",
       "\n",
       ".xr-dim-list:after {\n",
       "  content: ')';\n",
       "}\n",
       "\n",
       ".xr-dim-list li:not(:last-child):after {\n",
       "  content: ',';\n",
       "  padding-right: 5px;\n",
       "}\n",
       "\n",
       ".xr-has-index {\n",
       "  font-weight: bold;\n",
       "}\n",
       "\n",
       ".xr-var-list,\n",
       ".xr-var-item {\n",
       "  display: contents;\n",
       "}\n",
       "\n",
       ".xr-var-item > div,\n",
       ".xr-var-item label,\n",
       ".xr-var-item > .xr-var-name span {\n",
       "  background-color: var(--xr-background-color-row-even);\n",
       "  margin-bottom: 0;\n",
       "}\n",
       "\n",
       ".xr-var-item > .xr-var-name:hover span {\n",
       "  padding-right: 5px;\n",
       "}\n",
       "\n",
       ".xr-var-list > li:nth-child(odd) > div,\n",
       ".xr-var-list > li:nth-child(odd) > label,\n",
       ".xr-var-list > li:nth-child(odd) > .xr-var-name span {\n",
       "  background-color: var(--xr-background-color-row-odd);\n",
       "}\n",
       "\n",
       ".xr-var-name {\n",
       "  grid-column: 1;\n",
       "}\n",
       "\n",
       ".xr-var-dims {\n",
       "  grid-column: 2;\n",
       "}\n",
       "\n",
       ".xr-var-dtype {\n",
       "  grid-column: 3;\n",
       "  text-align: right;\n",
       "  color: var(--xr-font-color2);\n",
       "}\n",
       "\n",
       ".xr-var-preview {\n",
       "  grid-column: 4;\n",
       "}\n",
       "\n",
       ".xr-index-preview {\n",
       "  grid-column: 2 / 5;\n",
       "  color: var(--xr-font-color2);\n",
       "}\n",
       "\n",
       ".xr-var-name,\n",
       ".xr-var-dims,\n",
       ".xr-var-dtype,\n",
       ".xr-preview,\n",
       ".xr-attrs dt {\n",
       "  white-space: nowrap;\n",
       "  overflow: hidden;\n",
       "  text-overflow: ellipsis;\n",
       "  padding-right: 10px;\n",
       "}\n",
       "\n",
       ".xr-var-name:hover,\n",
       ".xr-var-dims:hover,\n",
       ".xr-var-dtype:hover,\n",
       ".xr-attrs dt:hover {\n",
       "  overflow: visible;\n",
       "  width: auto;\n",
       "  z-index: 1;\n",
       "}\n",
       "\n",
       ".xr-var-attrs,\n",
       ".xr-var-data,\n",
       ".xr-index-data {\n",
       "  display: none;\n",
       "  background-color: var(--xr-background-color) !important;\n",
       "  padding-bottom: 5px !important;\n",
       "}\n",
       "\n",
       ".xr-var-attrs-in:checked ~ .xr-var-attrs,\n",
       ".xr-var-data-in:checked ~ .xr-var-data,\n",
       ".xr-index-data-in:checked ~ .xr-index-data {\n",
       "  display: block;\n",
       "}\n",
       "\n",
       ".xr-var-data > table {\n",
       "  float: right;\n",
       "}\n",
       "\n",
       ".xr-var-name span,\n",
       ".xr-var-data,\n",
       ".xr-index-name div,\n",
       ".xr-index-data,\n",
       ".xr-attrs {\n",
       "  padding-left: 25px !important;\n",
       "}\n",
       "\n",
       ".xr-attrs,\n",
       ".xr-var-attrs,\n",
       ".xr-var-data,\n",
       ".xr-index-data {\n",
       "  grid-column: 1 / -1;\n",
       "}\n",
       "\n",
       "dl.xr-attrs {\n",
       "  padding: 0;\n",
       "  margin: 0;\n",
       "  display: grid;\n",
       "  grid-template-columns: 125px auto;\n",
       "}\n",
       "\n",
       ".xr-attrs dt,\n",
       ".xr-attrs dd {\n",
       "  padding: 0;\n",
       "  margin: 0;\n",
       "  float: left;\n",
       "  padding-right: 10px;\n",
       "  width: auto;\n",
       "}\n",
       "\n",
       ".xr-attrs dt {\n",
       "  font-weight: normal;\n",
       "  grid-column: 1;\n",
       "}\n",
       "\n",
       ".xr-attrs dt:hover span {\n",
       "  display: inline-block;\n",
       "  background: var(--xr-background-color);\n",
       "  padding-right: 10px;\n",
       "}\n",
       "\n",
       ".xr-attrs dd {\n",
       "  grid-column: 2;\n",
       "  white-space: pre-wrap;\n",
       "  word-break: break-all;\n",
       "}\n",
       "\n",
       ".xr-icon-database,\n",
       ".xr-icon-file-text2,\n",
       ".xr-no-icon {\n",
       "  display: inline-block;\n",
       "  vertical-align: middle;\n",
       "  width: 1em;\n",
       "  height: 1.5em !important;\n",
       "  stroke-width: 0;\n",
       "  stroke: currentColor;\n",
       "  fill: currentColor;\n",
       "}\n",
       "</style><pre class='xr-text-repr-fallback'>&lt;TimeSeries (DataArray) (ds: 34274, component: 46, sample: 1)&gt;\n",
       "array([[[ 7.69999981e+00],\n",
       "        [ 1.22825003e+00],\n",
       "        [ 1.72894995e+03],\n",
       "        ...,\n",
       "        [-5.00000000e-01],\n",
       "        [ 0.00000000e+00],\n",
       "        [ 0.00000000e+00]],\n",
       "\n",
       "       [[ 7.69999981e+00],\n",
       "        [ 1.22350001e+00],\n",
       "        [ 1.68982495e+03],\n",
       "        ...,\n",
       "        [ 2.75000006e-01],\n",
       "        [ 0.00000000e+00],\n",
       "        [ 0.00000000e+00]],\n",
       "\n",
       "       [[ 7.87500000e+00],\n",
       "        [ 1.21974993e+00],\n",
       "        [ 1.56322498e+03],\n",
       "        ...,\n",
       "...\n",
       "        ...,\n",
       "        [ 2.59999990e+00],\n",
       "        [ 0.00000000e+00],\n",
       "        [ 1.38145000e+05]],\n",
       "\n",
       "       [[ 4.50000000e+00],\n",
       "        [ 1.28100002e+00],\n",
       "        [ 1.35340002e+03],\n",
       "        ...,\n",
       "        [ 2.54999995e+00],\n",
       "        [ 0.00000000e+00],\n",
       "        [ 1.41745000e+05]],\n",
       "\n",
       "       [[ 4.50000000e+00],\n",
       "        [ 1.28100002e+00],\n",
       "        [ 1.62657495e+03],\n",
       "        ...,\n",
       "        [ 2.54999995e+00],\n",
       "        [ 0.00000000e+00],\n",
       "        [ 1.45345000e+05]]])\n",
       "Coordinates:\n",
       "  * ds         (ds) datetime64[ns] 2019-06-02T22:00:00 ... 2023-04-30T23:00:00\n",
       "  * component  (component) object &#x27;absolute_humidity_2m:gm3&#x27; ... &#x27;time_diff&#x27;\n",
       "Dimensions without coordinates: sample\n",
       "Attributes:\n",
       "    static_covariates:  static_covariates  location\\nglobal_components       0.0\n",
       "    hierarchy:          None</pre><div class='xr-wrap' style='display:none'><div class='xr-header'><div class='xr-obj-type'>TimeSeries (DataArray)</div><div class='xr-array-name'></div><ul class='xr-dim-list'><li><span class='xr-has-index'>ds</span>: 34274</li><li><span class='xr-has-index'>component</span>: 46</li><li><span>sample</span>: 1</li></ul></div><ul class='xr-sections'><li class='xr-section-item'><div class='xr-array-wrap'><input id='section-b34ac244-59b3-4bd3-9e75-cce89d277f48' class='xr-array-in' type='checkbox' checked><label for='section-b34ac244-59b3-4bd3-9e75-cce89d277f48' title='Show/hide data repr'><svg class='icon xr-icon-database'><use xlink:href='#icon-database'></use></svg></label><div class='xr-array-preview xr-preview'><span>7.7 1.228 1.729e+03 0.0 0.0 ... 3.75 2.725 2.55 0.0 1.453e+05</span></div><div class='xr-array-data'><pre>array([[[ 7.69999981e+00],\n",
       "        [ 1.22825003e+00],\n",
       "        [ 1.72894995e+03],\n",
       "        ...,\n",
       "        [-5.00000000e-01],\n",
       "        [ 0.00000000e+00],\n",
       "        [ 0.00000000e+00]],\n",
       "\n",
       "       [[ 7.69999981e+00],\n",
       "        [ 1.22350001e+00],\n",
       "        [ 1.68982495e+03],\n",
       "        ...,\n",
       "        [ 2.75000006e-01],\n",
       "        [ 0.00000000e+00],\n",
       "        [ 0.00000000e+00]],\n",
       "\n",
       "       [[ 7.87500000e+00],\n",
       "        [ 1.21974993e+00],\n",
       "        [ 1.56322498e+03],\n",
       "        ...,\n",
       "...\n",
       "        ...,\n",
       "        [ 2.59999990e+00],\n",
       "        [ 0.00000000e+00],\n",
       "        [ 1.38145000e+05]],\n",
       "\n",
       "       [[ 4.50000000e+00],\n",
       "        [ 1.28100002e+00],\n",
       "        [ 1.35340002e+03],\n",
       "        ...,\n",
       "        [ 2.54999995e+00],\n",
       "        [ 0.00000000e+00],\n",
       "        [ 1.41745000e+05]],\n",
       "\n",
       "       [[ 4.50000000e+00],\n",
       "        [ 1.28100002e+00],\n",
       "        [ 1.62657495e+03],\n",
       "        ...,\n",
       "        [ 2.54999995e+00],\n",
       "        [ 0.00000000e+00],\n",
       "        [ 1.45345000e+05]]])</pre></div></div></li><li class='xr-section-item'><input id='section-687cbdd4-cc8a-4ea4-a908-d7978b2100b0' class='xr-section-summary-in' type='checkbox'  checked><label for='section-687cbdd4-cc8a-4ea4-a908-d7978b2100b0' class='xr-section-summary' >Coordinates: <span>(2)</span></label><div class='xr-section-inline-details'></div><div class='xr-section-details'><ul class='xr-var-list'><li class='xr-var-item'><div class='xr-var-name'><span class='xr-has-index'>ds</span></div><div class='xr-var-dims'>(ds)</div><div class='xr-var-dtype'>datetime64[ns]</div><div class='xr-var-preview xr-preview'>2019-06-02T22:00:00 ... 2023-04-...</div><input id='attrs-c7584888-b10c-466f-92c2-755e2d8a6be3' class='xr-var-attrs-in' type='checkbox' disabled><label for='attrs-c7584888-b10c-466f-92c2-755e2d8a6be3' title='Show/Hide attributes'><svg class='icon xr-icon-file-text2'><use xlink:href='#icon-file-text2'></use></svg></label><input id='data-44cec2e6-ed87-4aa7-b6cb-f631dbdec7dd' class='xr-var-data-in' type='checkbox'><label for='data-44cec2e6-ed87-4aa7-b6cb-f631dbdec7dd' title='Show/Hide data repr'><svg class='icon xr-icon-database'><use xlink:href='#icon-database'></use></svg></label><div class='xr-var-attrs'><dl class='xr-attrs'></dl></div><div class='xr-var-data'><pre>array([&#x27;2019-06-02T22:00:00.000000000&#x27;, &#x27;2019-06-02T23:00:00.000000000&#x27;,\n",
       "       &#x27;2019-06-03T00:00:00.000000000&#x27;, ..., &#x27;2023-04-30T21:00:00.000000000&#x27;,\n",
       "       &#x27;2023-04-30T22:00:00.000000000&#x27;, &#x27;2023-04-30T23:00:00.000000000&#x27;],\n",
       "      dtype=&#x27;datetime64[ns]&#x27;)</pre></div></li><li class='xr-var-item'><div class='xr-var-name'><span class='xr-has-index'>component</span></div><div class='xr-var-dims'>(component)</div><div class='xr-var-dtype'>object</div><div class='xr-var-preview xr-preview'>&#x27;absolute_humidity_2m:gm3&#x27; ... &#x27;...</div><input id='attrs-53342de3-da2e-4c1e-928a-55d9a2dc986c' class='xr-var-attrs-in' type='checkbox' disabled><label for='attrs-53342de3-da2e-4c1e-928a-55d9a2dc986c' title='Show/Hide attributes'><svg class='icon xr-icon-file-text2'><use xlink:href='#icon-file-text2'></use></svg></label><input id='data-92be2ce7-0600-4c3d-9e1a-1ca6eba2b124' class='xr-var-data-in' type='checkbox'><label for='data-92be2ce7-0600-4c3d-9e1a-1ca6eba2b124' title='Show/Hide data repr'><svg class='icon xr-icon-database'><use xlink:href='#icon-database'></use></svg></label><div class='xr-var-attrs'><dl class='xr-attrs'></dl></div><div class='xr-var-data'><pre>array([&#x27;absolute_humidity_2m:gm3&#x27;, &#x27;air_density_2m:kgm3&#x27;,\n",
       "       &#x27;ceiling_height_agl:m&#x27;, &#x27;clear_sky_energy_1h:J&#x27;, &#x27;clear_sky_rad:W&#x27;,\n",
       "       &#x27;cloud_base_agl:m&#x27;, &#x27;dew_or_rime:idx&#x27;, &#x27;dew_point_2m:K&#x27;,\n",
       "       &#x27;diffuse_rad:W&#x27;, &#x27;diffuse_rad_1h:J&#x27;, &#x27;direct_rad:W&#x27;, &#x27;direct_rad_1h:J&#x27;,\n",
       "       &#x27;effective_cloud_cover:p&#x27;, &#x27;elevation:m&#x27;, &#x27;fresh_snow_12h:cm&#x27;,\n",
       "       &#x27;fresh_snow_1h:cm&#x27;, &#x27;fresh_snow_24h:cm&#x27;, &#x27;fresh_snow_3h:cm&#x27;,\n",
       "       &#x27;fresh_snow_6h:cm&#x27;, &#x27;is_day:idx&#x27;, &#x27;is_in_shadow:idx&#x27;,\n",
       "       &#x27;msl_pressure:hPa&#x27;, &#x27;precip_5min:mm&#x27;, &#x27;precip_type_5min:idx&#x27;,\n",
       "       &#x27;pressure_100m:hPa&#x27;, &#x27;pressure_50m:hPa&#x27;, &#x27;prob_rime:p&#x27;,\n",
       "       &#x27;rain_water:kgm2&#x27;, &#x27;relative_humidity_1000hPa:p&#x27;, &#x27;sfc_pressure:hPa&#x27;,\n",
       "       &#x27;snow_density:kgm3&#x27;, &#x27;snow_depth:cm&#x27;, &#x27;snow_drift:idx&#x27;,\n",
       "       &#x27;snow_melt_10min:mm&#x27;, &#x27;snow_water:kgm2&#x27;, &#x27;sun_azimuth:d&#x27;,\n",
       "       &#x27;sun_elevation:d&#x27;, &#x27;super_cooled_liquid_water:kgm2&#x27;, &#x27;t_1000hPa:K&#x27;,\n",
       "       &#x27;total_cloud_cover:p&#x27;, &#x27;visibility:m&#x27;, &#x27;wind_speed_10m:ms&#x27;,\n",
       "       &#x27;wind_speed_u_10m:ms&#x27;, &#x27;wind_speed_v_10m:ms&#x27;, &#x27;wind_speed_w_1000hPa:ms&#x27;,\n",
       "       &#x27;time_diff&#x27;], dtype=object)</pre></div></li></ul></div></li><li class='xr-section-item'><input id='section-dce5044d-fc61-410e-a7bf-0c9dedc49023' class='xr-section-summary-in' type='checkbox'  ><label for='section-dce5044d-fc61-410e-a7bf-0c9dedc49023' class='xr-section-summary' >Indexes: <span>(2)</span></label><div class='xr-section-inline-details'></div><div class='xr-section-details'><ul class='xr-var-list'><li class='xr-var-item'><div class='xr-index-name'><div>ds</div></div><div class='xr-index-preview'>PandasIndex</div><div></div><input id='index-8e270ba7-addb-438a-b813-f232f8c92a1c' class='xr-index-data-in' type='checkbox'/><label for='index-8e270ba7-addb-438a-b813-f232f8c92a1c' title='Show/Hide index repr'><svg class='icon xr-icon-database'><use xlink:href='#icon-database'></use></svg></label><div class='xr-index-data'><pre>PandasIndex(DatetimeIndex([&#x27;2019-06-02 22:00:00&#x27;, &#x27;2019-06-02 23:00:00&#x27;,\n",
       "               &#x27;2019-06-03 00:00:00&#x27;, &#x27;2019-06-03 01:00:00&#x27;,\n",
       "               &#x27;2019-06-03 02:00:00&#x27;, &#x27;2019-06-03 03:00:00&#x27;,\n",
       "               &#x27;2019-06-03 04:00:00&#x27;, &#x27;2019-06-03 05:00:00&#x27;,\n",
       "               &#x27;2019-06-03 06:00:00&#x27;, &#x27;2019-06-03 07:00:00&#x27;,\n",
       "               ...\n",
       "               &#x27;2023-04-30 14:00:00&#x27;, &#x27;2023-04-30 15:00:00&#x27;,\n",
       "               &#x27;2023-04-30 16:00:00&#x27;, &#x27;2023-04-30 17:00:00&#x27;,\n",
       "               &#x27;2023-04-30 18:00:00&#x27;, &#x27;2023-04-30 19:00:00&#x27;,\n",
       "               &#x27;2023-04-30 20:00:00&#x27;, &#x27;2023-04-30 21:00:00&#x27;,\n",
       "               &#x27;2023-04-30 22:00:00&#x27;, &#x27;2023-04-30 23:00:00&#x27;],\n",
       "              dtype=&#x27;datetime64[ns]&#x27;, name=&#x27;ds&#x27;, length=34274, freq=&#x27;H&#x27;))</pre></div></li><li class='xr-var-item'><div class='xr-index-name'><div>component</div></div><div class='xr-index-preview'>PandasIndex</div><div></div><input id='index-d3149ffb-cbdd-4922-a1f6-b45c4f23eca1' class='xr-index-data-in' type='checkbox'/><label for='index-d3149ffb-cbdd-4922-a1f6-b45c4f23eca1' title='Show/Hide index repr'><svg class='icon xr-icon-database'><use xlink:href='#icon-database'></use></svg></label><div class='xr-index-data'><pre>PandasIndex(Index([&#x27;absolute_humidity_2m:gm3&#x27;, &#x27;air_density_2m:kgm3&#x27;,\n",
       "       &#x27;ceiling_height_agl:m&#x27;, &#x27;clear_sky_energy_1h:J&#x27;, &#x27;clear_sky_rad:W&#x27;,\n",
       "       &#x27;cloud_base_agl:m&#x27;, &#x27;dew_or_rime:idx&#x27;, &#x27;dew_point_2m:K&#x27;,\n",
       "       &#x27;diffuse_rad:W&#x27;, &#x27;diffuse_rad_1h:J&#x27;, &#x27;direct_rad:W&#x27;, &#x27;direct_rad_1h:J&#x27;,\n",
       "       &#x27;effective_cloud_cover:p&#x27;, &#x27;elevation:m&#x27;, &#x27;fresh_snow_12h:cm&#x27;,\n",
       "       &#x27;fresh_snow_1h:cm&#x27;, &#x27;fresh_snow_24h:cm&#x27;, &#x27;fresh_snow_3h:cm&#x27;,\n",
       "       &#x27;fresh_snow_6h:cm&#x27;, &#x27;is_day:idx&#x27;, &#x27;is_in_shadow:idx&#x27;,\n",
       "       &#x27;msl_pressure:hPa&#x27;, &#x27;precip_5min:mm&#x27;, &#x27;precip_type_5min:idx&#x27;,\n",
       "       &#x27;pressure_100m:hPa&#x27;, &#x27;pressure_50m:hPa&#x27;, &#x27;prob_rime:p&#x27;,\n",
       "       &#x27;rain_water:kgm2&#x27;, &#x27;relative_humidity_1000hPa:p&#x27;, &#x27;sfc_pressure:hPa&#x27;,\n",
       "       &#x27;snow_density:kgm3&#x27;, &#x27;snow_depth:cm&#x27;, &#x27;snow_drift:idx&#x27;,\n",
       "       &#x27;snow_melt_10min:mm&#x27;, &#x27;snow_water:kgm2&#x27;, &#x27;sun_azimuth:d&#x27;,\n",
       "       &#x27;sun_elevation:d&#x27;, &#x27;super_cooled_liquid_water:kgm2&#x27;, &#x27;t_1000hPa:K&#x27;,\n",
       "       &#x27;total_cloud_cover:p&#x27;, &#x27;visibility:m&#x27;, &#x27;wind_speed_10m:ms&#x27;,\n",
       "       &#x27;wind_speed_u_10m:ms&#x27;, &#x27;wind_speed_v_10m:ms&#x27;, &#x27;wind_speed_w_1000hPa:ms&#x27;,\n",
       "       &#x27;time_diff&#x27;],\n",
       "      dtype=&#x27;object&#x27;, name=&#x27;component&#x27;))</pre></div></li></ul></div></li><li class='xr-section-item'><input id='section-ac7ea8eb-2ec2-4362-b5df-ede4b8c70958' class='xr-section-summary-in' type='checkbox'  checked><label for='section-ac7ea8eb-2ec2-4362-b5df-ede4b8c70958' class='xr-section-summary' >Attributes: <span>(2)</span></label><div class='xr-section-inline-details'></div><div class='xr-section-details'><dl class='xr-attrs'><dt><span>static_covariates :</span></dt><dd>static_covariates  location\n",
       "global_components       0.0</dd><dt><span>hierarchy :</span></dt><dd>None</dd></dl></div></li></ul></div></div>"
      ],
      "text/plain": [
       "<TimeSeries (DataArray) (ds: 34274, component: 46, sample: 1)>\n",
       "array([[[ 7.69999981e+00],\n",
       "        [ 1.22825003e+00],\n",
       "        [ 1.72894995e+03],\n",
       "        ...,\n",
       "        [-5.00000000e-01],\n",
       "        [ 0.00000000e+00],\n",
       "        [ 0.00000000e+00]],\n",
       "\n",
       "       [[ 7.69999981e+00],\n",
       "        [ 1.22350001e+00],\n",
       "        [ 1.68982495e+03],\n",
       "        ...,\n",
       "        [ 2.75000006e-01],\n",
       "        [ 0.00000000e+00],\n",
       "        [ 0.00000000e+00]],\n",
       "\n",
       "       [[ 7.87500000e+00],\n",
       "        [ 1.21974993e+00],\n",
       "        [ 1.56322498e+03],\n",
       "        ...,\n",
       "...\n",
       "        ...,\n",
       "        [ 2.59999990e+00],\n",
       "        [ 0.00000000e+00],\n",
       "        [ 1.38145000e+05]],\n",
       "\n",
       "       [[ 4.50000000e+00],\n",
       "        [ 1.28100002e+00],\n",
       "        [ 1.35340002e+03],\n",
       "        ...,\n",
       "        [ 2.54999995e+00],\n",
       "        [ 0.00000000e+00],\n",
       "        [ 1.41745000e+05]],\n",
       "\n",
       "       [[ 4.50000000e+00],\n",
       "        [ 1.28100002e+00],\n",
       "        [ 1.62657495e+03],\n",
       "        ...,\n",
       "        [ 2.54999995e+00],\n",
       "        [ 0.00000000e+00],\n",
       "        [ 1.45345000e+05]]])\n",
       "Coordinates:\n",
       "  * ds         (ds) datetime64[ns] 2019-06-02T22:00:00 ... 2023-04-30T23:00:00\n",
       "  * component  (component) object 'absolute_humidity_2m:gm3' ... 'time_diff'\n",
       "Dimensions without coordinates: sample\n",
       "Attributes:\n",
       "    static_covariates:  static_covariates  location\\nglobal_components       0.0\n",
       "    hierarchy:          None"
      ]
     },
     "execution_count": 170,
     "metadata": {},
     "output_type": "execute_result"
    }
   ],
   "source": [
    "# seperate into y_train and covariate_train\n",
    "y_train = train_series[i].univariate_component(\"y\")\n",
    "y_trains = create_multiple_non_nan_series(y_train, minimum_length=24*7)\n",
    "covariate_train = train_series[i].drop_columns([\"y\"])\n",
    "covariate_trains = [covariate_train.slice_intersect(yt) for yt in y_trains]\n",
    "#covariate_trains[1].head(1)\n",
    "covariate_train"
   ]
  },
  {
   "cell_type": "code",
   "execution_count": 171,
   "metadata": {},
   "outputs": [
    {
     "name": "stdout",
     "output_type": "stream",
     "text": [
      "No gaps\n"
     ]
    },
    {
     "data": {
      "image/png": "[encoded data removed]",
      "text/plain": [
       "<Figure size 640x480 with 1 Axes>"
      ]
     },
     "metadata": {},
     "output_type": "display_data"
    }
   ],
   "source": [
    "for j in range(len(y_trains)):\n",
    "    print(\"No gaps\" if y_trains[j].gaps().shape[0]==0 else \"Has Gaps\")\n",
    "    #print(y_trains[j].start_time(), y_trains[j].end_time())\n",
    "    # plot\n",
    "    y_trains[j].plot(label=f\"y_train{j}\")"
   ]
  },
  {
   "cell_type": "code",
   "execution_count": 172,
   "metadata": {},
   "outputs": [],
   "source": [
    "# covariate_trains[4].pd_dataframe().head(1)"
   ]
  },
  {
   "cell_type": "markdown",
   "metadata": {},
   "source": [
    "# Do it for all 3 locations"
   ]
  },
  {
   "cell_type": "code",
   "execution_count": 173,
   "metadata": {},
   "outputs": [
    {
     "name": "stdout",
     "output_type": "stream",
     "text": [
      "Shape of y_train before dropping gaps: (34274, 1)\n",
      "Shape of y_train after dropping gaps: (34274, 1)\n",
      "Shape of y_train before dropping gaps: (37944, 1)\n",
      "Shape of y_train after dropping gaps: (37944, 1)\n",
      "Shape of y_train before dropping gaps: (37944, 1)\n",
      "Shape of y_train after dropping gaps: (37944, 1)\n"
     ]
    },
    {
     "data": {
      "image/png": "[encoded data removed]",
      "text/plain": [
       "<Figure size 640x480 with 1 Axes>"
      ]
     },
     "metadata": {},
     "output_type": "display_data"
    },
    {
     "data": {
      "image/png": "[encoded data removed]",
      "text/plain": [
       "<Figure size 640x480 with 1 Axes>"
      ]
     },
     "metadata": {},
     "output_type": "display_data"
    },
    {
     "data": {
      "image/png": "[encoded data removed]",
      "text/plain": [
       "<Figure size 640x480 with 1 Axes>"
      ]
     },
     "metadata": {},
     "output_type": "display_data"
    }
   ],
   "source": [
    "from sklearn.preprocessing import MinMaxScaler\n",
    "from darts.dataprocessing.transformers import Scaler\n",
    "\n",
    "# store the data in list\n",
    "y_trains_list = []\n",
    "covariate_trains_list = []\n",
    "transformers = []\n",
    "\n",
    "\n",
    "def add_datetime_attributes(series):\n",
    "    series = series.add_datetime_attribute(attribute=\"hour\", one_hot=False)\n",
    "    series = series.add_datetime_attribute(attribute=\"month\", one_hot=False)\n",
    "    series = series.add_datetime_attribute(attribute=\"weekday\", one_hot=False)\n",
    "    series = series.add_datetime_attribute(attribute=\"quarter\", one_hot=False)\n",
    "    series = series.add_holidays(country_code='NO')\n",
    "    return series\n",
    "\n",
    "# def add_window_attributes(series): # TODO: find out how to use this in darts\n",
    "#     \"\"\"\n",
    "#     window_transform(transforms, treat_na=None, forecasting_safe=True, keep_non_transformed=False, include_current=True)[source]\n",
    "#     \"\"\"\n",
    "#     series = series.window_transform(transforms={\"function\": \"mean\", \"mode\": \"rolling\", \"components\": [\"y\"]}, treat_na=\"bfill\", \n",
    "\n",
    "mode = \"longest_series_without_gap\" # \"many_series_without_gap\" \"longest_series_without_gap\"\n",
    "#mode = \"many_series_without_gap\" # \"many_series_without_gap\" \"longest_series_without_gap\"\n",
    "one_model_for_all = False\n",
    "use_validation_set = True\n",
    "train_val_split = 0.8#pd.Timestamp(\"2023-04-01 21:00:00\")\n",
    "use_gridsearch = True\n",
    "forecast_horizon = 24*61\n",
    "stride = forecast_horizon\n",
    "\n",
    "for i in range(len(train_series)):\n",
    "    # add_datetime_attributes\n",
    "    train_series[i] = add_datetime_attributes(train_series[i])\n",
    "    covariate_future[i] = add_datetime_attributes(covariate_future[i])\n",
    "\n",
    "    scaler = MinMaxScaler(feature_range=(-1, 1))\n",
    "    transformer = Scaler(scaler)\n",
    "    transformer.fit(train_series[i])\n",
    "    # optionally transform here also\n",
    "    train_series[i] = transformer.transform(train_series[i])\n",
    "    covariate_future[i] = transformer.transform(covariate_future[i].concatenate(other=TimeSeries.from_values(values=np.random.rand(len(covariate_future[i])), columns=[\"y\"]), axis=\"component\", ignore_time_axis=True)).drop_columns([\"y\"])\n",
    "\n",
    "    transformers.append(transformer)\n",
    "\n",
    "\n",
    "    if mode == \"many_series_without_gap\":\n",
    "        # seperate into y_train and covariate_train\n",
    "        y_train = train_series[i].univariate_component(\"y\") # use these two lines if you want to use many different series without gap\n",
    "        y_trains = create_multiple_non_nan_series(y_train)\n",
    "\n",
    "    elif mode == \"longest_series_without_gap\":\n",
    "        # get longest series without gap\n",
    "        print(\"Shape of y_train before dropping gaps:\", train_series[i].univariate_component(\"y\").pd_dataframe().shape)\n",
    "        print(\"Shape of y_train after dropping gaps:\", train_series[i].univariate_component(\"y\").longest_contiguous_slice().pd_dataframe().shape)\n",
    "        y_trains = [train_series[i].univariate_component(\"y\").longest_contiguous_slice()]\n",
    "\n",
    "\n",
    "    covariate_train = train_series[i].drop_columns([\"y\"])\n",
    "    covariate_trains = [covariate_train.slice_intersect(yt) for yt in y_trains]\n",
    "\n",
    "    y_trains_list.append(y_trains[0] if mode == \"longest_series_without_gap\" else y_trains)\n",
    "    covariate_trains_list.append(covariate_trains[0] if mode == \"longest_series_without_gap\" else covariate_trains)\n",
    "\n",
    "    train_series[i].univariate_component(\"y\").plot(label=f\"{i}_y_train\", new_plot=True)\n",
    "\n",
    "    \n",
    "    for j in range(len(y_trains)):\n",
    "        y_trains[j].plot(label=f\"{i}_y_train{j}\", new_plot=False)\n"
   ]
  },
  {
   "cell_type": "code",
   "execution_count": 122,
   "metadata": {},
   "outputs": [
    {
     "name": "stdout",
     "output_type": "stream",
     "text": [
      "0\n",
      "(27418, 54) (27418, 1)\n",
      "(6856, 54) (6856, 1)\n",
      "Start and end dates of train set: 2019-06-02 22:00:00 2022-07-19 07:00:00\n",
      "Start and end dates of validation set: 2022-07-19 08:00:00 2023-04-30 23:00:00\n"
     ]
    },
    {
     "data": {
      "application/vnd.jupyter.widget-view+json": {
       "model_id": "fe73b8ef0344406bb23f6a7f80af4b36",
       "version_major": 2,
       "version_minor": 0
      },
      "text/plain": [
       "  0%|          | 0/24 [00:00<?, ?it/s]"
      ]
     },
     "metadata": {},
     "output_type": "display_data"
    },
    {
     "name": "stderr",
     "output_type": "stream",
     "text": [
      "`enable_optimization=True` is ignored because `retrain` is not `False`To hide this warning, set `show_warnings=False` or `enable_optimization=False`.\n",
      "`enable_optimization=True` is ignored because `forecast_horizon > self.output_chunk_length`.To hide this warning, set `show_warnings=False` or `enable_optimization=False`.\n"
     ]
    },
    {
     "data": {
      "application/vnd.jupyter.widget-view+json": {
       "model_id": "f7e70122a1d741a4b738522b7ac8b9cd",
       "version_major": 2,
       "version_minor": 0
      },
      "text/plain": [
       "  0%|          | 0/9 [00:00<?, ?it/s]"
      ]
     },
     "metadata": {},
     "output_type": "display_data"
    },
    {
     "name": "stderr",
     "output_type": "stream",
     "text": [
      "`enable_optimization=True` is ignored because `retrain` is not `False`To hide this warning, set `show_warnings=False` or `enable_optimization=False`.\n",
      "`enable_optimization=True` is ignored because `forecast_horizon > self.output_chunk_length`.To hide this warning, set `show_warnings=False` or `enable_optimization=False`.\n"
     ]
    },
    {
     "data": {
      "application/vnd.jupyter.widget-view+json": {
       "model_id": "bce3057ecade4f7f87e368f757a26b46",
       "version_major": 2,
       "version_minor": 0
      },
      "text/plain": [
       "  0%|          | 0/9 [00:00<?, ?it/s]"
      ]
     },
     "metadata": {},
     "output_type": "display_data"
    },
    {
     "name": "stderr",
     "output_type": "stream",
     "text": [
      "`enable_optimization=True` is ignored because `retrain` is not `False`To hide this warning, set `show_warnings=False` or `enable_optimization=False`.\n",
      "`enable_optimization=True` is ignored because `forecast_horizon > self.output_chunk_length`.To hide this warning, set `show_warnings=False` or `enable_optimization=False`.\n"
     ]
    },
    {
     "data": {
      "application/vnd.jupyter.widget-view+json": {
       "model_id": "0b8769483d0a4ce38e2824bca6ad9a67",
       "version_major": 2,
       "version_minor": 0
      },
      "text/plain": [
       "  0%|          | 0/9 [00:00<?, ?it/s]"
      ]
     },
     "metadata": {},
     "output_type": "display_data"
    },
    {
     "name": "stderr",
     "output_type": "stream",
     "text": [
      "`enable_optimization=True` is ignored because `retrain` is not `False`To hide this warning, set `show_warnings=False` or `enable_optimization=False`.\n",
      "`enable_optimization=True` is ignored because `forecast_horizon > self.output_chunk_length`.To hide this warning, set `show_warnings=False` or `enable_optimization=False`.\n"
     ]
    },
    {
     "data": {
      "application/vnd.jupyter.widget-view+json": {
       "model_id": "a1217759a63940b9a4302e5e03243534",
       "version_major": 2,
       "version_minor": 0
      },
      "text/plain": [
       "  0%|          | 0/9 [00:00<?, ?it/s]"
      ]
     },
     "metadata": {},
     "output_type": "display_data"
    },
    {
     "name": "stderr",
     "output_type": "stream",
     "text": [
      "`enable_optimization=True` is ignored because `retrain` is not `False`To hide this warning, set `show_warnings=False` or `enable_optimization=False`.\n",
      "`enable_optimization=True` is ignored because `forecast_horizon > self.output_chunk_length`.To hide this warning, set `show_warnings=False` or `enable_optimization=False`.\n"
     ]
    },
    {
     "data": {
      "application/vnd.jupyter.widget-view+json": {
       "model_id": "cc61963e5a0145078ed1e1d81c9e52f5",
       "version_major": 2,
       "version_minor": 0
      },
      "text/plain": [
       "  0%|          | 0/9 [00:00<?, ?it/s]"
      ]
     },
     "metadata": {},
     "output_type": "display_data"
    },
    {
     "name": "stderr",
     "output_type": "stream",
     "text": [
      "`enable_optimization=True` is ignored because `retrain` is not `False`To hide this warning, set `show_warnings=False` or `enable_optimization=False`.\n",
      "`enable_optimization=True` is ignored because `forecast_horizon > self.output_chunk_length`.To hide this warning, set `show_warnings=False` or `enable_optimization=False`.\n"
     ]
    },
    {
     "data": {
      "application/vnd.jupyter.widget-view+json": {
       "model_id": "4f1ed59719c94b09be31390a57c59784",
       "version_major": 2,
       "version_minor": 0
      },
      "text/plain": [
       "  0%|          | 0/9 [00:00<?, ?it/s]"
      ]
     },
     "metadata": {},
     "output_type": "display_data"
    },
    {
     "name": "stderr",
     "output_type": "stream",
     "text": [
      "`enable_optimization=True` is ignored because `retrain` is not `False`To hide this warning, set `show_warnings=False` or `enable_optimization=False`.\n",
      "`enable_optimization=True` is ignored because `forecast_horizon > self.output_chunk_length`.To hide this warning, set `show_warnings=False` or `enable_optimization=False`.\n"
     ]
    },
    {
     "data": {
      "application/vnd.jupyter.widget-view+json": {
       "model_id": "86ba6d4e32de4e44ab206dbe8292d59c",
       "version_major": 2,
       "version_minor": 0
      },
      "text/plain": [
       "  0%|          | 0/9 [00:00<?, ?it/s]"
      ]
     },
     "metadata": {},
     "output_type": "display_data"
    },
    {
     "name": "stderr",
     "output_type": "stream",
     "text": [
      "`enable_optimization=True` is ignored because `retrain` is not `False`To hide this warning, set `show_warnings=False` or `enable_optimization=False`.\n",
      "`enable_optimization=True` is ignored because `forecast_horizon > self.output_chunk_length`.To hide this warning, set `show_warnings=False` or `enable_optimization=False`.\n"
     ]
    },
    {
     "data": {
      "application/vnd.jupyter.widget-view+json": {
       "model_id": "90b166485b034202b8191c0c456d36f7",
       "version_major": 2,
       "version_minor": 0
      },
      "text/plain": [
       "  0%|          | 0/9 [00:00<?, ?it/s]"
      ]
     },
     "metadata": {},
     "output_type": "display_data"
    },
    {
     "name": "stderr",
     "output_type": "stream",
     "text": [
      "`enable_optimization=True` is ignored because `retrain` is not `False`To hide this warning, set `show_warnings=False` or `enable_optimization=False`.\n",
      "`enable_optimization=True` is ignored because `forecast_horizon > self.output_chunk_length`.To hide this warning, set `show_warnings=False` or `enable_optimization=False`.\n"
     ]
    },
    {
     "data": {
      "application/vnd.jupyter.widget-view+json": {
       "model_id": "de51149c0488417b9be008781034388c",
       "version_major": 2,
       "version_minor": 0
      },
      "text/plain": [
       "  0%|          | 0/9 [00:00<?, ?it/s]"
      ]
     },
     "metadata": {},
     "output_type": "display_data"
    },
    {
     "name": "stderr",
     "output_type": "stream",
     "text": [
      "`enable_optimization=True` is ignored because `retrain` is not `False`To hide this warning, set `show_warnings=False` or `enable_optimization=False`.\n",
      "`enable_optimization=True` is ignored because `forecast_horizon > self.output_chunk_length`.To hide this warning, set `show_warnings=False` or `enable_optimization=False`.\n"
     ]
    },
    {
     "data": {
      "application/vnd.jupyter.widget-view+json": {
       "model_id": "6a98a24d90e14ff48a12a371fa4d4597",
       "version_major": 2,
       "version_minor": 0
      },
      "text/plain": [
       "  0%|          | 0/9 [00:00<?, ?it/s]"
      ]
     },
     "metadata": {},
     "output_type": "display_data"
    },
    {
     "name": "stderr",
     "output_type": "stream",
     "text": [
      "`enable_optimization=True` is ignored because `retrain` is not `False`To hide this warning, set `show_warnings=False` or `enable_optimization=False`.\n",
      "`enable_optimization=True` is ignored because `forecast_horizon > self.output_chunk_length`.To hide this warning, set `show_warnings=False` or `enable_optimization=False`.\n"
     ]
    },
    {
     "data": {
      "application/vnd.jupyter.widget-view+json": {
       "model_id": "923f031cd22d4549b01d14506d43f99d",
       "version_major": 2,
       "version_minor": 0
      },
      "text/plain": [
       "  0%|          | 0/9 [00:00<?, ?it/s]"
      ]
     },
     "metadata": {},
     "output_type": "display_data"
    },
    {
     "name": "stderr",
     "output_type": "stream",
     "text": [
      "`enable_optimization=True` is ignored because `retrain` is not `False`To hide this warning, set `show_warnings=False` or `enable_optimization=False`.\n",
      "`enable_optimization=True` is ignored because `forecast_horizon > self.output_chunk_length`.To hide this warning, set `show_warnings=False` or `enable_optimization=False`.\n"
     ]
    },
    {
     "data": {
      "application/vnd.jupyter.widget-view+json": {
       "model_id": "b07ae9f6e5f346009852b2c3a62dc6e4",
       "version_major": 2,
       "version_minor": 0
      },
      "text/plain": [
       "  0%|          | 0/9 [00:00<?, ?it/s]"
      ]
     },
     "metadata": {},
     "output_type": "display_data"
    },
    {
     "name": "stderr",
     "output_type": "stream",
     "text": [
      "`enable_optimization=True` is ignored because `retrain` is not `False`To hide this warning, set `show_warnings=False` or `enable_optimization=False`.\n",
      "`enable_optimization=True` is ignored because `forecast_horizon > self.output_chunk_length`.To hide this warning, set `show_warnings=False` or `enable_optimization=False`.\n"
     ]
    },
    {
     "data": {
      "application/vnd.jupyter.widget-view+json": {
       "model_id": "fbef006ebadf4bb7a38bddd25b33b37d",
       "version_major": 2,
       "version_minor": 0
      },
      "text/plain": [
       "  0%|          | 0/9 [00:00<?, ?it/s]"
      ]
     },
     "metadata": {},
     "output_type": "display_data"
    },
    {
     "name": "stderr",
     "output_type": "stream",
     "text": [
      "`enable_optimization=True` is ignored because `retrain` is not `False`To hide this warning, set `show_warnings=False` or `enable_optimization=False`.\n",
      "`enable_optimization=True` is ignored because `forecast_horizon > self.output_chunk_length`.To hide this warning, set `show_warnings=False` or `enable_optimization=False`.\n"
     ]
    },
    {
     "data": {
      "application/vnd.jupyter.widget-view+json": {
       "model_id": "7ea08c7afdcb4b75bd76e79c16c070a0",
       "version_major": 2,
       "version_minor": 0
      },
      "text/plain": [
       "  0%|          | 0/9 [00:00<?, ?it/s]"
      ]
     },
     "metadata": {},
     "output_type": "display_data"
    },
    {
     "name": "stderr",
     "output_type": "stream",
     "text": [
      "`enable_optimization=True` is ignored because `retrain` is not `False`To hide this warning, set `show_warnings=False` or `enable_optimization=False`.\n",
      "`enable_optimization=True` is ignored because `forecast_horizon > self.output_chunk_length`.To hide this warning, set `show_warnings=False` or `enable_optimization=False`.\n"
     ]
    },
    {
     "data": {
      "application/vnd.jupyter.widget-view+json": {
       "model_id": "b40bb1de0e944019aa40f8722b9143e4",
       "version_major": 2,
       "version_minor": 0
      },
      "text/plain": [
       "  0%|          | 0/9 [00:00<?, ?it/s]"
      ]
     },
     "metadata": {},
     "output_type": "display_data"
    },
    {
     "name": "stderr",
     "output_type": "stream",
     "text": [
      "`enable_optimization=True` is ignored because `retrain` is not `False`To hide this warning, set `show_warnings=False` or `enable_optimization=False`.\n",
      "`enable_optimization=True` is ignored because `forecast_horizon > self.output_chunk_length`.To hide this warning, set `show_warnings=False` or `enable_optimization=False`.\n"
     ]
    },
    {
     "data": {
      "application/vnd.jupyter.widget-view+json": {
       "model_id": "9c4f024758274783a30409fd2f25a72a",
       "version_major": 2,
       "version_minor": 0
      },
      "text/plain": [
       "  0%|          | 0/9 [00:00<?, ?it/s]"
      ]
     },
     "metadata": {},
     "output_type": "display_data"
    },
    {
     "name": "stderr",
     "output_type": "stream",
     "text": [
      "`enable_optimization=True` is ignored because `retrain` is not `False`To hide this warning, set `show_warnings=False` or `enable_optimization=False`.\n",
      "`enable_optimization=True` is ignored because `forecast_horizon > self.output_chunk_length`.To hide this warning, set `show_warnings=False` or `enable_optimization=False`.\n"
     ]
    },
    {
     "data": {
      "application/vnd.jupyter.widget-view+json": {
       "model_id": "8d63bcf18e944179a39b1865352d9979",
       "version_major": 2,
       "version_minor": 0
      },
      "text/plain": [
       "  0%|          | 0/9 [00:00<?, ?it/s]"
      ]
     },
     "metadata": {},
     "output_type": "display_data"
    },
    {
     "name": "stderr",
     "output_type": "stream",
     "text": [
      "`enable_optimization=True` is ignored because `retrain` is not `False`To hide this warning, set `show_warnings=False` or `enable_optimization=False`.\n",
      "`enable_optimization=True` is ignored because `forecast_horizon > self.output_chunk_length`.To hide this warning, set `show_warnings=False` or `enable_optimization=False`.\n"
     ]
    },
    {
     "data": {
      "application/vnd.jupyter.widget-view+json": {
       "model_id": "66f007f9e49446d4ab91b6459f6208a7",
       "version_major": 2,
       "version_minor": 0
      },
      "text/plain": [
       "  0%|          | 0/9 [00:00<?, ?it/s]"
      ]
     },
     "metadata": {},
     "output_type": "display_data"
    },
    {
     "name": "stderr",
     "output_type": "stream",
     "text": [
      "`enable_optimization=True` is ignored because `retrain` is not `False`To hide this warning, set `show_warnings=False` or `enable_optimization=False`.\n",
      "`enable_optimization=True` is ignored because `forecast_horizon > self.output_chunk_length`.To hide this warning, set `show_warnings=False` or `enable_optimization=False`.\n"
     ]
    },
    {
     "data": {
      "application/vnd.jupyter.widget-view+json": {
       "model_id": "6059c9ee84f04a3b894bf98183373b24",
       "version_major": 2,
       "version_minor": 0
      },
      "text/plain": [
       "  0%|          | 0/9 [00:00<?, ?it/s]"
      ]
     },
     "metadata": {},
     "output_type": "display_data"
    },
    {
     "name": "stderr",
     "output_type": "stream",
     "text": [
      "`enable_optimization=True` is ignored because `retrain` is not `False`To hide this warning, set `show_warnings=False` or `enable_optimization=False`.\n",
      "`enable_optimization=True` is ignored because `forecast_horizon > self.output_chunk_length`.To hide this warning, set `show_warnings=False` or `enable_optimization=False`.\n"
     ]
    },
    {
     "data": {
      "application/vnd.jupyter.widget-view+json": {
       "model_id": "ab5e6321f66147e4ac4e7888914d4de7",
       "version_major": 2,
       "version_minor": 0
      },
      "text/plain": [
       "  0%|          | 0/9 [00:00<?, ?it/s]"
      ]
     },
     "metadata": {},
     "output_type": "display_data"
    },
    {
     "name": "stderr",
     "output_type": "stream",
     "text": [
      "`enable_optimization=True` is ignored because `retrain` is not `False`To hide this warning, set `show_warnings=False` or `enable_optimization=False`.\n",
      "`enable_optimization=True` is ignored because `forecast_horizon > self.output_chunk_length`.To hide this warning, set `show_warnings=False` or `enable_optimization=False`.\n"
     ]
    },
    {
     "data": {
      "application/vnd.jupyter.widget-view+json": {
       "model_id": "97c4b52bdf554f2d942f46546421d77b",
       "version_major": 2,
       "version_minor": 0
      },
      "text/plain": [
       "  0%|          | 0/9 [00:00<?, ?it/s]"
      ]
     },
     "metadata": {},
     "output_type": "display_data"
    },
    {
     "name": "stderr",
     "output_type": "stream",
     "text": [
      "`enable_optimization=True` is ignored because `retrain` is not `False`To hide this warning, set `show_warnings=False` or `enable_optimization=False`.\n",
      "`enable_optimization=True` is ignored because `forecast_horizon > self.output_chunk_length`.To hide this warning, set `show_warnings=False` or `enable_optimization=False`.\n"
     ]
    },
    {
     "data": {
      "application/vnd.jupyter.widget-view+json": {
       "model_id": "bdd1561470b54ce5a40171ca15fb3d34",
       "version_major": 2,
       "version_minor": 0
      },
      "text/plain": [
       "  0%|          | 0/9 [00:00<?, ?it/s]"
      ]
     },
     "metadata": {},
     "output_type": "display_data"
    },
    {
     "name": "stderr",
     "output_type": "stream",
     "text": [
      "`enable_optimization=True` is ignored because `retrain` is not `False`To hide this warning, set `show_warnings=False` or `enable_optimization=False`.\n",
      "`enable_optimization=True` is ignored because `forecast_horizon > self.output_chunk_length`.To hide this warning, set `show_warnings=False` or `enable_optimization=False`.\n"
     ]
    },
    {
     "data": {
      "application/vnd.jupyter.widget-view+json": {
       "model_id": "0ec4e32962b04ce7b83d5cd72bb5efb1",
       "version_major": 2,
       "version_minor": 0
      },
      "text/plain": [
       "  0%|          | 0/9 [00:00<?, ?it/s]"
      ]
     },
     "metadata": {},
     "output_type": "display_data"
    },
    {
     "name": "stderr",
     "output_type": "stream",
     "text": [
      "`enable_optimization=True` is ignored because `retrain` is not `False`To hide this warning, set `show_warnings=False` or `enable_optimization=False`.\n",
      "`enable_optimization=True` is ignored because `forecast_horizon > self.output_chunk_length`.To hide this warning, set `show_warnings=False` or `enable_optimization=False`.\n"
     ]
    },
    {
     "data": {
      "application/vnd.jupyter.widget-view+json": {
       "model_id": "9d4eb69f69094f91acb3708def19a2d3",
       "version_major": 2,
       "version_minor": 0
      },
      "text/plain": [
       "  0%|          | 0/9 [00:00<?, ?it/s]"
      ]
     },
     "metadata": {},
     "output_type": "display_data"
    },
    {
     "name": "stdout",
     "output_type": "stream",
     "text": [
      "BEST SCORE is: 0.0705636140923602\n",
      "Best parameters: {'n_estimators': 2000, 'max_depth': 5, 'learning_rate': 0.1, 'objective': 'reg:absoluteerror', 'booster': 'gbtree', 'random_state': 42, 'lags': [-24, -168], 'lags_future_covariates': [0]}\n",
      "Now fitting model with best parameters\n",
      "Validation MAE: 0.042255742252654646\n",
      "1\n",
      "(30354, 54) (30354, 1)\n",
      "(7590, 54) (7590, 1)\n",
      "Start and end dates of train set: 2019-01-01 00:00:00 2022-06-18 17:00:00\n",
      "Start and end dates of validation set: 2022-06-18 18:00:00 2023-04-30 23:00:00\n"
     ]
    },
    {
     "data": {
      "application/vnd.jupyter.widget-view+json": {
       "model_id": "9ed1c80dd9304f3fb2cd34343d8f5f1a",
       "version_major": 2,
       "version_minor": 0
      },
      "text/plain": [
       "  0%|          | 0/24 [00:00<?, ?it/s]"
      ]
     },
     "metadata": {},
     "output_type": "display_data"
    },
    {
     "name": "stderr",
     "output_type": "stream",
     "text": [
      "`enable_optimization=True` is ignored because `retrain` is not `False`To hide this warning, set `show_warnings=False` or `enable_optimization=False`.\n",
      "`enable_optimization=True` is ignored because `forecast_horizon > self.output_chunk_length`.To hide this warning, set `show_warnings=False` or `enable_optimization=False`.\n"
     ]
    },
    {
     "data": {
      "application/vnd.jupyter.widget-view+json": {
       "model_id": "2b4b8e0e2b864422a5a32b00aa76ebff",
       "version_major": 2,
       "version_minor": 0
      },
      "text/plain": [
       "  0%|          | 0/10 [00:00<?, ?it/s]"
      ]
     },
     "metadata": {},
     "output_type": "display_data"
    },
    {
     "name": "stderr",
     "output_type": "stream",
     "text": [
      "`enable_optimization=True` is ignored because `retrain` is not `False`To hide this warning, set `show_warnings=False` or `enable_optimization=False`.\n",
      "`enable_optimization=True` is ignored because `forecast_horizon > self.output_chunk_length`.To hide this warning, set `show_warnings=False` or `enable_optimization=False`.\n"
     ]
    },
    {
     "data": {
      "application/vnd.jupyter.widget-view+json": {
       "model_id": "9954af0be1a3460d98c0a3900825826c",
       "version_major": 2,
       "version_minor": 0
      },
      "text/plain": [
       "  0%|          | 0/10 [00:00<?, ?it/s]"
      ]
     },
     "metadata": {},
     "output_type": "display_data"
    },
    {
     "name": "stderr",
     "output_type": "stream",
     "text": [
      "`enable_optimization=True` is ignored because `retrain` is not `False`To hide this warning, set `show_warnings=False` or `enable_optimization=False`.\n",
      "`enable_optimization=True` is ignored because `forecast_horizon > self.output_chunk_length`.To hide this warning, set `show_warnings=False` or `enable_optimization=False`.\n"
     ]
    },
    {
     "data": {
      "application/vnd.jupyter.widget-view+json": {
       "model_id": "43be73372b404e19a0e0a12d687fb3ad",
       "version_major": 2,
       "version_minor": 0
      },
      "text/plain": [
       "  0%|          | 0/10 [00:00<?, ?it/s]"
      ]
     },
     "metadata": {},
     "output_type": "display_data"
    },
    {
     "name": "stderr",
     "output_type": "stream",
     "text": [
      "`enable_optimization=True` is ignored because `retrain` is not `False`To hide this warning, set `show_warnings=False` or `enable_optimization=False`.\n",
      "`enable_optimization=True` is ignored because `forecast_horizon > self.output_chunk_length`.To hide this warning, set `show_warnings=False` or `enable_optimization=False`.\n"
     ]
    },
    {
     "data": {
      "application/vnd.jupyter.widget-view+json": {
       "model_id": "f059e0724ca44c7cb58e9c120b6c5125",
       "version_major": 2,
       "version_minor": 0
      },
      "text/plain": [
       "  0%|          | 0/10 [00:00<?, ?it/s]"
      ]
     },
     "metadata": {},
     "output_type": "display_data"
    },
    {
     "name": "stderr",
     "output_type": "stream",
     "text": [
      "`enable_optimization=True` is ignored because `retrain` is not `False`To hide this warning, set `show_warnings=False` or `enable_optimization=False`.\n",
      "`enable_optimization=True` is ignored because `forecast_horizon > self.output_chunk_length`.To hide this warning, set `show_warnings=False` or `enable_optimization=False`.\n"
     ]
    },
    {
     "data": {
      "application/vnd.jupyter.widget-view+json": {
       "model_id": "bbc7f95425604f50a8f29b2d0c5592c3",
       "version_major": 2,
       "version_minor": 0
      },
      "text/plain": [
       "  0%|          | 0/10 [00:00<?, ?it/s]"
      ]
     },
     "metadata": {},
     "output_type": "display_data"
    },
    {
     "name": "stderr",
     "output_type": "stream",
     "text": [
      "`enable_optimization=True` is ignored because `retrain` is not `False`To hide this warning, set `show_warnings=False` or `enable_optimization=False`.\n",
      "`enable_optimization=True` is ignored because `forecast_horizon > self.output_chunk_length`.To hide this warning, set `show_warnings=False` or `enable_optimization=False`.\n"
     ]
    },
    {
     "data": {
      "application/vnd.jupyter.widget-view+json": {
       "model_id": "6772fb513b7b42b1b6d16ce853cdb62b",
       "version_major": 2,
       "version_minor": 0
      },
      "text/plain": [
       "  0%|          | 0/10 [00:00<?, ?it/s]"
      ]
     },
     "metadata": {},
     "output_type": "display_data"
    },
    {
     "name": "stderr",
     "output_type": "stream",
     "text": [
      "`enable_optimization=True` is ignored because `retrain` is not `False`To hide this warning, set `show_warnings=False` or `enable_optimization=False`.\n",
      "`enable_optimization=True` is ignored because `forecast_horizon > self.output_chunk_length`.To hide this warning, set `show_warnings=False` or `enable_optimization=False`.\n"
     ]
    },
    {
     "data": {
      "application/vnd.jupyter.widget-view+json": {
       "model_id": "d9a942ce0a8541bd9dfb731fe7cc15ea",
       "version_major": 2,
       "version_minor": 0
      },
      "text/plain": [
       "  0%|          | 0/10 [00:00<?, ?it/s]"
      ]
     },
     "metadata": {},
     "output_type": "display_data"
    },
    {
     "name": "stderr",
     "output_type": "stream",
     "text": [
      "`enable_optimization=True` is ignored because `retrain` is not `False`To hide this warning, set `show_warnings=False` or `enable_optimization=False`.\n",
      "`enable_optimization=True` is ignored because `forecast_horizon > self.output_chunk_length`.To hide this warning, set `show_warnings=False` or `enable_optimization=False`.\n"
     ]
    },
    {
     "data": {
      "application/vnd.jupyter.widget-view+json": {
       "model_id": "4907e2b828974cfb96eff38ebd990a3f",
       "version_major": 2,
       "version_minor": 0
      },
      "text/plain": [
       "  0%|          | 0/10 [00:00<?, ?it/s]"
      ]
     },
     "metadata": {},
     "output_type": "display_data"
    },
    {
     "name": "stderr",
     "output_type": "stream",
     "text": [
      "`enable_optimization=True` is ignored because `retrain` is not `False`To hide this warning, set `show_warnings=False` or `enable_optimization=False`.\n",
      "`enable_optimization=True` is ignored because `forecast_horizon > self.output_chunk_length`.To hide this warning, set `show_warnings=False` or `enable_optimization=False`.\n"
     ]
    },
    {
     "data": {
      "application/vnd.jupyter.widget-view+json": {
       "model_id": "c20a74ecf12b4109bd7a76fd74b557e6",
       "version_major": 2,
       "version_minor": 0
      },
      "text/plain": [
       "  0%|          | 0/10 [00:00<?, ?it/s]"
      ]
     },
     "metadata": {},
     "output_type": "display_data"
    },
    {
     "name": "stderr",
     "output_type": "stream",
     "text": [
      "`enable_optimization=True` is ignored because `retrain` is not `False`To hide this warning, set `show_warnings=False` or `enable_optimization=False`.\n",
      "`enable_optimization=True` is ignored because `forecast_horizon > self.output_chunk_length`.To hide this warning, set `show_warnings=False` or `enable_optimization=False`.\n"
     ]
    },
    {
     "data": {
      "application/vnd.jupyter.widget-view+json": {
       "model_id": "fd231695f31a4432a6ff7d2232ff57bf",
       "version_major": 2,
       "version_minor": 0
      },
      "text/plain": [
       "  0%|          | 0/10 [00:00<?, ?it/s]"
      ]
     },
     "metadata": {},
     "output_type": "display_data"
    },
    {
     "name": "stderr",
     "output_type": "stream",
     "text": [
      "`enable_optimization=True` is ignored because `retrain` is not `False`To hide this warning, set `show_warnings=False` or `enable_optimization=False`.\n",
      "`enable_optimization=True` is ignored because `forecast_horizon > self.output_chunk_length`.To hide this warning, set `show_warnings=False` or `enable_optimization=False`.\n"
     ]
    },
    {
     "data": {
      "application/vnd.jupyter.widget-view+json": {
       "model_id": "687f1181676642b8910ab2f7b445f93b",
       "version_major": 2,
       "version_minor": 0
      },
      "text/plain": [
       "  0%|          | 0/10 [00:00<?, ?it/s]"
      ]
     },
     "metadata": {},
     "output_type": "display_data"
    },
    {
     "name": "stderr",
     "output_type": "stream",
     "text": [
      "`enable_optimization=True` is ignored because `retrain` is not `False`To hide this warning, set `show_warnings=False` or `enable_optimization=False`.\n",
      "`enable_optimization=True` is ignored because `forecast_horizon > self.output_chunk_length`.To hide this warning, set `show_warnings=False` or `enable_optimization=False`.\n"
     ]
    },
    {
     "data": {
      "application/vnd.jupyter.widget-view+json": {
       "model_id": "dbae2a4580154ad8ab77223c25242a82",
       "version_major": 2,
       "version_minor": 0
      },
      "text/plain": [
       "  0%|          | 0/10 [00:00<?, ?it/s]"
      ]
     },
     "metadata": {},
     "output_type": "display_data"
    },
    {
     "name": "stderr",
     "output_type": "stream",
     "text": [
      "`enable_optimization=True` is ignored because `retrain` is not `False`To hide this warning, set `show_warnings=False` or `enable_optimization=False`.\n",
      "`enable_optimization=True` is ignored because `forecast_horizon > self.output_chunk_length`.To hide this warning, set `show_warnings=False` or `enable_optimization=False`.\n"
     ]
    },
    {
     "data": {
      "application/vnd.jupyter.widget-view+json": {
       "model_id": "0c17904bfaaf4e32a851ae241a653333",
       "version_major": 2,
       "version_minor": 0
      },
      "text/plain": [
       "  0%|          | 0/10 [00:00<?, ?it/s]"
      ]
     },
     "metadata": {},
     "output_type": "display_data"
    },
    {
     "name": "stderr",
     "output_type": "stream",
     "text": [
      "`enable_optimization=True` is ignored because `retrain` is not `False`To hide this warning, set `show_warnings=False` or `enable_optimization=False`.\n",
      "`enable_optimization=True` is ignored because `forecast_horizon > self.output_chunk_length`.To hide this warning, set `show_warnings=False` or `enable_optimization=False`.\n"
     ]
    },
    {
     "data": {
      "application/vnd.jupyter.widget-view+json": {
       "model_id": "7117e45b4817487e9daff1858408e7fa",
       "version_major": 2,
       "version_minor": 0
      },
      "text/plain": [
       "  0%|          | 0/10 [00:00<?, ?it/s]"
      ]
     },
     "metadata": {},
     "output_type": "display_data"
    },
    {
     "name": "stderr",
     "output_type": "stream",
     "text": [
      "`enable_optimization=True` is ignored because `retrain` is not `False`To hide this warning, set `show_warnings=False` or `enable_optimization=False`.\n",
      "`enable_optimization=True` is ignored because `forecast_horizon > self.output_chunk_length`.To hide this warning, set `show_warnings=False` or `enable_optimization=False`.\n"
     ]
    },
    {
     "data": {
      "application/vnd.jupyter.widget-view+json": {
       "model_id": "e984dfd8a2404d8c88fdc207505358da",
       "version_major": 2,
       "version_minor": 0
      },
      "text/plain": [
       "  0%|          | 0/10 [00:00<?, ?it/s]"
      ]
     },
     "metadata": {},
     "output_type": "display_data"
    },
    {
     "name": "stderr",
     "output_type": "stream",
     "text": [
      "`enable_optimization=True` is ignored because `retrain` is not `False`To hide this warning, set `show_warnings=False` or `enable_optimization=False`.\n",
      "`enable_optimization=True` is ignored because `forecast_horizon > self.output_chunk_length`.To hide this warning, set `show_warnings=False` or `enable_optimization=False`.\n"
     ]
    },
    {
     "data": {
      "application/vnd.jupyter.widget-view+json": {
       "model_id": "c06f5578d3914418a5ec3d7a17776f9d",
       "version_major": 2,
       "version_minor": 0
      },
      "text/plain": [
       "  0%|          | 0/10 [00:00<?, ?it/s]"
      ]
     },
     "metadata": {},
     "output_type": "display_data"
    },
    {
     "name": "stderr",
     "output_type": "stream",
     "text": [
      "`enable_optimization=True` is ignored because `retrain` is not `False`To hide this warning, set `show_warnings=False` or `enable_optimization=False`.\n",
      "`enable_optimization=True` is ignored because `forecast_horizon > self.output_chunk_length`.To hide this warning, set `show_warnings=False` or `enable_optimization=False`.\n"
     ]
    },
    {
     "data": {
      "application/vnd.jupyter.widget-view+json": {
       "model_id": "9c67a62eeafd452bb531e9cbe4afbd5b",
       "version_major": 2,
       "version_minor": 0
      },
      "text/plain": [
       "  0%|          | 0/10 [00:00<?, ?it/s]"
      ]
     },
     "metadata": {},
     "output_type": "display_data"
    },
    {
     "name": "stderr",
     "output_type": "stream",
     "text": [
      "`enable_optimization=True` is ignored because `retrain` is not `False`To hide this warning, set `show_warnings=False` or `enable_optimization=False`.\n",
      "`enable_optimization=True` is ignored because `forecast_horizon > self.output_chunk_length`.To hide this warning, set `show_warnings=False` or `enable_optimization=False`.\n"
     ]
    },
    {
     "data": {
      "application/vnd.jupyter.widget-view+json": {
       "model_id": "a2a2e987466f4c17972950f9e4ad7788",
       "version_major": 2,
       "version_minor": 0
      },
      "text/plain": [
       "  0%|          | 0/10 [00:00<?, ?it/s]"
      ]
     },
     "metadata": {},
     "output_type": "display_data"
    },
    {
     "name": "stderr",
     "output_type": "stream",
     "text": [
      "`enable_optimization=True` is ignored because `retrain` is not `False`To hide this warning, set `show_warnings=False` or `enable_optimization=False`.\n",
      "`enable_optimization=True` is ignored because `forecast_horizon > self.output_chunk_length`.To hide this warning, set `show_warnings=False` or `enable_optimization=False`.\n"
     ]
    },
    {
     "data": {
      "application/vnd.jupyter.widget-view+json": {
       "model_id": "2c0ce09c121e4441947eaffaef67d86f",
       "version_major": 2,
       "version_minor": 0
      },
      "text/plain": [
       "  0%|          | 0/10 [00:00<?, ?it/s]"
      ]
     },
     "metadata": {},
     "output_type": "display_data"
    },
    {
     "name": "stderr",
     "output_type": "stream",
     "text": [
      "`enable_optimization=True` is ignored because `retrain` is not `False`To hide this warning, set `show_warnings=False` or `enable_optimization=False`.\n",
      "`enable_optimization=True` is ignored because `forecast_horizon > self.output_chunk_length`.To hide this warning, set `show_warnings=False` or `enable_optimization=False`.\n"
     ]
    },
    {
     "data": {
      "application/vnd.jupyter.widget-view+json": {
       "model_id": "0c8a5eca113c462c95182ad2053da37b",
       "version_major": 2,
       "version_minor": 0
      },
      "text/plain": [
       "  0%|          | 0/10 [00:00<?, ?it/s]"
      ]
     },
     "metadata": {},
     "output_type": "display_data"
    },
    {
     "name": "stderr",
     "output_type": "stream",
     "text": [
      "`enable_optimization=True` is ignored because `retrain` is not `False`To hide this warning, set `show_warnings=False` or `enable_optimization=False`.\n",
      "`enable_optimization=True` is ignored because `forecast_horizon > self.output_chunk_length`.To hide this warning, set `show_warnings=False` or `enable_optimization=False`.\n"
     ]
    },
    {
     "data": {
      "application/vnd.jupyter.widget-view+json": {
       "model_id": "04607b3725424c04961ada6a3598fc08",
       "version_major": 2,
       "version_minor": 0
      },
      "text/plain": [
       "  0%|          | 0/10 [00:00<?, ?it/s]"
      ]
     },
     "metadata": {},
     "output_type": "display_data"
    },
    {
     "name": "stderr",
     "output_type": "stream",
     "text": [
      "`enable_optimization=True` is ignored because `retrain` is not `False`To hide this warning, set `show_warnings=False` or `enable_optimization=False`.\n",
      "`enable_optimization=True` is ignored because `forecast_horizon > self.output_chunk_length`.To hide this warning, set `show_warnings=False` or `enable_optimization=False`.\n"
     ]
    },
    {
     "data": {
      "application/vnd.jupyter.widget-view+json": {
       "model_id": "b8a8d813c36542cbbd32e028d82b6926",
       "version_major": 2,
       "version_minor": 0
      },
      "text/plain": [
       "  0%|          | 0/10 [00:00<?, ?it/s]"
      ]
     },
     "metadata": {},
     "output_type": "display_data"
    },
    {
     "name": "stderr",
     "output_type": "stream",
     "text": [
      "`enable_optimization=True` is ignored because `retrain` is not `False`To hide this warning, set `show_warnings=False` or `enable_optimization=False`.\n",
      "`enable_optimization=True` is ignored because `forecast_horizon > self.output_chunk_length`.To hide this warning, set `show_warnings=False` or `enable_optimization=False`.\n"
     ]
    },
    {
     "data": {
      "application/vnd.jupyter.widget-view+json": {
       "model_id": "a96ba2382f994eb6a529254019614ca1",
       "version_major": 2,
       "version_minor": 0
      },
      "text/plain": [
       "  0%|          | 0/10 [00:00<?, ?it/s]"
      ]
     },
     "metadata": {},
     "output_type": "display_data"
    },
    {
     "name": "stderr",
     "output_type": "stream",
     "text": [
      "`enable_optimization=True` is ignored because `retrain` is not `False`To hide this warning, set `show_warnings=False` or `enable_optimization=False`.\n",
      "`enable_optimization=True` is ignored because `forecast_horizon > self.output_chunk_length`.To hide this warning, set `show_warnings=False` or `enable_optimization=False`.\n"
     ]
    },
    {
     "data": {
      "application/vnd.jupyter.widget-view+json": {
       "model_id": "10829a013d5b47678c41d64d212d7956",
       "version_major": 2,
       "version_minor": 0
      },
      "text/plain": [
       "  0%|          | 0/10 [00:00<?, ?it/s]"
      ]
     },
     "metadata": {},
     "output_type": "display_data"
    },
    {
     "name": "stdout",
     "output_type": "stream",
     "text": [
      "BEST SCORE is: 0.06661245058059026\n",
      "Best parameters: {'n_estimators': 300, 'max_depth': 5, 'learning_rate': 0.1, 'objective': 'reg:absoluteerror', 'booster': 'gbtree', 'random_state': 42, 'lags': [-24, -168], 'lags_future_covariates': [0]}\n",
      "Now fitting model with best parameters\n",
      "Validation MAE: 0.01213943599176413\n",
      "2\n",
      "(30354, 54) (30354, 1)\n",
      "(7590, 54) (7590, 1)\n",
      "Start and end dates of train set: 2019-01-01 00:00:00 2022-06-18 17:00:00\n",
      "Start and end dates of validation set: 2022-06-18 18:00:00 2023-04-30 23:00:00\n"
     ]
    },
    {
     "data": {
      "application/vnd.jupyter.widget-view+json": {
       "model_id": "c7fba66a519743ffaff1ad1ec9876c2a",
       "version_major": 2,
       "version_minor": 0
      },
      "text/plain": [
       "  0%|          | 0/24 [00:00<?, ?it/s]"
      ]
     },
     "metadata": {},
     "output_type": "display_data"
    },
    {
     "name": "stderr",
     "output_type": "stream",
     "text": [
      "`enable_optimization=True` is ignored because `retrain` is not `False`To hide this warning, set `show_warnings=False` or `enable_optimization=False`.\n",
      "`enable_optimization=True` is ignored because `forecast_horizon > self.output_chunk_length`.To hide this warning, set `show_warnings=False` or `enable_optimization=False`.\n"
     ]
    },
    {
     "data": {
      "application/vnd.jupyter.widget-view+json": {
       "model_id": "0165e01a815a40d7966fc47b55d5f3e1",
       "version_major": 2,
       "version_minor": 0
      },
      "text/plain": [
       "  0%|          | 0/10 [00:00<?, ?it/s]"
      ]
     },
     "metadata": {},
     "output_type": "display_data"
    },
    {
     "name": "stderr",
     "output_type": "stream",
     "text": [
      "`enable_optimization=True` is ignored because `retrain` is not `False`To hide this warning, set `show_warnings=False` or `enable_optimization=False`.\n",
      "`enable_optimization=True` is ignored because `forecast_horizon > self.output_chunk_length`.To hide this warning, set `show_warnings=False` or `enable_optimization=False`.\n"
     ]
    },
    {
     "data": {
      "application/vnd.jupyter.widget-view+json": {
       "model_id": "3eb52f6431ba4b568a236f0fe10bc4f1",
       "version_major": 2,
       "version_minor": 0
      },
      "text/plain": [
       "  0%|          | 0/10 [00:00<?, ?it/s]"
      ]
     },
     "metadata": {},
     "output_type": "display_data"
    },
    {
     "name": "stderr",
     "output_type": "stream",
     "text": [
      "`enable_optimization=True` is ignored because `retrain` is not `False`To hide this warning, set `show_warnings=False` or `enable_optimization=False`.\n",
      "`enable_optimization=True` is ignored because `forecast_horizon > self.output_chunk_length`.To hide this warning, set `show_warnings=False` or `enable_optimization=False`.\n"
     ]
    },
    {
     "data": {
      "application/vnd.jupyter.widget-view+json": {
       "model_id": "4983fd8288b04c4e8ef7048578e5802d",
       "version_major": 2,
       "version_minor": 0
      },
      "text/plain": [
       "  0%|          | 0/10 [00:00<?, ?it/s]"
      ]
     },
     "metadata": {},
     "output_type": "display_data"
    },
    {
     "name": "stderr",
     "output_type": "stream",
     "text": [
      "`enable_optimization=True` is ignored because `retrain` is not `False`To hide this warning, set `show_warnings=False` or `enable_optimization=False`.\n",
      "`enable_optimization=True` is ignored because `forecast_horizon > self.output_chunk_length`.To hide this warning, set `show_warnings=False` or `enable_optimization=False`.\n"
     ]
    },
    {
     "data": {
      "application/vnd.jupyter.widget-view+json": {
       "model_id": "bed164f102144ee480fd120be8fdf3b7",
       "version_major": 2,
       "version_minor": 0
      },
      "text/plain": [
       "  0%|          | 0/10 [00:00<?, ?it/s]"
      ]
     },
     "metadata": {},
     "output_type": "display_data"
    },
    {
     "name": "stderr",
     "output_type": "stream",
     "text": [
      "`enable_optimization=True` is ignored because `retrain` is not `False`To hide this warning, set `show_warnings=False` or `enable_optimization=False`.\n",
      "`enable_optimization=True` is ignored because `forecast_horizon > self.output_chunk_length`.To hide this warning, set `show_warnings=False` or `enable_optimization=False`.\n"
     ]
    },
    {
     "data": {
      "application/vnd.jupyter.widget-view+json": {
       "model_id": "00cb6973b9e949d8a2ccf080bebd4ef6",
       "version_major": 2,
       "version_minor": 0
      },
      "text/plain": [
       "  0%|          | 0/10 [00:00<?, ?it/s]"
      ]
     },
     "metadata": {},
     "output_type": "display_data"
    },
    {
     "name": "stderr",
     "output_type": "stream",
     "text": [
      "`enable_optimization=True` is ignored because `retrain` is not `False`To hide this warning, set `show_warnings=False` or `enable_optimization=False`.\n",
      "`enable_optimization=True` is ignored because `forecast_horizon > self.output_chunk_length`.To hide this warning, set `show_warnings=False` or `enable_optimization=False`.\n"
     ]
    },
    {
     "data": {
      "application/vnd.jupyter.widget-view+json": {
       "model_id": "adb8405e97fb4a5a875c48ae0c08e308",
       "version_major": 2,
       "version_minor": 0
      },
      "text/plain": [
       "  0%|          | 0/10 [00:00<?, ?it/s]"
      ]
     },
     "metadata": {},
     "output_type": "display_data"
    },
    {
     "name": "stderr",
     "output_type": "stream",
     "text": [
      "`enable_optimization=True` is ignored because `retrain` is not `False`To hide this warning, set `show_warnings=False` or `enable_optimization=False`.\n",
      "`enable_optimization=True` is ignored because `forecast_horizon > self.output_chunk_length`.To hide this warning, set `show_warnings=False` or `enable_optimization=False`.\n"
     ]
    },
    {
     "data": {
      "application/vnd.jupyter.widget-view+json": {
       "model_id": "33e85b7dd32441278cda614fb5adcdac",
       "version_major": 2,
       "version_minor": 0
      },
      "text/plain": [
       "  0%|          | 0/10 [00:00<?, ?it/s]"
      ]
     },
     "metadata": {},
     "output_type": "display_data"
    },
    {
     "name": "stderr",
     "output_type": "stream",
     "text": [
      "`enable_optimization=True` is ignored because `retrain` is not `False`To hide this warning, set `show_warnings=False` or `enable_optimization=False`.\n",
      "`enable_optimization=True` is ignored because `forecast_horizon > self.output_chunk_length`.To hide this warning, set `show_warnings=False` or `enable_optimization=False`.\n"
     ]
    },
    {
     "data": {
      "application/vnd.jupyter.widget-view+json": {
       "model_id": "157016904c1d4dabbf83827d620fdff8",
       "version_major": 2,
       "version_minor": 0
      },
      "text/plain": [
       "  0%|          | 0/10 [00:00<?, ?it/s]"
      ]
     },
     "metadata": {},
     "output_type": "display_data"
    },
    {
     "name": "stderr",
     "output_type": "stream",
     "text": [
      "`enable_optimization=True` is ignored because `retrain` is not `False`To hide this warning, set `show_warnings=False` or `enable_optimization=False`.\n",
      "`enable_optimization=True` is ignored because `forecast_horizon > self.output_chunk_length`.To hide this warning, set `show_warnings=False` or `enable_optimization=False`.\n"
     ]
    },
    {
     "data": {
      "application/vnd.jupyter.widget-view+json": {
       "model_id": "120d0d77f782428285ab719cbb7f2db4",
       "version_major": 2,
       "version_minor": 0
      },
      "text/plain": [
       "  0%|          | 0/10 [00:00<?, ?it/s]"
      ]
     },
     "metadata": {},
     "output_type": "display_data"
    },
    {
     "name": "stderr",
     "output_type": "stream",
     "text": [
      "`enable_optimization=True` is ignored because `retrain` is not `False`To hide this warning, set `show_warnings=False` or `enable_optimization=False`.\n",
      "`enable_optimization=True` is ignored because `forecast_horizon > self.output_chunk_length`.To hide this warning, set `show_warnings=False` or `enable_optimization=False`.\n"
     ]
    },
    {
     "data": {
      "application/vnd.jupyter.widget-view+json": {
       "model_id": "824f957832ae4f1a967e7dd3d11099c2",
       "version_major": 2,
       "version_minor": 0
      },
      "text/plain": [
       "  0%|          | 0/10 [00:00<?, ?it/s]"
      ]
     },
     "metadata": {},
     "output_type": "display_data"
    },
    {
     "name": "stderr",
     "output_type": "stream",
     "text": [
      "`enable_optimization=True` is ignored because `retrain` is not `False`To hide this warning, set `show_warnings=False` or `enable_optimization=False`.\n",
      "`enable_optimization=True` is ignored because `forecast_horizon > self.output_chunk_length`.To hide this warning, set `show_warnings=False` or `enable_optimization=False`.\n"
     ]
    },
    {
     "data": {
      "application/vnd.jupyter.widget-view+json": {
       "model_id": "cfa0cc4bd5454dbb8ebcabfd604ff879",
       "version_major": 2,
       "version_minor": 0
      },
      "text/plain": [
       "  0%|          | 0/10 [00:00<?, ?it/s]"
      ]
     },
     "metadata": {},
     "output_type": "display_data"
    },
    {
     "name": "stderr",
     "output_type": "stream",
     "text": [
      "`enable_optimization=True` is ignored because `retrain` is not `False`To hide this warning, set `show_warnings=False` or `enable_optimization=False`.\n",
      "`enable_optimization=True` is ignored because `forecast_horizon > self.output_chunk_length`.To hide this warning, set `show_warnings=False` or `enable_optimization=False`.\n"
     ]
    },
    {
     "data": {
      "application/vnd.jupyter.widget-view+json": {
       "model_id": "7782c0d21130418eb5228d67f89d53c7",
       "version_major": 2,
       "version_minor": 0
      },
      "text/plain": [
       "  0%|          | 0/10 [00:00<?, ?it/s]"
      ]
     },
     "metadata": {},
     "output_type": "display_data"
    },
    {
     "name": "stderr",
     "output_type": "stream",
     "text": [
      "`enable_optimization=True` is ignored because `retrain` is not `False`To hide this warning, set `show_warnings=False` or `enable_optimization=False`.\n",
      "`enable_optimization=True` is ignored because `forecast_horizon > self.output_chunk_length`.To hide this warning, set `show_warnings=False` or `enable_optimization=False`.\n"
     ]
    },
    {
     "data": {
      "application/vnd.jupyter.widget-view+json": {
       "model_id": "eb3b7cbe3d254877b448dc302bef42af",
       "version_major": 2,
       "version_minor": 0
      },
      "text/plain": [
       "  0%|          | 0/10 [00:00<?, ?it/s]"
      ]
     },
     "metadata": {},
     "output_type": "display_data"
    },
    {
     "name": "stderr",
     "output_type": "stream",
     "text": [
      "`enable_optimization=True` is ignored because `retrain` is not `False`To hide this warning, set `show_warnings=False` or `enable_optimization=False`.\n",
      "`enable_optimization=True` is ignored because `forecast_horizon > self.output_chunk_length`.To hide this warning, set `show_warnings=False` or `enable_optimization=False`.\n"
     ]
    },
    {
     "data": {
      "application/vnd.jupyter.widget-view+json": {
       "model_id": "208d3f37d1ac4db99eb7f6a1c6be3566",
       "version_major": 2,
       "version_minor": 0
      },
      "text/plain": [
       "  0%|          | 0/10 [00:00<?, ?it/s]"
      ]
     },
     "metadata": {},
     "output_type": "display_data"
    },
    {
     "name": "stderr",
     "output_type": "stream",
     "text": [
      "`enable_optimization=True` is ignored because `retrain` is not `False`To hide this warning, set `show_warnings=False` or `enable_optimization=False`.\n",
      "`enable_optimization=True` is ignored because `forecast_horizon > self.output_chunk_length`.To hide this warning, set `show_warnings=False` or `enable_optimization=False`.\n"
     ]
    },
    {
     "data": {
      "application/vnd.jupyter.widget-view+json": {
       "model_id": "13c7e68fd720494b89d8f5fc7ab77f2c",
       "version_major": 2,
       "version_minor": 0
      },
      "text/plain": [
       "  0%|          | 0/10 [00:00<?, ?it/s]"
      ]
     },
     "metadata": {},
     "output_type": "display_data"
    },
    {
     "name": "stderr",
     "output_type": "stream",
     "text": [
      "`enable_optimization=True` is ignored because `retrain` is not `False`To hide this warning, set `show_warnings=False` or `enable_optimization=False`.\n",
      "`enable_optimization=True` is ignored because `forecast_horizon > self.output_chunk_length`.To hide this warning, set `show_warnings=False` or `enable_optimization=False`.\n"
     ]
    },
    {
     "data": {
      "application/vnd.jupyter.widget-view+json": {
       "model_id": "c958eec44d864bef9a80ea123d406372",
       "version_major": 2,
       "version_minor": 0
      },
      "text/plain": [
       "  0%|          | 0/10 [00:00<?, ?it/s]"
      ]
     },
     "metadata": {},
     "output_type": "display_data"
    },
    {
     "name": "stderr",
     "output_type": "stream",
     "text": [
      "`enable_optimization=True` is ignored because `retrain` is not `False`To hide this warning, set `show_warnings=False` or `enable_optimization=False`.\n",
      "`enable_optimization=True` is ignored because `forecast_horizon > self.output_chunk_length`.To hide this warning, set `show_warnings=False` or `enable_optimization=False`.\n"
     ]
    },
    {
     "data": {
      "application/vnd.jupyter.widget-view+json": {
       "model_id": "7120feb395324a0daa46388f99357b15",
       "version_major": 2,
       "version_minor": 0
      },
      "text/plain": [
       "  0%|          | 0/10 [00:00<?, ?it/s]"
      ]
     },
     "metadata": {},
     "output_type": "display_data"
    },
    {
     "name": "stderr",
     "output_type": "stream",
     "text": [
      "`enable_optimization=True` is ignored because `retrain` is not `False`To hide this warning, set `show_warnings=False` or `enable_optimization=False`.\n",
      "`enable_optimization=True` is ignored because `forecast_horizon > self.output_chunk_length`.To hide this warning, set `show_warnings=False` or `enable_optimization=False`.\n"
     ]
    },
    {
     "data": {
      "application/vnd.jupyter.widget-view+json": {
       "model_id": "f32e104caca44cb6adbed8929d595ccf",
       "version_major": 2,
       "version_minor": 0
      },
      "text/plain": [
       "  0%|          | 0/10 [00:00<?, ?it/s]"
      ]
     },
     "metadata": {},
     "output_type": "display_data"
    },
    {
     "name": "stderr",
     "output_type": "stream",
     "text": [
      "`enable_optimization=True` is ignored because `retrain` is not `False`To hide this warning, set `show_warnings=False` or `enable_optimization=False`.\n",
      "`enable_optimization=True` is ignored because `forecast_horizon > self.output_chunk_length`.To hide this warning, set `show_warnings=False` or `enable_optimization=False`.\n"
     ]
    },
    {
     "data": {
      "application/vnd.jupyter.widget-view+json": {
       "model_id": "4d47d4da7d7149aa998a8c5ff81bc72c",
       "version_major": 2,
       "version_minor": 0
      },
      "text/plain": [
       "  0%|          | 0/10 [00:00<?, ?it/s]"
      ]
     },
     "metadata": {},
     "output_type": "display_data"
    },
    {
     "name": "stderr",
     "output_type": "stream",
     "text": [
      "`enable_optimization=True` is ignored because `retrain` is not `False`To hide this warning, set `show_warnings=False` or `enable_optimization=False`.\n",
      "`enable_optimization=True` is ignored because `forecast_horizon > self.output_chunk_length`.To hide this warning, set `show_warnings=False` or `enable_optimization=False`.\n"
     ]
    },
    {
     "data": {
      "application/vnd.jupyter.widget-view+json": {
       "model_id": "8f7ed1eb96984542891a7b22cbb378be",
       "version_major": 2,
       "version_minor": 0
      },
      "text/plain": [
       "  0%|          | 0/10 [00:00<?, ?it/s]"
      ]
     },
     "metadata": {},
     "output_type": "display_data"
    },
    {
     "name": "stderr",
     "output_type": "stream",
     "text": [
      "`enable_optimization=True` is ignored because `retrain` is not `False`To hide this warning, set `show_warnings=False` or `enable_optimization=False`.\n",
      "`enable_optimization=True` is ignored because `forecast_horizon > self.output_chunk_length`.To hide this warning, set `show_warnings=False` or `enable_optimization=False`.\n"
     ]
    },
    {
     "data": {
      "application/vnd.jupyter.widget-view+json": {
       "model_id": "70eb6af938ad484096e2a42db459b713",
       "version_major": 2,
       "version_minor": 0
      },
      "text/plain": [
       "  0%|          | 0/10 [00:00<?, ?it/s]"
      ]
     },
     "metadata": {},
     "output_type": "display_data"
    },
    {
     "name": "stderr",
     "output_type": "stream",
     "text": [
      "`enable_optimization=True` is ignored because `retrain` is not `False`To hide this warning, set `show_warnings=False` or `enable_optimization=False`.\n",
      "`enable_optimization=True` is ignored because `forecast_horizon > self.output_chunk_length`.To hide this warning, set `show_warnings=False` or `enable_optimization=False`.\n"
     ]
    },
    {
     "data": {
      "application/vnd.jupyter.widget-view+json": {
       "model_id": "a499b24769b94b8e808066fb72c80d15",
       "version_major": 2,
       "version_minor": 0
      },
      "text/plain": [
       "  0%|          | 0/10 [00:00<?, ?it/s]"
      ]
     },
     "metadata": {},
     "output_type": "display_data"
    },
    {
     "name": "stderr",
     "output_type": "stream",
     "text": [
      "`enable_optimization=True` is ignored because `retrain` is not `False`To hide this warning, set `show_warnings=False` or `enable_optimization=False`.\n",
      "`enable_optimization=True` is ignored because `forecast_horizon > self.output_chunk_length`.To hide this warning, set `show_warnings=False` or `enable_optimization=False`.\n"
     ]
    },
    {
     "data": {
      "application/vnd.jupyter.widget-view+json": {
       "model_id": "037d3249977e45e1a0b4a0a6113dace2",
       "version_major": 2,
       "version_minor": 0
      },
      "text/plain": [
       "  0%|          | 0/10 [00:00<?, ?it/s]"
      ]
     },
     "metadata": {},
     "output_type": "display_data"
    },
    {
     "name": "stderr",
     "output_type": "stream",
     "text": [
      "`enable_optimization=True` is ignored because `retrain` is not `False`To hide this warning, set `show_warnings=False` or `enable_optimization=False`.\n",
      "`enable_optimization=True` is ignored because `forecast_horizon > self.output_chunk_length`.To hide this warning, set `show_warnings=False` or `enable_optimization=False`.\n"
     ]
    },
    {
     "data": {
      "application/vnd.jupyter.widget-view+json": {
       "model_id": "3acfd2c5f2544f9cb50dbd3823cad918",
       "version_major": 2,
       "version_minor": 0
      },
      "text/plain": [
       "  0%|          | 0/10 [00:00<?, ?it/s]"
      ]
     },
     "metadata": {},
     "output_type": "display_data"
    },
    {
     "name": "stdout",
     "output_type": "stream",
     "text": [
      "BEST SCORE is: 0.0443423425388602\n",
      "Best parameters: {'n_estimators': 300, 'max_depth': 5, 'learning_rate': 0.1, 'objective': 'reg:absoluteerror', 'booster': 'gbtree', 'random_state': 42, 'lags': [-24, -168], 'lags_future_covariates': [0]}\n",
      "Now fitting model with best parameters\n",
      "Validation MAE: 0.009109763392017394\n"
     ]
    },
    {
     "data": {
      "image/png": "[encoded data removed]",
      "text/plain": [
       "<Figure size 640x480 with 1 Axes>"
      ]
     },
     "metadata": {},
     "output_type": "display_data"
    },
    {
     "data": {
      "image/png": "[encoded data removed]",
      "text/plain": [
       "<Figure size 640x480 with 1 Axes>"
      ]
     },
     "metadata": {},
     "output_type": "display_data"
    },
    {
     "data": {
      "image/png": "[encoded data removed]",
      "text/plain": [
       "<Figure size 640x480 with 1 Axes>"
      ]
     },
     "metadata": {},
     "output_type": "display_data"
    }
   ],
   "source": [
    "from darts.models import XGBModel\n",
    "from darts.models import KalmanForecaster\n",
    "from darts.models import Prophet\n",
    "from darts.dataprocessing.transformers import Scaler\n",
    "from darts.metrics import mae\n",
    "\n",
    "\n",
    "parameters={\n",
    "    \"n_estimators\": [300, 1000, 2000],\n",
    "    \"max_depth\": [3, 5, 6],\n",
    "    \"learning_rate\": [0.1, 0.01],\n",
    "    \"objective\": [\"reg:absoluteerror\"],\n",
    "    \"booster\": [\"gbtree\"],\n",
    "    \"random_state\": [42],\n",
    "    \"lags\": [[-24, -24*7], [-1, -2, -3, -4, -5, -6, -12, -24]],\n",
    "    \"lags_future_covariates\": [[0]]\n",
    "}\n",
    "\n",
    "\n",
    "def create_model(transformer=None):\n",
    "    model  = XGBModel(\n",
    "        n_estimators=1000,\n",
    "        #max_depth=3,\n",
    "        learning_rate=0.1,\n",
    "        objective=\"reg:absoluteerror\",\n",
    "        booster=\"gbtree\",\n",
    "        n_jobs=-1,\n",
    "        random_state=42,\n",
    "        verbosity=1,\n",
    "        #lags=[-1, -2, -3, -4, -5, -6, -12, -24]\n",
    "        lags=[-24, -24*7],\n",
    "        #lags_future_covariates=[-1, -2, -3, -4, -12, -24, 0],\n",
    "        lags_future_covariates=[0],\n",
    "        add_encoders={\n",
    "            \"transformer\": transformer\n",
    "        } if transformer is not None else None,\n",
    "    )\n",
    "    \n",
    "    return model\n",
    "\n",
    "\n",
    "models = []\n",
    "model = None\n",
    "\n",
    "\n",
    "if mode == \"longest_series_without_gap\" and one_model_for_all:\n",
    "    model = create_model()\n",
    "    # create validation and train set\n",
    "    target_trains, target_vals, cov_trains, cov_vals = [], [], [], []\n",
    "    for i in range(len(y_trains_list)):\n",
    "        target_train, target_val = y_trains_list[i].split_before(train_val_split)\n",
    "        cov_train, cov_val = covariate_trains_list[i].split_before(train_val_split)\n",
    "        target_trains.append(target_train)\n",
    "        target_vals.append(target_val)\n",
    "        cov_trains.append(cov_train)\n",
    "        cov_vals.append(cov_val)\n",
    "\n",
    "    if use_gridsearch:\n",
    "        # error out, does not support multiple series\n",
    "        assert 1+1==3 # quick math\n",
    "        model, best_parameters, best_score = XGBModel.gridsearch(\n",
    "            parameters=parameters,\n",
    "            series=target_trains,\n",
    "            future_covariates=covariate_trains_list,\n",
    "            val_series=target_vals,\n",
    "            show_warnings=True,\n",
    "            verbose=True,\n",
    "            metric=mae\n",
    "        )\n",
    "        print(\"BEST SCORE is:\", best_score)\n",
    "        print(\"Best parameters:\", best_parameters)\n",
    "\n",
    "    if not use_gridsearch:\n",
    "        model.fit(series=target_trains, future_covariates=cov_trains)\n",
    "\n",
    "    for i in range(len(y_trains_list)):\n",
    "        pred_val = model.predict(len(target_vals[i]), series=target_trains[i], future_covariates=cov_trains[i].concatenate(cov_vals[i]))\n",
    "        print(\"Validation MAE:\", mae(target_vals[i], pred_val))\n",
    "\n",
    "        target_vals[i].plot(label=\"Target\", new_plot=True)\n",
    "        pred_val.plot(label=\"Predictions\")\n",
    "\n",
    "\n",
    "\n",
    "elif mode == \"longest_series_without_gap\" and not one_model_for_all:\n",
    "    models = []\n",
    "    for i in range(len(y_trains_list)):\n",
    "        print(i)\n",
    "        model = create_model()\n",
    "        target_train, target_val = y_trains_list[i].split_before(train_val_split)\n",
    "        cov_train, cov_val = covariate_trains_list[i].split_before(train_val_split)\n",
    "        print(cov_train.pd_dataframe().shape, target_train.pd_dataframe().shape)\n",
    "        print(cov_val.pd_dataframe().shape, target_val.pd_dataframe().shape)\n",
    "        print(\"Start and end dates of train set:\", target_train.start_time(), target_train.end_time())\n",
    "        print(\"Start and end dates of validation set:\", target_val.start_time(), target_val.end_time())\n",
    "        # print(\"Columns in train set:\", target_train.columns)\n",
    "        # print(\"Columns in validation set:\", target_val.columns)\n",
    "        # print(\"Columns in covariate train set:\", cov_train.columns)\n",
    "        # print(\"Columns in covariate validation set:\", cov_val.columns)\n",
    "\n",
    "        if use_gridsearch:\n",
    "            model, best_parameters, best_score = XGBModel.gridsearch(\n",
    "                parameters=parameters,\n",
    "                series=target_train,\n",
    "                future_covariates=cov_train.concatenate(cov_val),\n",
    "                # val_series=target_val,\n",
    "                show_warnings=True,\n",
    "                verbose=True,\n",
    "                metric=mae,\n",
    "                forecast_horizon=forecast_horizon,\n",
    "                stride=stride\n",
    "            )\n",
    "            print(\"BEST SCORE is:\", best_score)\n",
    "            print(\"Best parameters:\", best_parameters)\n",
    "            #print(\"MODEL:\", model)\n",
    "            print(\"Now fitting model with best parameters\")\n",
    "            model.fit(series=y_trains_list[i], future_covariates=covariate_trains_list[i])\n",
    "\n",
    "            pred_val = model.predict(len(target_val), future_covariates=covariate_trains_list[i], series=target_train)\n",
    "\n",
    "        if not use_gridsearch:\n",
    "            model.fit(series=target_train, future_covariates=cov_train)\n",
    "            pred_val = model.predict(len(target_val), future_covariates=cov_train.concatenate(cov_val), series=target_train)\n",
    "\n",
    "\n",
    "        print(\"Validation MAE:\", mae(target_val, pred_val))\n",
    "\n",
    "        target_val.plot(label=\"Target\", new_plot=True)\n",
    "        pred_val.plot(label=\"Predictions\")\n",
    "        \n",
    "\n",
    "        models.append(model)\n",
    "\n",
    "\n",
    "\n",
    "\n",
    "elif mode == \"many_series_without_gap\" and one_model_for_all:\n",
    "    model = create_model()\n",
    "    for i in range(3):\n",
    "        y_trains = y_trains_list[i]\n",
    "        for j in range(len(y_trains)):\n",
    "            print(i, j)\n",
    "            model.fit(y_trains[j], future_covariates=covariate_trains[j], verbose=True)\n",
    "\n",
    "elif mode == \"many_series_without_gap\" and not one_model_for_all:\n",
    "    models = []\n",
    "    for i in range(3):\n",
    "        y_trains = y_trains_list[i]\n",
    "        model = create_model()\n",
    "        for j in range(len(y_trains)):\n",
    "            print(i, j)\n",
    "            model.fit(y_trains[j], future_covariates=covariate_trains[j], verbose=True)\n",
    "\n",
    "        models.append(model)"
   ]
  },
  {
   "cell_type": "code",
   "execution_count": 174,
   "metadata": {},
   "outputs": [],
   "source": [
    "# # train \n",
    "# y = train_series[i].univariate_component(\"y\")\n",
    "# def dropna_workaround(series):\n",
    "#     df = series.pd_dataframe()\n",
    "#     df.dropna(inplace=True)\n",
    "#     return TimeSeries.from_dataframe(df=df, freq=\"H\", fill_missing_dates=False, fillna_value=None, value_cols=None)\n",
    "\n",
    "# y = dropna_workaround(y)\n",
    "\n",
    "# model = create_model()\n",
    "# covariate_train = train_series[i].drop_columns([\"y\"]).slice_intersect(y)\n",
    "# print(len(y), len(covariate_train), len(train_series[i]))\n",
    "# model.fit(series=train, future_covariates=covariate_train)"
   ]
  },
  {
   "cell_type": "code",
   "execution_count": 175,
   "metadata": {},
   "outputs": [],
   "source": [
    "# for i in range(3):\n",
    "#     models[i].save(f\"xgb_model{i}.pkl\")"
   ]
  },
  {
   "cell_type": "code",
   "execution_count": 178,
   "metadata": {},
   "outputs": [
    {
     "data": {
      "text/plain": [
       "set()"
      ]
     },
     "execution_count": 178,
     "metadata": {},
     "output_type": "execute_result"
    }
   ],
   "source": [
    "set(covariate_future[i].columns) - set(train_series[i].columns)"
   ]
  },
  {
   "cell_type": "code",
   "execution_count": 177,
   "metadata": {},
   "outputs": [
    {
     "name": "stderr",
     "output_type": "stream",
     "text": [
      "ValueError: The number of components of the target series and the covariates provided for prediction doesn't match the number of components of the target series and the covariates this model has been trained on.\n",
      "Provided number of components for prediction: {'target': 1, 'past': None, 'future': 51}\n",
      "Provided number of components for training: {'target': 1, 'past': None, 'future': 54}\n"
     ]
    },
    {
     "name": "stdout",
     "output_type": "stream",
     "text": [
      "SHape of covariate_future: (1536, 51)\n",
      "2023-05-01 00:00:00 \tEnd:  2023-07-03 23:00:00\n",
      "SHape of train_series: (34274, 52)\n",
      "2019-06-02 22:00:00 \tEnd:  2023-04-30 23:00:00\n"
     ]
    },
    {
     "ename": "ValueError",
     "evalue": "The number of components of the target series and the covariates provided for prediction doesn't match the number of components of the target series and the covariates this model has been trained on.\nProvided number of components for prediction: {'target': 1, 'past': None, 'future': 51}\nProvided number of components for training: {'target': 1, 'past': None, 'future': 54}",
     "output_type": "error",
     "traceback": [
      "\u001b[0;31m---------------------------------------------------------------------------\u001b[0m",
      "\u001b[0;31mValueError\u001b[0m                                Traceback (most recent call last)",
      "\u001b[1;32m/Users/jorgensandhaug/Desktop/tdt4173/data/darts.ipynb Cell 21\u001b[0m line \u001b[0;36m1\n\u001b[1;32m     <a href='vscode-notebook-cell:/Users/jorgensandhaug/Desktop/tdt4173/data/darts.ipynb#X24sZmlsZQ%3D%3D?line=10'>11</a>\u001b[0m \u001b[39melse\u001b[39;00m:\n\u001b[1;32m     <a href='vscode-notebook-cell:/Users/jorgensandhaug/Desktop/tdt4173/data/darts.ipynb#X24sZmlsZQ%3D%3D?line=11'>12</a>\u001b[0m     model \u001b[39m=\u001b[39m model\n\u001b[0;32m---> <a href='vscode-notebook-cell:/Users/jorgensandhaug/Desktop/tdt4173/data/darts.ipynb#X24sZmlsZQ%3D%3D?line=13'>14</a>\u001b[0m y_pred \u001b[39m=\u001b[39m model\u001b[39m.\u001b[39;49mpredict(\u001b[39mlen\u001b[39;49m(covariate_future[i]), series\u001b[39m=\u001b[39;49myt, future_covariates\u001b[39m=\u001b[39;49mtrain_series[i]\u001b[39m.\u001b[39;49mdrop_columns(\u001b[39m\"\u001b[39;49m\u001b[39my\u001b[39;49m\u001b[39m\"\u001b[39;49m)\u001b[39m.\u001b[39;49mconcatenate(covariate_future[i]))\n\u001b[1;32m     <a href='vscode-notebook-cell:/Users/jorgensandhaug/Desktop/tdt4173/data/darts.ipynb#X24sZmlsZQ%3D%3D?line=14'>15</a>\u001b[0m predictions\u001b[39m.\u001b[39mappend(y_pred)\n\u001b[1;32m     <a href='vscode-notebook-cell:/Users/jorgensandhaug/Desktop/tdt4173/data/darts.ipynb#X24sZmlsZQ%3D%3D?line=16'>17</a>\u001b[0m \u001b[39m# for j in range(len(y_trains)):\u001b[39;00m\n\u001b[1;32m     <a href='vscode-notebook-cell:/Users/jorgensandhaug/Desktop/tdt4173/data/darts.ipynb#X24sZmlsZQ%3D%3D?line=17'>18</a>\u001b[0m \u001b[39m#     y_trains[j].plot(label=f\"y_train{j}\")\u001b[39;00m\n",
      "File \u001b[0;32m~/Desktop/tdt4173/data/venv/lib/python3.9/site-packages/darts/models/forecasting/regression_model.py:820\u001b[0m, in \u001b[0;36mRegressionModel.predict\u001b[0;34m(self, n, series, past_covariates, future_covariates, num_samples, verbose, predict_likelihood_parameters, **kwargs)\u001b[0m\n\u001b[1;32m    814\u001b[0m \u001b[39m# check that the input sizes of the target series and covariates match\u001b[39;00m\n\u001b[1;32m    815\u001b[0m pred_input_dim \u001b[39m=\u001b[39m {\n\u001b[1;32m    816\u001b[0m     \u001b[39m\"\u001b[39m\u001b[39mtarget\u001b[39m\u001b[39m\"\u001b[39m: series[\u001b[39m0\u001b[39m]\u001b[39m.\u001b[39mwidth,\n\u001b[1;32m    817\u001b[0m     \u001b[39m\"\u001b[39m\u001b[39mpast\u001b[39m\u001b[39m\"\u001b[39m: past_covariates[\u001b[39m0\u001b[39m]\u001b[39m.\u001b[39mwidth \u001b[39mif\u001b[39;00m past_covariates \u001b[39melse\u001b[39;00m \u001b[39mNone\u001b[39;00m,\n\u001b[1;32m    818\u001b[0m     \u001b[39m\"\u001b[39m\u001b[39mfuture\u001b[39m\u001b[39m\"\u001b[39m: future_covariates[\u001b[39m0\u001b[39m]\u001b[39m.\u001b[39mwidth \u001b[39mif\u001b[39;00m future_covariates \u001b[39melse\u001b[39;00m \u001b[39mNone\u001b[39;00m,\n\u001b[1;32m    819\u001b[0m }\n\u001b[0;32m--> 820\u001b[0m raise_if_not(\n\u001b[1;32m    821\u001b[0m     pred_input_dim \u001b[39m==\u001b[39;49m \u001b[39mself\u001b[39;49m\u001b[39m.\u001b[39;49minput_dim,\n\u001b[1;32m    822\u001b[0m     \u001b[39mf\u001b[39;49m\u001b[39m\"\u001b[39;49m\u001b[39mThe number of components of the target series and the covariates provided for prediction doesn\u001b[39;49m\u001b[39m'\u001b[39;49m\u001b[39mt \u001b[39;49m\u001b[39m\"\u001b[39;49m\n\u001b[1;32m    823\u001b[0m     \u001b[39mf\u001b[39;49m\u001b[39m\"\u001b[39;49m\u001b[39mmatch the number of components of the target series and the covariates this model has been \u001b[39;49m\u001b[39m\"\u001b[39;49m\n\u001b[1;32m    824\u001b[0m     \u001b[39mf\u001b[39;49m\u001b[39m\"\u001b[39;49m\u001b[39mtrained on.\u001b[39;49m\u001b[39m\\n\u001b[39;49;00m\u001b[39m\"\u001b[39;49m\n\u001b[1;32m    825\u001b[0m     \u001b[39mf\u001b[39;49m\u001b[39m\"\u001b[39;49m\u001b[39mProvided number of components for prediction: \u001b[39;49m\u001b[39m{\u001b[39;49;00mpred_input_dim\u001b[39m}\u001b[39;49;00m\u001b[39m\\n\u001b[39;49;00m\u001b[39m\"\u001b[39;49m\n\u001b[1;32m    826\u001b[0m     \u001b[39mf\u001b[39;49m\u001b[39m\"\u001b[39;49m\u001b[39mProvided number of components for training: \u001b[39;49m\u001b[39m{\u001b[39;49;00m\u001b[39mself\u001b[39;49m\u001b[39m.\u001b[39;49minput_dim\u001b[39m}\u001b[39;49;00m\u001b[39m\"\u001b[39;49m,\n\u001b[1;32m    827\u001b[0m )\n\u001b[1;32m    829\u001b[0m \u001b[39m# prediction preprocessing\u001b[39;00m\n\u001b[1;32m    830\u001b[0m covariates \u001b[39m=\u001b[39m {\n\u001b[1;32m    831\u001b[0m     \u001b[39m\"\u001b[39m\u001b[39mpast\u001b[39m\u001b[39m\"\u001b[39m: (past_covariates, \u001b[39mself\u001b[39m\u001b[39m.\u001b[39mlags\u001b[39m.\u001b[39mget(\u001b[39m\"\u001b[39m\u001b[39mpast\u001b[39m\u001b[39m\"\u001b[39m)),\n\u001b[1;32m    832\u001b[0m     \u001b[39m\"\u001b[39m\u001b[39mfuture\u001b[39m\u001b[39m\"\u001b[39m: (future_covariates, \u001b[39mself\u001b[39m\u001b[39m.\u001b[39mlags\u001b[39m.\u001b[39mget(\u001b[39m\"\u001b[39m\u001b[39mfuture\u001b[39m\u001b[39m\"\u001b[39m)),\n\u001b[1;32m    833\u001b[0m }\n",
      "File \u001b[0;32m~/Desktop/tdt4173/data/venv/lib/python3.9/site-packages/darts/logging.py:78\u001b[0m, in \u001b[0;36mraise_if_not\u001b[0;34m(condition, message, logger)\u001b[0m\n\u001b[1;32m     76\u001b[0m \u001b[39mif\u001b[39;00m \u001b[39mnot\u001b[39;00m condition:\n\u001b[1;32m     77\u001b[0m     logger\u001b[39m.\u001b[39merror(\u001b[39m\"\u001b[39m\u001b[39mValueError: \u001b[39m\u001b[39m\"\u001b[39m \u001b[39m+\u001b[39m message)\n\u001b[0;32m---> 78\u001b[0m     \u001b[39mraise\u001b[39;00m \u001b[39mValueError\u001b[39;00m(message)\n",
      "\u001b[0;31mValueError\u001b[0m: The number of components of the target series and the covariates provided for prediction doesn't match the number of components of the target series and the covariates this model has been trained on.\nProvided number of components for prediction: {'target': 1, 'past': None, 'future': 51}\nProvided number of components for training: {'target': 1, 'past': None, 'future': 54}"
     ]
    }
   ],
   "source": [
    "predictions = []\n",
    "for i in range(3):\n",
    "    yt = train_series[i].univariate_component(\"y\")\n",
    "    print(f\"SHape of covariate_future: {covariate_future[i].pd_dataframe().shape}\")\n",
    "    print(covariate_future[i].start_time(), \"\\tEnd: \", covariate_future[i].end_time())\n",
    "    print(f\"SHape of train_series: {train_series[i].pd_dataframe().shape}\")\n",
    "    print(train_series[i].start_time(), \"\\tEnd: \", train_series[i].end_time())\n",
    "    #print(covariate_trains_list[i].start_time(), \"\\tEnd: \", covariate_trains_list[i].end_time())\n",
    "    if len(models) == 3:\n",
    "        model = models[i]\n",
    "    else:\n",
    "        model = model\n",
    "\n",
    "    y_pred = model.predict(len(covariate_future[i]), series=yt, future_covariates=train_series[i].drop_columns(\"y\").concatenate(covariate_future[i]))\n",
    "    predictions.append(y_pred)\n",
    "\n",
    "    # for j in range(len(y_trains)):\n",
    "    #     y_trains[j].plot(label=f\"y_train{j}\")\n",
    "    train_series[i].univariate_component(\"y\").plot(label=f\"y_train{i}\", new_plot=True)\n",
    "    y_pred.plot(label='Predicted')"
   ]
  },
  {
   "cell_type": "code",
   "execution_count": null,
   "metadata": {},
   "outputs": [
    {
     "data": {
      "text/html": [
       "<div>\n",
       "<style scoped>\n",
       "    .dataframe tbody tr th:only-of-type {\n",
       "        vertical-align: middle;\n",
       "    }\n",
       "\n",
       "    .dataframe tbody tr th {\n",
       "        vertical-align: top;\n",
       "    }\n",
       "\n",
       "    .dataframe thead th {\n",
       "        text-align: right;\n",
       "    }\n",
       "</style>\n",
       "<table border=\"1\" class=\"dataframe\">\n",
       "  <thead>\n",
       "    <tr style=\"text-align: right;\">\n",
       "      <th>component</th>\n",
       "      <th>absolute_humidity_2m:gm3</th>\n",
       "      <th>air_density_2m:kgm3</th>\n",
       "      <th>ceiling_height_agl:m</th>\n",
       "      <th>clear_sky_energy_1h:J</th>\n",
       "      <th>clear_sky_rad:W</th>\n",
       "      <th>cloud_base_agl:m</th>\n",
       "      <th>dew_or_rime:idx</th>\n",
       "      <th>dew_point_2m:K</th>\n",
       "      <th>diffuse_rad:W</th>\n",
       "      <th>diffuse_rad_1h:J</th>\n",
       "      <th>...</th>\n",
       "      <th>wind_speed_10m:ms</th>\n",
       "      <th>wind_speed_u_10m:ms</th>\n",
       "      <th>wind_speed_v_10m:ms</th>\n",
       "      <th>wind_speed_w_1000hPa:ms</th>\n",
       "      <th>time_diff</th>\n",
       "      <th>hour</th>\n",
       "      <th>month</th>\n",
       "      <th>weekday</th>\n",
       "      <th>quarter</th>\n",
       "      <th>holidays</th>\n",
       "    </tr>\n",
       "    <tr>\n",
       "      <th>ds</th>\n",
       "      <th></th>\n",
       "      <th></th>\n",
       "      <th></th>\n",
       "      <th></th>\n",
       "      <th></th>\n",
       "      <th></th>\n",
       "      <th></th>\n",
       "      <th></th>\n",
       "      <th></th>\n",
       "      <th></th>\n",
       "      <th></th>\n",
       "      <th></th>\n",
       "      <th></th>\n",
       "      <th></th>\n",
       "      <th></th>\n",
       "      <th></th>\n",
       "      <th></th>\n",
       "      <th></th>\n",
       "      <th></th>\n",
       "      <th></th>\n",
       "      <th></th>\n",
       "    </tr>\n",
       "  </thead>\n",
       "  <tbody>\n",
       "    <tr>\n",
       "      <th>2023-05-01 00:00:00</th>\n",
       "      <td>-0.501441</td>\n",
       "      <td>0.804382</td>\n",
       "      <td>-0.851532</td>\n",
       "      <td>-1.000000</td>\n",
       "      <td>-1.000000</td>\n",
       "      <td>-0.818128</td>\n",
       "      <td>0.0</td>\n",
       "      <td>0.850319</td>\n",
       "      <td>-1.000000</td>\n",
       "      <td>-1.000000</td>\n",
       "      <td>...</td>\n",
       "      <td>-0.404896</td>\n",
       "      <td>0.012212</td>\n",
       "      <td>0.411411</td>\n",
       "      <td>-1.0</td>\n",
       "      <td>-0.139356</td>\n",
       "      <td>-1.000000</td>\n",
       "      <td>-0.565217</td>\n",
       "      <td>-1.181818</td>\n",
       "      <td>-0.333333</td>\n",
       "      <td>-1.000000</td>\n",
       "    </tr>\n",
       "    <tr>\n",
       "      <th>2023-05-01 01:00:00</th>\n",
       "      <td>-0.507205</td>\n",
       "      <td>0.803330</td>\n",
       "      <td>-0.782064</td>\n",
       "      <td>-1.000000</td>\n",
       "      <td>-1.000000</td>\n",
       "      <td>-0.815807</td>\n",
       "      <td>0.0</td>\n",
       "      <td>0.848957</td>\n",
       "      <td>-1.000000</td>\n",
       "      <td>-1.000000</td>\n",
       "      <td>...</td>\n",
       "      <td>-0.423729</td>\n",
       "      <td>-0.006784</td>\n",
       "      <td>0.405405</td>\n",
       "      <td>-1.0</td>\n",
       "      <td>-0.089820</td>\n",
       "      <td>-0.999651</td>\n",
       "      <td>-0.565217</td>\n",
       "      <td>-1.181818</td>\n",
       "      <td>-0.333333</td>\n",
       "      <td>-1.000000</td>\n",
       "    </tr>\n",
       "    <tr>\n",
       "      <th>2023-05-01 02:00:00</th>\n",
       "      <td>-0.521614</td>\n",
       "      <td>0.800175</td>\n",
       "      <td>-0.708611</td>\n",
       "      <td>-1.000000</td>\n",
       "      <td>-1.000000</td>\n",
       "      <td>-0.794340</td>\n",
       "      <td>0.0</td>\n",
       "      <td>0.846232</td>\n",
       "      <td>-1.000000</td>\n",
       "      <td>-1.000000</td>\n",
       "      <td>...</td>\n",
       "      <td>-0.450094</td>\n",
       "      <td>-0.025780</td>\n",
       "      <td>0.393393</td>\n",
       "      <td>-1.0</td>\n",
       "      <td>-0.040283</td>\n",
       "      <td>-0.999302</td>\n",
       "      <td>-0.565217</td>\n",
       "      <td>-1.181818</td>\n",
       "      <td>-0.333333</td>\n",
       "      <td>-1.000000</td>\n",
       "    </tr>\n",
       "    <tr>\n",
       "      <th>2023-05-01 03:00:00</th>\n",
       "      <td>-0.536023</td>\n",
       "      <td>0.797721</td>\n",
       "      <td>-0.623767</td>\n",
       "      <td>-0.993225</td>\n",
       "      <td>-0.972039</td>\n",
       "      <td>-0.797861</td>\n",
       "      <td>0.0</td>\n",
       "      <td>0.843508</td>\n",
       "      <td>-0.943571</td>\n",
       "      <td>-0.971714</td>\n",
       "      <td>...</td>\n",
       "      <td>-0.472693</td>\n",
       "      <td>-0.058345</td>\n",
       "      <td>0.387387</td>\n",
       "      <td>-1.0</td>\n",
       "      <td>0.009254</td>\n",
       "      <td>-0.998954</td>\n",
       "      <td>-0.565217</td>\n",
       "      <td>-1.181818</td>\n",
       "      <td>-0.333333</td>\n",
       "      <td>-1.000000</td>\n",
       "    </tr>\n",
       "    <tr>\n",
       "      <th>2023-05-01 04:00:00</th>\n",
       "      <td>-0.550432</td>\n",
       "      <td>0.796319</td>\n",
       "      <td>-0.642405</td>\n",
       "      <td>-0.905141</td>\n",
       "      <td>-0.815890</td>\n",
       "      <td>-0.842371</td>\n",
       "      <td>0.0</td>\n",
       "      <td>0.841635</td>\n",
       "      <td>-0.714694</td>\n",
       "      <td>-0.828376</td>\n",
       "      <td>...</td>\n",
       "      <td>-0.499058</td>\n",
       "      <td>-0.074627</td>\n",
       "      <td>0.375375</td>\n",
       "      <td>-1.0</td>\n",
       "      <td>0.058790</td>\n",
       "      <td>-0.998605</td>\n",
       "      <td>-0.565217</td>\n",
       "      <td>-1.181818</td>\n",
       "      <td>-0.333333</td>\n",
       "      <td>-1.000000</td>\n",
       "    </tr>\n",
       "    <tr>\n",
       "      <th>...</th>\n",
       "      <td>...</td>\n",
       "      <td>...</td>\n",
       "      <td>...</td>\n",
       "      <td>...</td>\n",
       "      <td>...</td>\n",
       "      <td>...</td>\n",
       "      <td>...</td>\n",
       "      <td>...</td>\n",
       "      <td>...</td>\n",
       "      <td>...</td>\n",
       "      <td>...</td>\n",
       "      <td>...</td>\n",
       "      <td>...</td>\n",
       "      <td>...</td>\n",
       "      <td>...</td>\n",
       "      <td>...</td>\n",
       "      <td>...</td>\n",
       "      <td>...</td>\n",
       "      <td>...</td>\n",
       "      <td>...</td>\n",
       "      <td>...</td>\n",
       "    </tr>\n",
       "    <tr>\n",
       "      <th>2023-07-03 19:00:00</th>\n",
       "      <td>-0.037464</td>\n",
       "      <td>0.678878</td>\n",
       "      <td>-0.408064</td>\n",
       "      <td>-0.680728</td>\n",
       "      <td>-0.796192</td>\n",
       "      <td>-0.654991</td>\n",
       "      <td>0.0</td>\n",
       "      <td>0.917923</td>\n",
       "      <td>-0.797607</td>\n",
       "      <td>-0.716604</td>\n",
       "      <td>...</td>\n",
       "      <td>-0.630885</td>\n",
       "      <td>0.009498</td>\n",
       "      <td>-0.153153</td>\n",
       "      <td>-1.0</td>\n",
       "      <td>0.801468</td>\n",
       "      <td>-0.993372</td>\n",
       "      <td>-0.391304</td>\n",
       "      <td>-1.181818</td>\n",
       "      <td>0.000000</td>\n",
       "      <td>-1.666667</td>\n",
       "    </tr>\n",
       "    <tr>\n",
       "      <th>2023-07-03 20:00:00</th>\n",
       "      <td>-0.017291</td>\n",
       "      <td>0.683436</td>\n",
       "      <td>-0.422183</td>\n",
       "      <td>-0.876642</td>\n",
       "      <td>-0.940606</td>\n",
       "      <td>-0.724010</td>\n",
       "      <td>0.0</td>\n",
       "      <td>0.919796</td>\n",
       "      <td>-0.913776</td>\n",
       "      <td>-0.855055</td>\n",
       "      <td>...</td>\n",
       "      <td>-0.630885</td>\n",
       "      <td>0.012212</td>\n",
       "      <td>-0.141141</td>\n",
       "      <td>-1.0</td>\n",
       "      <td>0.851005</td>\n",
       "      <td>-0.993023</td>\n",
       "      <td>-0.391304</td>\n",
       "      <td>-1.181818</td>\n",
       "      <td>0.000000</td>\n",
       "      <td>-1.666667</td>\n",
       "    </tr>\n",
       "    <tr>\n",
       "      <th>2023-07-03 21:00:00</th>\n",
       "      <td>0.017291</td>\n",
       "      <td>0.689045</td>\n",
       "      <td>-0.573112</td>\n",
       "      <td>-0.974952</td>\n",
       "      <td>-0.996946</td>\n",
       "      <td>-0.721972</td>\n",
       "      <td>0.0</td>\n",
       "      <td>0.923031</td>\n",
       "      <td>-0.992175</td>\n",
       "      <td>-0.952700</td>\n",
       "      <td>...</td>\n",
       "      <td>-0.612053</td>\n",
       "      <td>0.017639</td>\n",
       "      <td>-0.159159</td>\n",
       "      <td>-1.0</td>\n",
       "      <td>0.900541</td>\n",
       "      <td>-0.992675</td>\n",
       "      <td>-0.391304</td>\n",
       "      <td>-1.181818</td>\n",
       "      <td>0.000000</td>\n",
       "      <td>-1.666667</td>\n",
       "    </tr>\n",
       "    <tr>\n",
       "      <th>2023-07-03 22:00:00</th>\n",
       "      <td>0.040346</td>\n",
       "      <td>0.692550</td>\n",
       "      <td>-0.641673</td>\n",
       "      <td>-0.999759</td>\n",
       "      <td>-1.000000</td>\n",
       "      <td>-0.697172</td>\n",
       "      <td>0.0</td>\n",
       "      <td>0.925415</td>\n",
       "      <td>-1.000000</td>\n",
       "      <td>-0.996053</td>\n",
       "      <td>...</td>\n",
       "      <td>-0.661017</td>\n",
       "      <td>-0.020353</td>\n",
       "      <td>-0.153153</td>\n",
       "      <td>-1.0</td>\n",
       "      <td>0.950078</td>\n",
       "      <td>-0.992326</td>\n",
       "      <td>-0.391304</td>\n",
       "      <td>-1.181818</td>\n",
       "      <td>0.000000</td>\n",
       "      <td>-1.666667</td>\n",
       "    </tr>\n",
       "    <tr>\n",
       "      <th>2023-07-03 23:00:00</th>\n",
       "      <td>0.043228</td>\n",
       "      <td>0.693602</td>\n",
       "      <td>-0.672112</td>\n",
       "      <td>-1.000000</td>\n",
       "      <td>-1.000000</td>\n",
       "      <td>-0.753556</td>\n",
       "      <td>0.0</td>\n",
       "      <td>0.925415</td>\n",
       "      <td>-1.000000</td>\n",
       "      <td>-1.000000</td>\n",
       "      <td>...</td>\n",
       "      <td>-0.702448</td>\n",
       "      <td>-0.042062</td>\n",
       "      <td>-0.132132</td>\n",
       "      <td>-1.0</td>\n",
       "      <td>0.999615</td>\n",
       "      <td>-0.991977</td>\n",
       "      <td>-0.391304</td>\n",
       "      <td>-1.181818</td>\n",
       "      <td>0.000000</td>\n",
       "      <td>-1.666667</td>\n",
       "    </tr>\n",
       "  </tbody>\n",
       "</table>\n",
       "<p>1536 rows × 51 columns</p>\n",
       "</div>"
      ],
      "text/plain": [
       "component            absolute_humidity_2m:gm3  air_density_2m:kgm3  \\\n",
       "ds                                                                   \n",
       "2023-05-01 00:00:00                 -0.501441             0.804382   \n",
       "2023-05-01 01:00:00                 -0.507205             0.803330   \n",
       "2023-05-01 02:00:00                 -0.521614             0.800175   \n",
       "2023-05-01 03:00:00                 -0.536023             0.797721   \n",
       "2023-05-01 04:00:00                 -0.550432             0.796319   \n",
       "...                                       ...                  ...   \n",
       "2023-07-03 19:00:00                 -0.037464             0.678878   \n",
       "2023-07-03 20:00:00                 -0.017291             0.683436   \n",
       "2023-07-03 21:00:00                  0.017291             0.689045   \n",
       "2023-07-03 22:00:00                  0.040346             0.692550   \n",
       "2023-07-03 23:00:00                  0.043228             0.693602   \n",
       "\n",
       "component            ceiling_height_agl:m  clear_sky_energy_1h:J  \\\n",
       "ds                                                                 \n",
       "2023-05-01 00:00:00             -0.851532              -1.000000   \n",
       "2023-05-01 01:00:00             -0.782064              -1.000000   \n",
       "2023-05-01 02:00:00             -0.708611              -1.000000   \n",
       "2023-05-01 03:00:00             -0.623767              -0.993225   \n",
       "2023-05-01 04:00:00             -0.642405              -0.905141   \n",
       "...                                   ...                    ...   \n",
       "2023-07-03 19:00:00             -0.408064              -0.680728   \n",
       "2023-07-03 20:00:00             -0.422183              -0.876642   \n",
       "2023-07-03 21:00:00             -0.573112              -0.974952   \n",
       "2023-07-03 22:00:00             -0.641673              -0.999759   \n",
       "2023-07-03 23:00:00             -0.672112              -1.000000   \n",
       "\n",
       "component            clear_sky_rad:W  cloud_base_agl:m  dew_or_rime:idx  \\\n",
       "ds                                                                        \n",
       "2023-05-01 00:00:00        -1.000000         -0.818128              0.0   \n",
       "2023-05-01 01:00:00        -1.000000         -0.815807              0.0   \n",
       "2023-05-01 02:00:00        -1.000000         -0.794340              0.0   \n",
       "2023-05-01 03:00:00        -0.972039         -0.797861              0.0   \n",
       "2023-05-01 04:00:00        -0.815890         -0.842371              0.0   \n",
       "...                              ...               ...              ...   \n",
       "2023-07-03 19:00:00        -0.796192         -0.654991              0.0   \n",
       "2023-07-03 20:00:00        -0.940606         -0.724010              0.0   \n",
       "2023-07-03 21:00:00        -0.996946         -0.721972              0.0   \n",
       "2023-07-03 22:00:00        -1.000000         -0.697172              0.0   \n",
       "2023-07-03 23:00:00        -1.000000         -0.753556              0.0   \n",
       "\n",
       "component            dew_point_2m:K  diffuse_rad:W  diffuse_rad_1h:J  ...  \\\n",
       "ds                                                                    ...   \n",
       "2023-05-01 00:00:00        0.850319      -1.000000         -1.000000  ...   \n",
       "2023-05-01 01:00:00        0.848957      -1.000000         -1.000000  ...   \n",
       "2023-05-01 02:00:00        0.846232      -1.000000         -1.000000  ...   \n",
       "2023-05-01 03:00:00        0.843508      -0.943571         -0.971714  ...   \n",
       "2023-05-01 04:00:00        0.841635      -0.714694         -0.828376  ...   \n",
       "...                             ...            ...               ...  ...   \n",
       "2023-07-03 19:00:00        0.917923      -0.797607         -0.716604  ...   \n",
       "2023-07-03 20:00:00        0.919796      -0.913776         -0.855055  ...   \n",
       "2023-07-03 21:00:00        0.923031      -0.992175         -0.952700  ...   \n",
       "2023-07-03 22:00:00        0.925415      -1.000000         -0.996053  ...   \n",
       "2023-07-03 23:00:00        0.925415      -1.000000         -1.000000  ...   \n",
       "\n",
       "component            wind_speed_10m:ms  wind_speed_u_10m:ms  \\\n",
       "ds                                                            \n",
       "2023-05-01 00:00:00          -0.404896             0.012212   \n",
       "2023-05-01 01:00:00          -0.423729            -0.006784   \n",
       "2023-05-01 02:00:00          -0.450094            -0.025780   \n",
       "2023-05-01 03:00:00          -0.472693            -0.058345   \n",
       "2023-05-01 04:00:00          -0.499058            -0.074627   \n",
       "...                                ...                  ...   \n",
       "2023-07-03 19:00:00          -0.630885             0.009498   \n",
       "2023-07-03 20:00:00          -0.630885             0.012212   \n",
       "2023-07-03 21:00:00          -0.612053             0.017639   \n",
       "2023-07-03 22:00:00          -0.661017            -0.020353   \n",
       "2023-07-03 23:00:00          -0.702448            -0.042062   \n",
       "\n",
       "component            wind_speed_v_10m:ms  wind_speed_w_1000hPa:ms  time_diff  \\\n",
       "ds                                                                             \n",
       "2023-05-01 00:00:00             0.411411                     -1.0  -0.139356   \n",
       "2023-05-01 01:00:00             0.405405                     -1.0  -0.089820   \n",
       "2023-05-01 02:00:00             0.393393                     -1.0  -0.040283   \n",
       "2023-05-01 03:00:00             0.387387                     -1.0   0.009254   \n",
       "2023-05-01 04:00:00             0.375375                     -1.0   0.058790   \n",
       "...                                  ...                      ...        ...   \n",
       "2023-07-03 19:00:00            -0.153153                     -1.0   0.801468   \n",
       "2023-07-03 20:00:00            -0.141141                     -1.0   0.851005   \n",
       "2023-07-03 21:00:00            -0.159159                     -1.0   0.900541   \n",
       "2023-07-03 22:00:00            -0.153153                     -1.0   0.950078   \n",
       "2023-07-03 23:00:00            -0.132132                     -1.0   0.999615   \n",
       "\n",
       "component                hour     month   weekday   quarter  holidays  \n",
       "ds                                                                     \n",
       "2023-05-01 00:00:00 -1.000000 -0.565217 -1.181818 -0.333333 -1.000000  \n",
       "2023-05-01 01:00:00 -0.999651 -0.565217 -1.181818 -0.333333 -1.000000  \n",
       "2023-05-01 02:00:00 -0.999302 -0.565217 -1.181818 -0.333333 -1.000000  \n",
       "2023-05-01 03:00:00 -0.998954 -0.565217 -1.181818 -0.333333 -1.000000  \n",
       "2023-05-01 04:00:00 -0.998605 -0.565217 -1.181818 -0.333333 -1.000000  \n",
       "...                       ...       ...       ...       ...       ...  \n",
       "2023-07-03 19:00:00 -0.993372 -0.391304 -1.181818  0.000000 -1.666667  \n",
       "2023-07-03 20:00:00 -0.993023 -0.391304 -1.181818  0.000000 -1.666667  \n",
       "2023-07-03 21:00:00 -0.992675 -0.391304 -1.181818  0.000000 -1.666667  \n",
       "2023-07-03 22:00:00 -0.992326 -0.391304 -1.181818  0.000000 -1.666667  \n",
       "2023-07-03 23:00:00 -0.991977 -0.391304 -1.181818  0.000000 -1.666667  \n",
       "\n",
       "[1536 rows x 51 columns]"
      ]
     },
     "execution_count": 155,
     "metadata": {},
     "output_type": "execute_result"
    }
   ],
   "source": [
    "covariate_future[0].pd_dataframe()"
   ]
  },
  {
   "cell_type": "code",
   "execution_count": null,
   "metadata": {},
   "outputs": [
    {
     "data": {
      "image/png": "[encoded data removed]",
      "text/plain": [
       "<Figure size 640x480 with 1 Axes>"
      ]
     },
     "metadata": {},
     "output_type": "display_data"
    },
    {
     "data": {
      "image/png": "[encoded data removed]",
      "text/plain": [
       "<Figure size 640x480 with 1 Axes>"
      ]
     },
     "metadata": {},
     "output_type": "display_data"
    },
    {
     "data": {
      "image/png": "[encoded data removed]",
      "text/plain": [
       "<Figure size 640x480 with 1 Axes>"
      ]
     },
     "metadata": {},
     "output_type": "display_data"
    }
   ],
   "source": [
    "# transform predictions back\n",
    "for i in range(3):\n",
    "    \"\"\"\n",
    "    component_mask (Optional[np.ndarray] = None) – Optionally, a 1-D boolean np.ndarray of length series.n_components that specifies which components of the underlying series the inverse transform should consider.\n",
    "    \"\"\"\n",
    "    #y\n",
    "    temp = covariate_future[i].pd_dataframe()\n",
    "    temp[\"y\"] = predictions[i].values()\n",
    "    temp = TimeSeries.from_dataframe(df=temp, freq=\"H\")\n",
    "\n",
    "    predictions[i] = transformers[i].inverse_transform(temp).univariate_component(\"y\")\n",
    "    predictions[i].plot(label='Predicted', new_plot=True)"
   ]
  },
  {
   "cell_type": "markdown",
   "metadata": {},
   "source": [
    "# Submit"
   ]
  },
  {
   "cell_type": "code",
   "execution_count": null,
   "metadata": {},
   "outputs": [
    {
     "name": "stdout",
     "output_type": "stream",
     "text": [
      "          prediction   id\n",
      "location                 \n",
      "A                720  720\n",
      "B                720  720\n",
      "C                720  720\n"
     ]
    }
   ],
   "source": [
    "# pull in test.csv and create submission.csv\n",
    "test = pd.read_csv('test.csv', index_col=0)\n",
    "# test has Id, Time, Location\n",
    "# X_test has location_A, location_B, location_C\n",
    "# we have to make sure that test has same dates as X_test, then predict y for each row in test, then save as submission.csv (using correct Id from test)\n",
    "\n",
    "# convert index to datetime\n",
    "test[\"id\"] = test.index\n",
    "test.set_index('time', inplace=True)\n",
    "test.index = pd.to_datetime(test.index).astype('datetime64[ns]')\n",
    "test\n",
    "\n",
    "# split test into each location\n",
    "print(test.groupby('location').count())\n"
   ]
  },
  {
   "cell_type": "code",
   "execution_count": null,
   "metadata": {},
   "outputs": [
    {
     "name": "stdout",
     "output_type": "stream",
     "text": [
      "A\n",
      "component                     y\n",
      "ds                             \n",
      "2023-05-01 00:00:00   -5.835496\n",
      "2023-05-01 01:00:00   -6.387919\n",
      "2023-05-01 02:00:00   -8.521435\n",
      "2023-05-01 03:00:00   67.882004\n",
      "2023-05-01 04:00:00  285.255676\n",
      "...                         ...\n",
      "2023-07-03 19:00:00  146.030472\n",
      "2023-07-03 20:00:00   50.851536\n",
      "2023-07-03 21:00:00    2.547946\n",
      "2023-07-03 22:00:00   -2.423548\n",
      "2023-07-03 23:00:00   -4.908966\n",
      "\n",
      "[1536 rows x 1 columns]\n",
      "B\n",
      "component                    y\n",
      "ds                            \n",
      "2023-05-01 00:00:00   0.212924\n",
      "2023-05-01 01:00:00   0.175661\n",
      "2023-05-01 02:00:00   0.162799\n",
      "2023-05-01 03:00:00   4.299769\n",
      "2023-05-01 04:00:00  58.017262\n",
      "...                        ...\n",
      "2023-07-03 19:00:00  62.364307\n",
      "2023-07-03 20:00:00  37.375877\n",
      "2023-07-03 21:00:00  35.720123\n",
      "2023-07-03 22:00:00  34.442139\n",
      "2023-07-03 23:00:00  44.438900\n",
      "\n",
      "[1536 rows x 1 columns]\n",
      "C\n",
      "component                    y\n",
      "ds                            \n",
      "2023-05-01 00:00:00   0.069200\n",
      "2023-05-01 01:00:00   0.052013\n",
      "2023-05-01 02:00:00  -0.065025\n",
      "2023-05-01 03:00:00   0.772713\n",
      "2023-05-01 04:00:00   6.009603\n",
      "...                        ...\n",
      "2023-07-03 19:00:00  55.733028\n",
      "2023-07-03 20:00:00  26.704355\n",
      "2023-07-03 21:00:00   7.228915\n",
      "2023-07-03 22:00:00   4.432784\n",
      "2023-07-03 23:00:00  10.270586\n",
      "\n",
      "[1536 rows x 1 columns]\n",
      "Last submission number: 29\n"
     ]
    },
    {
     "data": {
      "image/png": "[encoded data removed]",
      "text/plain": [
       "<Figure size 640x480 with 1 Axes>"
      ]
     },
     "metadata": {},
     "output_type": "display_data"
    },
    {
     "data": {
      "image/png": "[encoded data removed]",
      "text/plain": [
       "<Figure size 640x480 with 1 Axes>"
      ]
     },
     "metadata": {},
     "output_type": "display_data"
    },
    {
     "data": {
      "image/png": "[encoded data removed]",
      "text/plain": [
       "<Figure size 640x480 with 1 Axes>"
      ]
     },
     "metadata": {},
     "output_type": "display_data"
    }
   ],
   "source": [
    "import os\n",
    "import pandas as pd\n",
    "\n",
    "# Assuming X_test and model are already defined\n",
    "# Assuming 'time' is also a datetime64[ns] column in X_test\n",
    "\n",
    "location_mapping = {\n",
    "    'A': 0,\n",
    "    'B': 1,\n",
    "    'C': 2\n",
    "}\n",
    "\n",
    "# Initialize an empty DataFrame to store the results\n",
    "submission_df = pd.DataFrame()\n",
    "\n",
    "# Group test by 'location' and iterate through each group\n",
    "for location, group in test.groupby('location'):\n",
    "    print(location)\n",
    "    prediction = predictions[location_mapping[location]]\n",
    "    y_pred = prediction.pd_dataframe()\n",
    "    print(y_pred)\n",
    "    \n",
    "    # print(len(y_pred_submission), len(submission_series))\n",
    "    # print(y_pred_submission.all_values().shape)\n",
    "    #print(y_pred_submission.pd_dataframe()[\"y\"])\n",
    "    \n",
    "    # Merge group and y_pred based on the index\n",
    "    merged_df = pd.merge_asof(group.sort_index(), y_pred.sort_index(),\n",
    "                              left_index=True, right_index=True)\n",
    "\n",
    "    to_plot = TimeSeries.from_dataframe(df=merged_df[[\"y\"]], freq=\"H\", fill_missing_dates=False, fillna_value=None)\n",
    "    to_plot.plot(label=\"Just to check\", new_plot=True)\n",
    "\n",
    "    all_gaps = to_plot.gaps()\n",
    "    print_all_gaps = []\n",
    "    for index, row in all_gaps.iterrows():\n",
    "        gap_start, gap_end = row['gap_start'], row['gap_end']\n",
    "        \n",
    "        sliced_series = prediction.slice(gap_start, gap_end)\n",
    "        print_all_gaps.append(sliced_series)\n",
    "        sliced_series.plot(label=None)\n",
    "\n",
    "\n",
    "    \n",
    "    # Create a DataFrame with 'Id' and predicted values\n",
    "    result_df = pd.DataFrame({\n",
    "        'id': merged_df['id'],\n",
    "        'prediction': merged_df['y']\n",
    "    })\n",
    "    \n",
    "    # Append to submission DataFrame\n",
    "    submission_df = pd.concat([submission_df, result_df])\n",
    "\n",
    "\n",
    "# Save the submission DataFrame to submissions folder, create new name based on last submission, format is submission_<last_submission_number + 1>.csv\n",
    "# Get the last submission number\n",
    "last_submission_number = int(max([int(filename.split('_')[1].split('.')[0]) for filename in os.listdir('submissions') if \"submission\" in filename]))\n",
    "print(\"Last submission number:\", last_submission_number)\n",
    "\n",
    "# Create the new filename\n",
    "new_filename = f'submission_{last_submission_number + 1}.csv'\n",
    "\n",
    "# Save the submission\n",
    "submission_df.to_csv(os.path.join('submissions', new_filename), index=False)\n"
   ]
  }
 ],
 "metadata": {
  "kernelspec": {
   "display_name": "venv",
   "language": "python",
   "name": "python3"
  },
  "language_info": {
   "codemirror_mode": {
    "name": "ipython",
    "version": 3
   },
   "file_extension": ".py",
   "mimetype": "text/x-python",
   "name": "python",
   "nbconvert_exporter": "python",
   "pygments_lexer": "ipython3",
   "version": "3.9.13"
  },
  "orig_nbformat": 4
 },
 "nbformat": 4,
 "nbformat_minor": 2
}
