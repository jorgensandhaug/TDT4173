{
 "cells": [
  {
   "cell_type": "code",
   "execution_count": 32,
   "metadata": {},
   "outputs": [
    {
     "data": {
      "text/html": [
       "<div>\n",
       "<style scoped>\n",
       "    .dataframe tbody tr th:only-of-type {\n",
       "        vertical-align: middle;\n",
       "    }\n",
       "\n",
       "    .dataframe tbody tr th {\n",
       "        vertical-align: top;\n",
       "    }\n",
       "\n",
       "    .dataframe thead th {\n",
       "        text-align: right;\n",
       "    }\n",
       "</style>\n",
       "<table border=\"1\" class=\"dataframe\">\n",
       "  <thead>\n",
       "    <tr style=\"text-align: right;\">\n",
       "      <th></th>\n",
       "      <th>time</th>\n",
       "      <th>location</th>\n",
       "      <th>consumption</th>\n",
       "      <th>temperature</th>\n",
       "    </tr>\n",
       "  </thead>\n",
       "  <tbody>\n",
       "    <tr>\n",
       "      <th>4</th>\n",
       "      <td>2022-04-07T21:00:00</td>\n",
       "      <td>trondheim</td>\n",
       "      <td>1.970098</td>\n",
       "      <td>-2.8</td>\n",
       "    </tr>\n",
       "    <tr>\n",
       "      <th>9</th>\n",
       "      <td>2022-04-07T22:00:00</td>\n",
       "      <td>trondheim</td>\n",
       "      <td>1.839443</td>\n",
       "      <td>-3.3</td>\n",
       "    </tr>\n",
       "    <tr>\n",
       "      <th>14</th>\n",
       "      <td>2022-04-07T23:00:00</td>\n",
       "      <td>trondheim</td>\n",
       "      <td>1.747675</td>\n",
       "      <td>-3.8</td>\n",
       "    </tr>\n",
       "    <tr>\n",
       "      <th>19</th>\n",
       "      <td>2022-04-08T00:00:00</td>\n",
       "      <td>trondheim</td>\n",
       "      <td>1.703176</td>\n",
       "      <td>-4.2</td>\n",
       "    </tr>\n",
       "    <tr>\n",
       "      <th>24</th>\n",
       "      <td>2022-04-08T01:00:00</td>\n",
       "      <td>trondheim</td>\n",
       "      <td>1.694300</td>\n",
       "      <td>-4.1</td>\n",
       "    </tr>\n",
       "  </tbody>\n",
       "</table>\n",
       "</div>"
      ],
      "text/plain": [
       "                   time   location  consumption  temperature\n",
       "4   2022-04-07T21:00:00  trondheim     1.970098         -2.8\n",
       "9   2022-04-07T22:00:00  trondheim     1.839443         -3.3\n",
       "14  2022-04-07T23:00:00  trondheim     1.747675         -3.8\n",
       "19  2022-04-08T00:00:00  trondheim     1.703176         -4.2\n",
       "24  2022-04-08T01:00:00  trondheim     1.694300         -4.1"
      ]
     },
     "execution_count": 32,
     "metadata": {},
     "output_type": "execute_result"
    }
   ],
   "source": [
    "import pandas as pd\n",
    "\n",
    "df = pd.read_csv('/Users/skog/Documents/1-2023-autumn/school/TDT4259-applied-data-science/data.csv')\n",
    "\n",
    "from datetime import datetime\n",
    "\n",
    "def convert_to_formats(timestamp_str):\n",
    "    # Parse the given timestamp string\n",
    "    dt = datetime.strptime(timestamp_str, '%Y-%m-%d %H:%M:%S')\n",
    "\n",
    "    # Convert to nanosecond UNIX epoch format\n",
    "    epoch_ns = int(dt.timestamp() * 1e9)\n",
    "\n",
    "    # Convert to RFC3339 format (it's essentially an ISO8601 format which is what datetime uses by default for 'isoformat' method)\n",
    "    rfc3339_format = dt.isoformat()\n",
    "\n",
    "    return rfc3339_format\n",
    "\n",
    "df['time'] = df['time'].apply(convert_to_formats)\n",
    "\n",
    "df = df[df[\"location\"] == \"trondheim\"]\n",
    "\n",
    "\n",
    "df.head()"
   ]
  },
  {
   "cell_type": "code",
   "execution_count": 27,
   "metadata": {},
   "outputs": [],
   "source": [
    "# load csv file\n",
    "import influxdb_client, os, time\n",
    "from influxdb_client import InfluxDBClient, Point, WritePrecision\n",
    "from influxdb_client.client.write_api import BATCH\n",
    "\n",
    "from influxdb_client import Point, InfluxDBClient, WriteOptions\n",
    "from influxdb_client.client.write_api import WriteType\n",
    "\n",
    "\n",
    "\n",
    "\n",
    "os.environ['INFLUXDB_TOKEN']='7l9z4vyVzXLN9G5MT7asSw7Qry-8ckJLw-EYkGBHYZVOs9jKxUv0H07yx66VahIT9g9BUTGHutFXCrgt3CmhcA=='\n",
    "\n",
    "token = os.environ.get(\"INFLUXDB_TOKEN\")\n",
    "org = \"admin\"\n",
    "url = \"http://localhost:8086\"\n",
    "\n",
    "write_client = influxdb_client.InfluxDBClient(url=url, token=token, org=org, debug=True)\n",
    "\n",
    "bucket=\"admin\"\n",
    "\n",
    "write_api = write_client.write_api(write_options=WriteType.batching, batch_size=50_000, flush_interval=10_000)\n",
    "   \n",
    "# for value in range(5):\n",
    "#   point = (\n",
    "#     Point(\"measurement2\")\n",
    "#     .tag(\"tagname1\", \"tagvalue1\")\n",
    "#     .field(\"field1\", value)\n",
    "#   )\n",
    "\n",
    "#   write_api.write(bucket=bucket, org=\"admin\", record=point)\n",
    "#   time.sleep(1) # separate points by 1 second\n",
    "\n",
    "# cols = [\"name, calories\"]\n",
    "\n",
    "# # df = df[cols]\n",
    "# df = df[[\"name\", \"calories\"]]\n",
    "\n",
    "# df\n",
    "\n",
    "# to csv\n",
    "# df.to_csv('/Users/skog/Downloads/cereal1.csv', index=False)"
   ]
  },
  {
   "cell_type": "code",
   "execution_count": 33,
   "metadata": {},
   "outputs": [
    {
     "ename": "KeyboardInterrupt",
     "evalue": "",
     "output_type": "error",
     "traceback": [
      "\u001b[0;31m---------------------------------------------------------------------------\u001b[0m",
      "\u001b[0;31mKeyboardInterrupt\u001b[0m                         Traceback (most recent call last)",
      "\u001b[1;32m/Users/skog/Documents/1-2023-autumn/school/TDT4173-machine-learning/project/TDT4173/temp.ipynb Cell 3\u001b[0m line \u001b[0;36m1\n\u001b[1;32m      <a href='vscode-notebook-cell:/Users/skog/Documents/1-2023-autumn/school/TDT4173-machine-learning/project/TDT4173/temp.ipynb#W4sZmlsZQ%3D%3D?line=4'>5</a>\u001b[0m \u001b[39mfor\u001b[39;00m index, row \u001b[39min\u001b[39;00m df\u001b[39m.\u001b[39miterrows():\n\u001b[1;32m      <a href='vscode-notebook-cell:/Users/skog/Documents/1-2023-autumn/school/TDT4173-machine-learning/project/TDT4173/temp.ipynb#W4sZmlsZQ%3D%3D?line=5'>6</a>\u001b[0m   point \u001b[39m=\u001b[39m (\n\u001b[1;32m      <a href='vscode-notebook-cell:/Users/skog/Documents/1-2023-autumn/school/TDT4173-machine-learning/project/TDT4173/temp.ipynb#W4sZmlsZQ%3D%3D?line=6'>7</a>\u001b[0m     Point(\u001b[39m\"\u001b[39m\u001b[39mmeasurement2\u001b[39m\u001b[39m\"\u001b[39m)\n\u001b[1;32m      <a href='vscode-notebook-cell:/Users/skog/Documents/1-2023-autumn/school/TDT4173-machine-learning/project/TDT4173/temp.ipynb#W4sZmlsZQ%3D%3D?line=7'>8</a>\u001b[0m     \u001b[39m.\u001b[39mtag(\u001b[39m\"\u001b[39m\u001b[39mlocation\u001b[39m\u001b[39m\"\u001b[39m,row[\u001b[39m\"\u001b[39m\u001b[39mlocation\u001b[39m\u001b[39m\"\u001b[39m])\n\u001b[0;32m   (...)\u001b[0m\n\u001b[1;32m     <a href='vscode-notebook-cell:/Users/skog/Documents/1-2023-autumn/school/TDT4173-machine-learning/project/TDT4173/temp.ipynb#W4sZmlsZQ%3D%3D?line=10'>11</a>\u001b[0m     \u001b[39m.\u001b[39mtime(row[\u001b[39m\"\u001b[39m\u001b[39mtime\u001b[39m\u001b[39m\"\u001b[39m], WritePrecision\u001b[39m.\u001b[39mNS)\n\u001b[1;32m     <a href='vscode-notebook-cell:/Users/skog/Documents/1-2023-autumn/school/TDT4173-machine-learning/project/TDT4173/temp.ipynb#W4sZmlsZQ%3D%3D?line=11'>12</a>\u001b[0m   )\n\u001b[0;32m---> <a href='vscode-notebook-cell:/Users/skog/Documents/1-2023-autumn/school/TDT4173-machine-learning/project/TDT4173/temp.ipynb#W4sZmlsZQ%3D%3D?line=13'>14</a>\u001b[0m   write_api\u001b[39m.\u001b[39;49mwrite(bucket\u001b[39m=\u001b[39;49mbucket, org\u001b[39m=\u001b[39;49m\u001b[39m\"\u001b[39;49m\u001b[39madmin\u001b[39;49m\u001b[39m\"\u001b[39;49m, record\u001b[39m=\u001b[39;49mpoint)\n",
      "File \u001b[0;32m/opt/homebrew/anaconda3/envs/ag/lib/python3.10/site-packages/influxdb_client/client/write_api.py:378\u001b[0m, in \u001b[0;36mWriteApi.write\u001b[0;34m(self, bucket, org, record, write_precision, **kwargs)\u001b[0m\n\u001b[1;32m    375\u001b[0m     final_string \u001b[39m=\u001b[39m \u001b[39mb\u001b[39m\u001b[39m'\u001b[39m\u001b[39m\\n\u001b[39;00m\u001b[39m'\u001b[39m\u001b[39m.\u001b[39mjoin(payload[\u001b[39m1\u001b[39m])\n\u001b[1;32m    376\u001b[0m     \u001b[39mreturn\u001b[39;00m \u001b[39mself\u001b[39m\u001b[39m.\u001b[39m_post_write(_async_req, bucket, org, final_string, payload[\u001b[39m0\u001b[39m])\n\u001b[0;32m--> 378\u001b[0m results \u001b[39m=\u001b[39m \u001b[39mlist\u001b[39;49m(\u001b[39mmap\u001b[39;49m(write_payload, payloads\u001b[39m.\u001b[39;49mitems()))\n\u001b[1;32m    379\u001b[0m \u001b[39mif\u001b[39;00m \u001b[39mnot\u001b[39;00m _async_req:\n\u001b[1;32m    380\u001b[0m     \u001b[39mreturn\u001b[39;00m \u001b[39mNone\u001b[39;00m\n",
      "File \u001b[0;32m/opt/homebrew/anaconda3/envs/ag/lib/python3.10/site-packages/influxdb_client/client/write_api.py:376\u001b[0m, in \u001b[0;36mWriteApi.write.<locals>.write_payload\u001b[0;34m(payload)\u001b[0m\n\u001b[1;32m    374\u001b[0m \u001b[39mdef\u001b[39;00m \u001b[39mwrite_payload\u001b[39m(payload):\n\u001b[1;32m    375\u001b[0m     final_string \u001b[39m=\u001b[39m \u001b[39mb\u001b[39m\u001b[39m'\u001b[39m\u001b[39m\\n\u001b[39;00m\u001b[39m'\u001b[39m\u001b[39m.\u001b[39mjoin(payload[\u001b[39m1\u001b[39m])\n\u001b[0;32m--> 376\u001b[0m     \u001b[39mreturn\u001b[39;00m \u001b[39mself\u001b[39;49m\u001b[39m.\u001b[39;49m_post_write(_async_req, bucket, org, final_string, payload[\u001b[39m0\u001b[39;49m])\n",
      "File \u001b[0;32m/opt/homebrew/anaconda3/envs/ag/lib/python3.10/site-packages/influxdb_client/client/write_api.py:509\u001b[0m, in \u001b[0;36mWriteApi._post_write\u001b[0;34m(self, _async_req, bucket, org, body, precision, **kwargs)\u001b[0m\n\u001b[1;32m    507\u001b[0m \u001b[39mdef\u001b[39;00m \u001b[39m_post_write\u001b[39m(\u001b[39mself\u001b[39m, _async_req, bucket, org, body, precision, \u001b[39m*\u001b[39m\u001b[39m*\u001b[39mkwargs):\n\u001b[0;32m--> 509\u001b[0m     \u001b[39mreturn\u001b[39;00m \u001b[39mself\u001b[39;49m\u001b[39m.\u001b[39;49m_write_service\u001b[39m.\u001b[39;49mpost_write(org\u001b[39m=\u001b[39;49morg, bucket\u001b[39m=\u001b[39;49mbucket, body\u001b[39m=\u001b[39;49mbody, precision\u001b[39m=\u001b[39;49mprecision,\n\u001b[1;32m    510\u001b[0m                                           async_req\u001b[39m=\u001b[39;49m_async_req,\n\u001b[1;32m    511\u001b[0m                                           content_type\u001b[39m=\u001b[39;49m\u001b[39m\"\u001b[39;49m\u001b[39mtext/plain; charset=utf-8\u001b[39;49m\u001b[39m\"\u001b[39;49m,\n\u001b[1;32m    512\u001b[0m                                           \u001b[39m*\u001b[39;49m\u001b[39m*\u001b[39;49mkwargs)\n",
      "File \u001b[0;32m/opt/homebrew/anaconda3/envs/ag/lib/python3.10/site-packages/influxdb_client/service/write_service.py:60\u001b[0m, in \u001b[0;36mWriteService.post_write\u001b[0;34m(self, org, bucket, body, **kwargs)\u001b[0m\n\u001b[1;32m     58\u001b[0m     \u001b[39mreturn\u001b[39;00m \u001b[39mself\u001b[39m\u001b[39m.\u001b[39mpost_write_with_http_info(org, bucket, body, \u001b[39m*\u001b[39m\u001b[39m*\u001b[39mkwargs)  \u001b[39m# noqa: E501\u001b[39;00m\n\u001b[1;32m     59\u001b[0m \u001b[39melse\u001b[39;00m:\n\u001b[0;32m---> 60\u001b[0m     (data) \u001b[39m=\u001b[39m \u001b[39mself\u001b[39;49m\u001b[39m.\u001b[39;49mpost_write_with_http_info(org, bucket, body, \u001b[39m*\u001b[39;49m\u001b[39m*\u001b[39;49mkwargs)  \u001b[39m# noqa: E501\u001b[39;00m\n\u001b[1;32m     61\u001b[0m     \u001b[39mreturn\u001b[39;00m data\n",
      "File \u001b[0;32m/opt/homebrew/anaconda3/envs/ag/lib/python3.10/site-packages/influxdb_client/service/write_service.py:90\u001b[0m, in \u001b[0;36mWriteService.post_write_with_http_info\u001b[0;34m(self, org, bucket, body, **kwargs)\u001b[0m\n\u001b[1;32m     64\u001b[0m \u001b[39m\u001b[39m\u001b[39m\"\"\"Write data.\u001b[39;00m\n\u001b[1;32m     65\u001b[0m \n\u001b[1;32m     66\u001b[0m \u001b[39mWrites data to a bucket.  Use this endpoint to send data in [line protocol](https://docs.influxdata.com/influxdb/latest/reference/syntax/line-protocol/) format to InfluxDB.  #### InfluxDB Cloud  - Does the following when you send a write request:    1. Validates the request and queues the write.   2. If queued, responds with _success_ (HTTP `2xx` status code); _error_ otherwise.   3. Handles the delete asynchronously and reaches eventual consistency.    To ensure that InfluxDB Cloud handles writes and deletes in the order you request them,   wait for a success response (HTTP `2xx` status code) before you send the next request.    Because writes and deletes are asynchronous, your change might not yet be readable   when you receive the response.  #### InfluxDB OSS  - Validates the request and handles the write synchronously. - If all points were written successfully, responds with HTTP `2xx` status code;   otherwise, returns the first line that failed.  #### Required permissions  - `write-buckets` or `write-bucket BUCKET_ID`.   *`BUCKET_ID`* is the ID of the destination bucket.  #### Rate limits (with InfluxDB Cloud)  `write` rate limits apply. For more information, see [limits and adjustable quotas](https://docs.influxdata.com/influxdb/cloud/account-management/limits/).  #### Related guides  - [Write data with the InfluxDB API](https://docs.influxdata.com/influxdb/latest/write-data/developer-tools/api) - [Optimize writes to InfluxDB](https://docs.influxdata.com/influxdb/latest/write-data/best-practices/optimize-writes/) - [Troubleshoot issues writing data](https://docs.influxdata.com/influxdb/latest/write-data/troubleshoot/)\u001b[39;00m\n\u001b[0;32m   (...)\u001b[0m\n\u001b[1;32m     85\u001b[0m \u001b[39m         returns the request thread.\u001b[39;00m\n\u001b[1;32m     86\u001b[0m \u001b[39m\"\"\"\u001b[39;00m  \u001b[39m# noqa: E501\u001b[39;00m\n\u001b[1;32m     87\u001b[0m local_var_params, path_params, query_params, header_params, body_params \u001b[39m=\u001b[39m \\\n\u001b[1;32m     88\u001b[0m     \u001b[39mself\u001b[39m\u001b[39m.\u001b[39m_post_write_prepare(org, bucket, body, \u001b[39m*\u001b[39m\u001b[39m*\u001b[39mkwargs)  \u001b[39m# noqa: E501\u001b[39;00m\n\u001b[0;32m---> 90\u001b[0m \u001b[39mreturn\u001b[39;00m \u001b[39mself\u001b[39;49m\u001b[39m.\u001b[39;49mapi_client\u001b[39m.\u001b[39;49mcall_api(\n\u001b[1;32m     91\u001b[0m     \u001b[39m'\u001b[39;49m\u001b[39m/api/v2/write\u001b[39;49m\u001b[39m'\u001b[39;49m, \u001b[39m'\u001b[39;49m\u001b[39mPOST\u001b[39;49m\u001b[39m'\u001b[39;49m,\n\u001b[1;32m     92\u001b[0m     path_params,\n\u001b[1;32m     93\u001b[0m     query_params,\n\u001b[1;32m     94\u001b[0m     header_params,\n\u001b[1;32m     95\u001b[0m     body\u001b[39m=\u001b[39;49mbody_params,\n\u001b[1;32m     96\u001b[0m     post_params\u001b[39m=\u001b[39;49m[],\n\u001b[1;32m     97\u001b[0m     files\u001b[39m=\u001b[39;49m{},\n\u001b[1;32m     98\u001b[0m     response_type\u001b[39m=\u001b[39;49m\u001b[39mNone\u001b[39;49;00m,  \u001b[39m# noqa: E501\u001b[39;49;00m\n\u001b[1;32m     99\u001b[0m     auth_settings\u001b[39m=\u001b[39;49m[],\n\u001b[1;32m    100\u001b[0m     async_req\u001b[39m=\u001b[39;49mlocal_var_params\u001b[39m.\u001b[39;49mget(\u001b[39m'\u001b[39;49m\u001b[39masync_req\u001b[39;49m\u001b[39m'\u001b[39;49m),\n\u001b[1;32m    101\u001b[0m     _return_http_data_only\u001b[39m=\u001b[39;49mlocal_var_params\u001b[39m.\u001b[39;49mget(\u001b[39m'\u001b[39;49m\u001b[39m_return_http_data_only\u001b[39;49m\u001b[39m'\u001b[39;49m),  \u001b[39m# noqa: E501\u001b[39;49;00m\n\u001b[1;32m    102\u001b[0m     _preload_content\u001b[39m=\u001b[39;49mlocal_var_params\u001b[39m.\u001b[39;49mget(\u001b[39m'\u001b[39;49m\u001b[39m_preload_content\u001b[39;49m\u001b[39m'\u001b[39;49m, \u001b[39mTrue\u001b[39;49;00m),\n\u001b[1;32m    103\u001b[0m     _request_timeout\u001b[39m=\u001b[39;49mlocal_var_params\u001b[39m.\u001b[39;49mget(\u001b[39m'\u001b[39;49m\u001b[39m_request_timeout\u001b[39;49m\u001b[39m'\u001b[39;49m),\n\u001b[1;32m    104\u001b[0m     collection_formats\u001b[39m=\u001b[39;49m{},\n\u001b[1;32m    105\u001b[0m     urlopen_kw\u001b[39m=\u001b[39;49mkwargs\u001b[39m.\u001b[39;49mget(\u001b[39m'\u001b[39;49m\u001b[39murlopen_kw\u001b[39;49m\u001b[39m'\u001b[39;49m, \u001b[39mNone\u001b[39;49;00m))\n",
      "File \u001b[0;32m/opt/homebrew/anaconda3/envs/ag/lib/python3.10/site-packages/influxdb_client/_sync/api_client.py:343\u001b[0m, in \u001b[0;36mApiClient.call_api\u001b[0;34m(self, resource_path, method, path_params, query_params, header_params, body, post_params, files, response_type, auth_settings, async_req, _return_http_data_only, collection_formats, _preload_content, _request_timeout, urlopen_kw)\u001b[0m\n\u001b[1;32m    304\u001b[0m \u001b[39m\u001b[39m\u001b[39m\"\"\"Make the HTTP request (synchronous) and Return deserialized data.\u001b[39;00m\n\u001b[1;32m    305\u001b[0m \n\u001b[1;32m    306\u001b[0m \u001b[39mTo make an async_req request, set the async_req parameter.\u001b[39;00m\n\u001b[0;32m   (...)\u001b[0m\n\u001b[1;32m    340\u001b[0m \u001b[39m    then the method will return the response directly.\u001b[39;00m\n\u001b[1;32m    341\u001b[0m \u001b[39m\"\"\"\u001b[39;00m\n\u001b[1;32m    342\u001b[0m \u001b[39mif\u001b[39;00m \u001b[39mnot\u001b[39;00m async_req:\n\u001b[0;32m--> 343\u001b[0m     \u001b[39mreturn\u001b[39;00m \u001b[39mself\u001b[39;49m\u001b[39m.\u001b[39;49m__call_api(resource_path, method,\n\u001b[1;32m    344\u001b[0m                            path_params, query_params, header_params,\n\u001b[1;32m    345\u001b[0m                            body, post_params, files,\n\u001b[1;32m    346\u001b[0m                            response_type, auth_settings,\n\u001b[1;32m    347\u001b[0m                            _return_http_data_only, collection_formats,\n\u001b[1;32m    348\u001b[0m                            _preload_content, _request_timeout, urlopen_kw)\n\u001b[1;32m    349\u001b[0m \u001b[39melse\u001b[39;00m:\n\u001b[1;32m    350\u001b[0m     thread \u001b[39m=\u001b[39m \u001b[39mself\u001b[39m\u001b[39m.\u001b[39mpool\u001b[39m.\u001b[39mapply_async(\u001b[39mself\u001b[39m\u001b[39m.\u001b[39m__call_api, (resource_path,\n\u001b[1;32m    351\u001b[0m                                    method, path_params, query_params,\n\u001b[1;32m    352\u001b[0m                                    header_params, body,\n\u001b[0;32m   (...)\u001b[0m\n\u001b[1;32m    356\u001b[0m                                    collection_formats,\n\u001b[1;32m    357\u001b[0m                                    _preload_content, _request_timeout, urlopen_kw))\n",
      "File \u001b[0;32m/opt/homebrew/anaconda3/envs/ag/lib/python3.10/site-packages/influxdb_client/_sync/api_client.py:173\u001b[0m, in \u001b[0;36mApiClient.__call_api\u001b[0;34m(self, resource_path, method, path_params, query_params, header_params, body, post_params, files, response_type, auth_settings, _return_http_data_only, collection_formats, _preload_content, _request_timeout, urlopen_kw)\u001b[0m\n\u001b[1;32m    170\u001b[0m urlopen_kw \u001b[39m=\u001b[39m urlopen_kw \u001b[39mor\u001b[39;00m {}\n\u001b[1;32m    172\u001b[0m \u001b[39m# perform request and return response\u001b[39;00m\n\u001b[0;32m--> 173\u001b[0m response_data \u001b[39m=\u001b[39m \u001b[39mself\u001b[39;49m\u001b[39m.\u001b[39;49mrequest(\n\u001b[1;32m    174\u001b[0m     method, url, query_params\u001b[39m=\u001b[39;49mquery_params, headers\u001b[39m=\u001b[39;49mheader_params,\n\u001b[1;32m    175\u001b[0m     post_params\u001b[39m=\u001b[39;49mpost_params, body\u001b[39m=\u001b[39;49mbody,\n\u001b[1;32m    176\u001b[0m     _preload_content\u001b[39m=\u001b[39;49m_preload_content,\n\u001b[1;32m    177\u001b[0m     _request_timeout\u001b[39m=\u001b[39;49m_request_timeout, \u001b[39m*\u001b[39;49m\u001b[39m*\u001b[39;49murlopen_kw)\n\u001b[1;32m    179\u001b[0m \u001b[39mself\u001b[39m\u001b[39m.\u001b[39mlast_response \u001b[39m=\u001b[39m response_data\n\u001b[1;32m    181\u001b[0m return_data \u001b[39m=\u001b[39m response_data\n",
      "File \u001b[0;32m/opt/homebrew/anaconda3/envs/ag/lib/python3.10/site-packages/influxdb_client/_sync/api_client.py:388\u001b[0m, in \u001b[0;36mApiClient.request\u001b[0;34m(self, method, url, query_params, headers, post_params, body, _preload_content, _request_timeout, **urlopen_kw)\u001b[0m\n\u001b[1;32m    379\u001b[0m     \u001b[39mreturn\u001b[39;00m \u001b[39mself\u001b[39m\u001b[39m.\u001b[39mrest_client\u001b[39m.\u001b[39mOPTIONS(url,\n\u001b[1;32m    380\u001b[0m                                     query_params\u001b[39m=\u001b[39mquery_params,\n\u001b[1;32m    381\u001b[0m                                     headers\u001b[39m=\u001b[39mheaders,\n\u001b[0;32m   (...)\u001b[0m\n\u001b[1;32m    385\u001b[0m                                     body\u001b[39m=\u001b[39mbody,\n\u001b[1;32m    386\u001b[0m                                     \u001b[39m*\u001b[39m\u001b[39m*\u001b[39murlopen_kw)\n\u001b[1;32m    387\u001b[0m \u001b[39melif\u001b[39;00m method \u001b[39m==\u001b[39m \u001b[39m\"\u001b[39m\u001b[39mPOST\u001b[39m\u001b[39m\"\u001b[39m:\n\u001b[0;32m--> 388\u001b[0m     \u001b[39mreturn\u001b[39;00m \u001b[39mself\u001b[39;49m\u001b[39m.\u001b[39;49mrest_client\u001b[39m.\u001b[39;49mPOST(url,\n\u001b[1;32m    389\u001b[0m                                  query_params\u001b[39m=\u001b[39;49mquery_params,\n\u001b[1;32m    390\u001b[0m                                  headers\u001b[39m=\u001b[39;49mheaders,\n\u001b[1;32m    391\u001b[0m                                  post_params\u001b[39m=\u001b[39;49mpost_params,\n\u001b[1;32m    392\u001b[0m                                  _preload_content\u001b[39m=\u001b[39;49m_preload_content,\n\u001b[1;32m    393\u001b[0m                                  _request_timeout\u001b[39m=\u001b[39;49m_request_timeout,\n\u001b[1;32m    394\u001b[0m                                  body\u001b[39m=\u001b[39;49mbody,\n\u001b[1;32m    395\u001b[0m                                  \u001b[39m*\u001b[39;49m\u001b[39m*\u001b[39;49murlopen_kw)\n\u001b[1;32m    396\u001b[0m \u001b[39melif\u001b[39;00m method \u001b[39m==\u001b[39m \u001b[39m\"\u001b[39m\u001b[39mPUT\u001b[39m\u001b[39m\"\u001b[39m:\n\u001b[1;32m    397\u001b[0m     \u001b[39mreturn\u001b[39;00m \u001b[39mself\u001b[39m\u001b[39m.\u001b[39mrest_client\u001b[39m.\u001b[39mPUT(url,\n\u001b[1;32m    398\u001b[0m                                 query_params\u001b[39m=\u001b[39mquery_params,\n\u001b[1;32m    399\u001b[0m                                 headers\u001b[39m=\u001b[39mheaders,\n\u001b[0;32m   (...)\u001b[0m\n\u001b[1;32m    403\u001b[0m                                 body\u001b[39m=\u001b[39mbody,\n\u001b[1;32m    404\u001b[0m                                 \u001b[39m*\u001b[39m\u001b[39m*\u001b[39murlopen_kw)\n",
      "File \u001b[0;32m/opt/homebrew/anaconda3/envs/ag/lib/python3.10/site-packages/influxdb_client/_sync/rest.py:311\u001b[0m, in \u001b[0;36mRESTClientObject.POST\u001b[0;34m(self, url, headers, query_params, post_params, body, _preload_content, _request_timeout, **urlopen_kw)\u001b[0m\n\u001b[1;32m    308\u001b[0m \u001b[39mdef\u001b[39;00m \u001b[39mPOST\u001b[39m(\u001b[39mself\u001b[39m, url, headers\u001b[39m=\u001b[39m\u001b[39mNone\u001b[39;00m, query_params\u001b[39m=\u001b[39m\u001b[39mNone\u001b[39;00m, post_params\u001b[39m=\u001b[39m\u001b[39mNone\u001b[39;00m,\n\u001b[1;32m    309\u001b[0m          body\u001b[39m=\u001b[39m\u001b[39mNone\u001b[39;00m, _preload_content\u001b[39m=\u001b[39m\u001b[39mTrue\u001b[39;00m, _request_timeout\u001b[39m=\u001b[39m\u001b[39mNone\u001b[39;00m, \u001b[39m*\u001b[39m\u001b[39m*\u001b[39murlopen_kw):\n\u001b[1;32m    310\u001b[0m \u001b[39m    \u001b[39m\u001b[39m\"\"\"Perform POST HTTP request.\"\"\"\u001b[39;00m\n\u001b[0;32m--> 311\u001b[0m     \u001b[39mreturn\u001b[39;00m \u001b[39mself\u001b[39;49m\u001b[39m.\u001b[39;49mrequest(\u001b[39m\"\u001b[39;49m\u001b[39mPOST\u001b[39;49m\u001b[39m\"\u001b[39;49m, url,\n\u001b[1;32m    312\u001b[0m                         headers\u001b[39m=\u001b[39;49mheaders,\n\u001b[1;32m    313\u001b[0m                         query_params\u001b[39m=\u001b[39;49mquery_params,\n\u001b[1;32m    314\u001b[0m                         post_params\u001b[39m=\u001b[39;49mpost_params,\n\u001b[1;32m    315\u001b[0m                         _preload_content\u001b[39m=\u001b[39;49m_preload_content,\n\u001b[1;32m    316\u001b[0m                         _request_timeout\u001b[39m=\u001b[39;49m_request_timeout,\n\u001b[1;32m    317\u001b[0m                         body\u001b[39m=\u001b[39;49mbody,\n\u001b[1;32m    318\u001b[0m                         \u001b[39m*\u001b[39;49m\u001b[39m*\u001b[39;49murlopen_kw)\n",
      "File \u001b[0;32m/opt/homebrew/anaconda3/envs/ag/lib/python3.10/site-packages/influxdb_client/_sync/rest.py:220\u001b[0m, in \u001b[0;36mRESTClientObject.request\u001b[0;34m(self, method, url, query_params, headers, body, post_params, _preload_content, _request_timeout, **urlopen_kw)\u001b[0m\n\u001b[1;32m    218\u001b[0m \u001b[39melif\u001b[39;00m \u001b[39misinstance\u001b[39m(body, \u001b[39mstr\u001b[39m) \u001b[39mor\u001b[39;00m \u001b[39misinstance\u001b[39m(body, \u001b[39mbytes\u001b[39m):\n\u001b[1;32m    219\u001b[0m     request_body \u001b[39m=\u001b[39m body\n\u001b[0;32m--> 220\u001b[0m     r \u001b[39m=\u001b[39m \u001b[39mself\u001b[39;49m\u001b[39m.\u001b[39;49mpool_manager\u001b[39m.\u001b[39;49mrequest(\n\u001b[1;32m    221\u001b[0m         method, url,\n\u001b[1;32m    222\u001b[0m         body\u001b[39m=\u001b[39;49mrequest_body,\n\u001b[1;32m    223\u001b[0m         preload_content\u001b[39m=\u001b[39;49m_preload_content,\n\u001b[1;32m    224\u001b[0m         timeout\u001b[39m=\u001b[39;49mtimeout,\n\u001b[1;32m    225\u001b[0m         headers\u001b[39m=\u001b[39;49mheaders,\n\u001b[1;32m    226\u001b[0m         \u001b[39m*\u001b[39;49m\u001b[39m*\u001b[39;49murlopen_kw)\n\u001b[1;32m    227\u001b[0m \u001b[39melse\u001b[39;00m:\n\u001b[1;32m    228\u001b[0m     \u001b[39m# Cannot generate the request from given parameters\u001b[39;00m\n\u001b[1;32m    229\u001b[0m     msg \u001b[39m=\u001b[39m \u001b[39m\"\"\"\u001b[39m\u001b[39mCannot prepare a request message for provided\u001b[39m\n\u001b[1;32m    230\u001b[0m \u001b[39m             arguments. Please check that your arguments match\u001b[39m\n\u001b[1;32m    231\u001b[0m \u001b[39m             declared content type.\u001b[39m\u001b[39m\"\"\"\u001b[39m\n",
      "File \u001b[0;32m/opt/homebrew/anaconda3/envs/ag/lib/python3.10/site-packages/urllib3/_request_methods.py:118\u001b[0m, in \u001b[0;36mRequestMethods.request\u001b[0;34m(self, method, url, body, fields, headers, json, **urlopen_kw)\u001b[0m\n\u001b[1;32m    110\u001b[0m     \u001b[39mreturn\u001b[39;00m \u001b[39mself\u001b[39m\u001b[39m.\u001b[39mrequest_encode_url(\n\u001b[1;32m    111\u001b[0m         method,\n\u001b[1;32m    112\u001b[0m         url,\n\u001b[0;32m   (...)\u001b[0m\n\u001b[1;32m    115\u001b[0m         \u001b[39m*\u001b[39m\u001b[39m*\u001b[39murlopen_kw,\n\u001b[1;32m    116\u001b[0m     )\n\u001b[1;32m    117\u001b[0m \u001b[39melse\u001b[39;00m:\n\u001b[0;32m--> 118\u001b[0m     \u001b[39mreturn\u001b[39;00m \u001b[39mself\u001b[39;49m\u001b[39m.\u001b[39;49mrequest_encode_body(\n\u001b[1;32m    119\u001b[0m         method, url, fields\u001b[39m=\u001b[39;49mfields, headers\u001b[39m=\u001b[39;49mheaders, \u001b[39m*\u001b[39;49m\u001b[39m*\u001b[39;49murlopen_kw\n\u001b[1;32m    120\u001b[0m     )\n",
      "File \u001b[0;32m/opt/homebrew/anaconda3/envs/ag/lib/python3.10/site-packages/urllib3/_request_methods.py:217\u001b[0m, in \u001b[0;36mRequestMethods.request_encode_body\u001b[0;34m(self, method, url, fields, headers, encode_multipart, multipart_boundary, **urlopen_kw)\u001b[0m\n\u001b[1;32m    213\u001b[0m     extra_kw[\u001b[39m\"\u001b[39m\u001b[39mheaders\u001b[39m\u001b[39m\"\u001b[39m]\u001b[39m.\u001b[39msetdefault(\u001b[39m\"\u001b[39m\u001b[39mContent-Type\u001b[39m\u001b[39m\"\u001b[39m, content_type)\n\u001b[1;32m    215\u001b[0m extra_kw\u001b[39m.\u001b[39mupdate(urlopen_kw)\n\u001b[0;32m--> 217\u001b[0m \u001b[39mreturn\u001b[39;00m \u001b[39mself\u001b[39;49m\u001b[39m.\u001b[39;49murlopen(method, url, \u001b[39m*\u001b[39;49m\u001b[39m*\u001b[39;49mextra_kw)\n",
      "File \u001b[0;32m/opt/homebrew/anaconda3/envs/ag/lib/python3.10/site-packages/urllib3/poolmanager.py:443\u001b[0m, in \u001b[0;36mPoolManager.urlopen\u001b[0;34m(self, method, url, redirect, **kw)\u001b[0m\n\u001b[1;32m    441\u001b[0m     response \u001b[39m=\u001b[39m conn\u001b[39m.\u001b[39murlopen(method, url, \u001b[39m*\u001b[39m\u001b[39m*\u001b[39mkw)\n\u001b[1;32m    442\u001b[0m \u001b[39melse\u001b[39;00m:\n\u001b[0;32m--> 443\u001b[0m     response \u001b[39m=\u001b[39m conn\u001b[39m.\u001b[39;49murlopen(method, u\u001b[39m.\u001b[39;49mrequest_uri, \u001b[39m*\u001b[39;49m\u001b[39m*\u001b[39;49mkw)\n\u001b[1;32m    445\u001b[0m redirect_location \u001b[39m=\u001b[39m redirect \u001b[39mand\u001b[39;00m response\u001b[39m.\u001b[39mget_redirect_location()\n\u001b[1;32m    446\u001b[0m \u001b[39mif\u001b[39;00m \u001b[39mnot\u001b[39;00m redirect_location:\n",
      "File \u001b[0;32m/opt/homebrew/anaconda3/envs/ag/lib/python3.10/site-packages/urllib3/connectionpool.py:791\u001b[0m, in \u001b[0;36mHTTPConnectionPool.urlopen\u001b[0;34m(self, method, url, body, headers, retries, redirect, assert_same_host, timeout, pool_timeout, release_conn, chunked, body_pos, preload_content, decode_content, **response_kw)\u001b[0m\n\u001b[1;32m    788\u001b[0m response_conn \u001b[39m=\u001b[39m conn \u001b[39mif\u001b[39;00m \u001b[39mnot\u001b[39;00m release_conn \u001b[39melse\u001b[39;00m \u001b[39mNone\u001b[39;00m\n\u001b[1;32m    790\u001b[0m \u001b[39m# Make the request on the HTTPConnection object\u001b[39;00m\n\u001b[0;32m--> 791\u001b[0m response \u001b[39m=\u001b[39m \u001b[39mself\u001b[39;49m\u001b[39m.\u001b[39;49m_make_request(\n\u001b[1;32m    792\u001b[0m     conn,\n\u001b[1;32m    793\u001b[0m     method,\n\u001b[1;32m    794\u001b[0m     url,\n\u001b[1;32m    795\u001b[0m     timeout\u001b[39m=\u001b[39;49mtimeout_obj,\n\u001b[1;32m    796\u001b[0m     body\u001b[39m=\u001b[39;49mbody,\n\u001b[1;32m    797\u001b[0m     headers\u001b[39m=\u001b[39;49mheaders,\n\u001b[1;32m    798\u001b[0m     chunked\u001b[39m=\u001b[39;49mchunked,\n\u001b[1;32m    799\u001b[0m     retries\u001b[39m=\u001b[39;49mretries,\n\u001b[1;32m    800\u001b[0m     response_conn\u001b[39m=\u001b[39;49mresponse_conn,\n\u001b[1;32m    801\u001b[0m     preload_content\u001b[39m=\u001b[39;49mpreload_content,\n\u001b[1;32m    802\u001b[0m     decode_content\u001b[39m=\u001b[39;49mdecode_content,\n\u001b[1;32m    803\u001b[0m     \u001b[39m*\u001b[39;49m\u001b[39m*\u001b[39;49mresponse_kw,\n\u001b[1;32m    804\u001b[0m )\n\u001b[1;32m    806\u001b[0m \u001b[39m# Everything went great!\u001b[39;00m\n\u001b[1;32m    807\u001b[0m clean_exit \u001b[39m=\u001b[39m \u001b[39mTrue\u001b[39;00m\n",
      "File \u001b[0;32m/opt/homebrew/anaconda3/envs/ag/lib/python3.10/site-packages/urllib3/connectionpool.py:537\u001b[0m, in \u001b[0;36mHTTPConnectionPool._make_request\u001b[0;34m(self, conn, method, url, body, headers, retries, timeout, chunked, response_conn, preload_content, decode_content, enforce_content_length)\u001b[0m\n\u001b[1;32m    535\u001b[0m \u001b[39m# Receive the response from the server\u001b[39;00m\n\u001b[1;32m    536\u001b[0m \u001b[39mtry\u001b[39;00m:\n\u001b[0;32m--> 537\u001b[0m     response \u001b[39m=\u001b[39m conn\u001b[39m.\u001b[39;49mgetresponse()\n\u001b[1;32m    538\u001b[0m \u001b[39mexcept\u001b[39;00m (BaseSSLError, \u001b[39mOSError\u001b[39;00m) \u001b[39mas\u001b[39;00m e:\n\u001b[1;32m    539\u001b[0m     \u001b[39mself\u001b[39m\u001b[39m.\u001b[39m_raise_timeout(err\u001b[39m=\u001b[39me, url\u001b[39m=\u001b[39murl, timeout_value\u001b[39m=\u001b[39mread_timeout)\n",
      "File \u001b[0;32m/opt/homebrew/anaconda3/envs/ag/lib/python3.10/site-packages/urllib3/connection.py:461\u001b[0m, in \u001b[0;36mHTTPConnection.getresponse\u001b[0;34m(self)\u001b[0m\n\u001b[1;32m    458\u001b[0m \u001b[39mfrom\u001b[39;00m \u001b[39m.\u001b[39;00m\u001b[39mresponse\u001b[39;00m \u001b[39mimport\u001b[39;00m HTTPResponse\n\u001b[1;32m    460\u001b[0m \u001b[39m# Get the response from http.client.HTTPConnection\u001b[39;00m\n\u001b[0;32m--> 461\u001b[0m httplib_response \u001b[39m=\u001b[39m \u001b[39msuper\u001b[39;49m()\u001b[39m.\u001b[39;49mgetresponse()\n\u001b[1;32m    463\u001b[0m \u001b[39mtry\u001b[39;00m:\n\u001b[1;32m    464\u001b[0m     assert_header_parsing(httplib_response\u001b[39m.\u001b[39mmsg)\n",
      "File \u001b[0;32m/opt/homebrew/anaconda3/envs/ag/lib/python3.10/http/client.py:1375\u001b[0m, in \u001b[0;36mHTTPConnection.getresponse\u001b[0;34m(self)\u001b[0m\n\u001b[1;32m   1373\u001b[0m \u001b[39mtry\u001b[39;00m:\n\u001b[1;32m   1374\u001b[0m     \u001b[39mtry\u001b[39;00m:\n\u001b[0;32m-> 1375\u001b[0m         response\u001b[39m.\u001b[39;49mbegin()\n\u001b[1;32m   1376\u001b[0m     \u001b[39mexcept\u001b[39;00m \u001b[39mConnectionError\u001b[39;00m:\n\u001b[1;32m   1377\u001b[0m         \u001b[39mself\u001b[39m\u001b[39m.\u001b[39mclose()\n",
      "File \u001b[0;32m/opt/homebrew/anaconda3/envs/ag/lib/python3.10/http/client.py:318\u001b[0m, in \u001b[0;36mHTTPResponse.begin\u001b[0;34m(self)\u001b[0m\n\u001b[1;32m    316\u001b[0m \u001b[39m# read until we get a non-100 response\u001b[39;00m\n\u001b[1;32m    317\u001b[0m \u001b[39mwhile\u001b[39;00m \u001b[39mTrue\u001b[39;00m:\n\u001b[0;32m--> 318\u001b[0m     version, status, reason \u001b[39m=\u001b[39m \u001b[39mself\u001b[39;49m\u001b[39m.\u001b[39;49m_read_status()\n\u001b[1;32m    319\u001b[0m     \u001b[39mif\u001b[39;00m status \u001b[39m!=\u001b[39m CONTINUE:\n\u001b[1;32m    320\u001b[0m         \u001b[39mbreak\u001b[39;00m\n",
      "File \u001b[0;32m/opt/homebrew/anaconda3/envs/ag/lib/python3.10/http/client.py:279\u001b[0m, in \u001b[0;36mHTTPResponse._read_status\u001b[0;34m(self)\u001b[0m\n\u001b[1;32m    278\u001b[0m \u001b[39mdef\u001b[39;00m \u001b[39m_read_status\u001b[39m(\u001b[39mself\u001b[39m):\n\u001b[0;32m--> 279\u001b[0m     line \u001b[39m=\u001b[39m \u001b[39mstr\u001b[39m(\u001b[39mself\u001b[39;49m\u001b[39m.\u001b[39;49mfp\u001b[39m.\u001b[39;49mreadline(_MAXLINE \u001b[39m+\u001b[39;49m \u001b[39m1\u001b[39;49m), \u001b[39m\"\u001b[39m\u001b[39miso-8859-1\u001b[39m\u001b[39m\"\u001b[39m)\n\u001b[1;32m    280\u001b[0m     \u001b[39mif\u001b[39;00m \u001b[39mlen\u001b[39m(line) \u001b[39m>\u001b[39m _MAXLINE:\n\u001b[1;32m    281\u001b[0m         \u001b[39mraise\u001b[39;00m LineTooLong(\u001b[39m\"\u001b[39m\u001b[39mstatus line\u001b[39m\u001b[39m\"\u001b[39m)\n",
      "File \u001b[0;32m/opt/homebrew/anaconda3/envs/ag/lib/python3.10/socket.py:705\u001b[0m, in \u001b[0;36mSocketIO.readinto\u001b[0;34m(self, b)\u001b[0m\n\u001b[1;32m    703\u001b[0m \u001b[39mwhile\u001b[39;00m \u001b[39mTrue\u001b[39;00m:\n\u001b[1;32m    704\u001b[0m     \u001b[39mtry\u001b[39;00m:\n\u001b[0;32m--> 705\u001b[0m         \u001b[39mreturn\u001b[39;00m \u001b[39mself\u001b[39;49m\u001b[39m.\u001b[39;49m_sock\u001b[39m.\u001b[39;49mrecv_into(b)\n\u001b[1;32m    706\u001b[0m     \u001b[39mexcept\u001b[39;00m timeout:\n\u001b[1;32m    707\u001b[0m         \u001b[39mself\u001b[39m\u001b[39m.\u001b[39m_timeout_occurred \u001b[39m=\u001b[39m \u001b[39mTrue\u001b[39;00m\n",
      "\u001b[0;31mKeyboardInterrupt\u001b[0m: "
     ]
    }
   ],
   "source": [
    "#  only keep 100 rows of df\n",
    "\n",
    "# write all locations to bucket \"test\"\n",
    "bucket = \"test\"\n",
    "\n",
    "for index, row in df.iterrows():\n",
    "  point = (\n",
    "    Point(\"measurement2\")\n",
    "    .tag(\"location\",row[\"location\"])\n",
    "    .field(\"consumption\", row[\"consumption\"])\n",
    "    .field(\"temperature\", row[\"temperature\"])\n",
    "    .time(row[\"time\"], WritePrecision.NS)\n",
    "  )\n",
    "\n",
    "  write_api.write(bucket=bucket, org=\"admin\", record=point)"
   ]
  },
  {
   "cell_type": "code",
   "execution_count": 30,
   "metadata": {},
   "outputs": [
    {
     "name": "stdout",
     "output_type": "stream",
     "text": [
      "FluxRecord() table: 0, {'result': 'count', 'table': 0, '_start': datetime.datetime(2010, 1, 1, 0, 0, tzinfo=tzutc()), '_stop': datetime.datetime(2030, 1, 1, 0, 0, tzinfo=tzutc()), '_value': 100, '_field': 'consumption', '_measurement': 'measurement2', 'tagname1': 'tagvalue1'}\n",
      "FluxRecord() table: 1, {'result': 'count', 'table': 1, '_start': datetime.datetime(2010, 1, 1, 0, 0, tzinfo=tzutc()), '_stop': datetime.datetime(2030, 1, 1, 0, 0, tzinfo=tzutc()), '_value': 100, '_field': 'temperature', '_measurement': 'measurement2', 'tagname1': 'tagvalue1'}\n"
     ]
    }
   ],
   "source": [
    "query_api = write_client.query_api()\n",
    "\n",
    "# query = \"\"\"from(bucket: \"admin\")\n",
    "#  |> range(start: -10m)\n",
    "#  |> filter(fn: (r) => r._measurement == \"measurement1\")\"\"\"\n",
    "\n",
    "query = \"\"\"from(bucket: \"admin\") |> range(start: 2010-01-01T00:00:00Z, stop: 2030-01-01T00:00:00Z) |> filter(fn: (r) => r[\"_measurement\"] == \"measurement2\") |> count() |> yield(name: \"count\")\"\"\"\n",
    "tables = query_api.query(query, org=\"admin\")\n",
    "\n",
    "for table in tables:\n",
    "  for record in table.records:\n",
    "    print(record)\n"
   ]
  },
  {
   "cell_type": "code",
   "execution_count": 10,
   "metadata": {},
   "outputs": [
    {
     "name": "stdout",
     "output_type": "stream",
     "text": [
      "FluxRecord() table: 0, {'result': '_result', 'table': 0, '_start': datetime.datetime(2023, 10, 23, 21, 56, 51, 221571, tzinfo=tzutc()), '_stop': datetime.datetime(2023, 10, 23, 22, 6, 51, 221571, tzinfo=tzutc()), '_time': datetime.datetime(2023, 10, 23, 22, 6, 16, 98448, tzinfo=tzutc()), '_value': 0, '_field': 'field1', '_measurement': 'measurement1', 'tagname1': 'tagvalue1'}\n",
      "FluxRecord() table: 0, {'result': '_result', 'table': 0, '_start': datetime.datetime(2023, 10, 23, 21, 56, 51, 221571, tzinfo=tzutc()), '_stop': datetime.datetime(2023, 10, 23, 22, 6, 51, 221571, tzinfo=tzutc()), '_time': datetime.datetime(2023, 10, 23, 22, 6, 17, 137497, tzinfo=tzutc()), '_value': 1, '_field': 'field1', '_measurement': 'measurement1', 'tagname1': 'tagvalue1'}\n",
      "FluxRecord() table: 0, {'result': '_result', 'table': 0, '_start': datetime.datetime(2023, 10, 23, 21, 56, 51, 221571, tzinfo=tzutc()), '_stop': datetime.datetime(2023, 10, 23, 22, 6, 51, 221571, tzinfo=tzutc()), '_time': datetime.datetime(2023, 10, 23, 22, 6, 18, 146221, tzinfo=tzutc()), '_value': 2, '_field': 'field1', '_measurement': 'measurement1', 'tagname1': 'tagvalue1'}\n",
      "FluxRecord() table: 0, {'result': '_result', 'table': 0, '_start': datetime.datetime(2023, 10, 23, 21, 56, 51, 221571, tzinfo=tzutc()), '_stop': datetime.datetime(2023, 10, 23, 22, 6, 51, 221571, tzinfo=tzutc()), '_time': datetime.datetime(2023, 10, 23, 22, 6, 19, 154390, tzinfo=tzutc()), '_value': 3, '_field': 'field1', '_measurement': 'measurement1', 'tagname1': 'tagvalue1'}\n",
      "FluxRecord() table: 0, {'result': '_result', 'table': 0, '_start': datetime.datetime(2023, 10, 23, 21, 56, 51, 221571, tzinfo=tzutc()), '_stop': datetime.datetime(2023, 10, 23, 22, 6, 51, 221571, tzinfo=tzutc()), '_time': datetime.datetime(2023, 10, 23, 22, 6, 20, 165880, tzinfo=tzutc()), '_value': 4, '_field': 'field1', '_measurement': 'measurement1', 'tagname1': 'tagvalue1'}\n"
     ]
    }
   ],
   "source": [
    "query_api = write_client.query_api()\n",
    "\n",
    "query = \"\"\"from(bucket: \"admin\")\n",
    " |> range(start: -10m)\n",
    " |> filter(fn: (r) => r._measurement == \"measurement1\")\"\"\"\n",
    "tables = query_api.query(query, org=\"admin\")\n",
    "\n",
    "for table in tables:\n",
    "  for record in table.records:\n",
    "    print(record)\n"
   ]
  },
  {
   "cell_type": "code",
   "execution_count": 11,
   "metadata": {},
   "outputs": [
    {
     "name": "stdout",
     "output_type": "stream",
     "text": [
      "FluxRecord() table: 0, {'result': '_result', 'table': 0, '_start': datetime.datetime(2023, 10, 23, 21, 57, 19, 410666, tzinfo=tzutc()), '_stop': datetime.datetime(2023, 10, 23, 22, 7, 19, 410666, tzinfo=tzutc()), '_value': 2.0, '_field': 'field1', '_measurement': 'measurement1', 'tagname1': 'tagvalue1'}\n"
     ]
    }
   ],
   "source": [
    "query_api = write_client.query_api()\n",
    "\n",
    "query = \"\"\"from(bucket: \"admin\")\n",
    "  |> range(start: -10m)\n",
    "  |> filter(fn: (r) => r._measurement == \"measurement1\")\n",
    "  |> mean()\"\"\"\n",
    "tables = query_api.query(query, org=\"admin\")\n",
    "\n",
    "for table in tables:\n",
    "    for record in table.records:\n",
    "        print(record)"
   ]
  }
 ],
 "metadata": {
  "kernelspec": {
   "display_name": "ag",
   "language": "python",
   "name": "python3"
  },
  "language_info": {
   "codemirror_mode": {
    "name": "ipython",
    "version": 3
   },
   "file_extension": ".py",
   "mimetype": "text/x-python",
   "name": "python",
   "nbconvert_exporter": "python",
   "pygments_lexer": "ipython3",
   "version": "3.10.12"
  }
 },
 "nbformat": 4,
 "nbformat_minor": 2
}
