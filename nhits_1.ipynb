{
 "cells": [
  {
   "cell_type": "code",
   "execution_count": 1,
   "metadata": {},
   "outputs": [],
   "source": [
    "import pandas as pd\n",
    "import numpy as np\n",
    "import matplotlib.pyplot as plt"
   ]
  },
  {
   "cell_type": "code",
   "execution_count": 9,
   "metadata": {},
   "outputs": [],
   "source": [
    "# start from csv\n",
    "X_train = pd.read_csv('X_train.csv', index_col=0)\n",
    "X_test = pd.read_csv('X_test.csv', index_col=0)\n",
    "\n",
    "# convert index to datetime\n",
    "X_train[\"ds\"] = pd.to_datetime(X_train.index).astype('datetime64[ns]')\n",
    "X_test[\"ds\"] = pd.to_datetime(X_test.index).astype('datetime64[ns]')\n",
    "\n",
    "# transform location_A, location_B, location_C onehots to location column, and drop location_A, location_B, location_C\n",
    "X_train[\"location\"] = X_train.apply(lambda x: \"A\" if x[\"location_A\"] == 1 else (\"B\" if x[\"location_B\"] == 1 else \"C\"), axis=1)\n",
    "X_test[\"location\"] = X_test.apply(lambda x: \"A\" if x[\"location_A\"] == 1 else (\"B\" if x[\"location_B\"] == 1 else \"C\"), axis=1)\n",
    "X_train = X_train.drop([\"location_A\", \"location_B\", \"location_C\"], axis=1)\n",
    "X_test = X_test.drop([\"location_A\", \"location_B\", \"location_C\"], axis=1)"
   ]
  },
  {
   "cell_type": "code",
   "execution_count": 12,
   "metadata": {},
   "outputs": [
    {
     "data": {
      "text/plain": [
       "['dew_or_rime:idx',\n",
       " 'snow_density:kgm3',\n",
       " 'is_day:idx',\n",
       " 'is_in_shadow:idx',\n",
       " 'relative_humidity_1000hPa:p',\n",
       " 'dew_point_2m:K',\n",
       " 'quarter_of_year',\n",
       " 'sfc_pressure:hPa',\n",
       " 'clear_sky_energy_1h:J',\n",
       " 'cloud_base_agl:m',\n",
       " 'direct_rad_1h:J',\n",
       " 'is_weekend',\n",
       " 'day_of_week',\n",
       " 'fresh_snow_1h:cm',\n",
       " 'wind_speed_v_10m:ms',\n",
       " 'fresh_snow_3h:cm',\n",
       " 'elevation:m',\n",
       " 'visibility:m',\n",
       " 'wind_speed_w_1000hPa:ms',\n",
       " 'msl_pressure:hPa',\n",
       " 'month_of_year',\n",
       " 'effective_cloud_cover:p',\n",
       " 'pressure_100m:hPa',\n",
       " 'diffuse_rad:W',\n",
       " 'sun_elevation:d',\n",
       " 'wind_speed_10m:ms',\n",
       " 'direct_rad:W',\n",
       " 'diffuse_rad_1h:J',\n",
       " 'fresh_snow_24h:cm',\n",
       " 'ceiling_height_agl:m',\n",
       " 'pressure_50m:hPa',\n",
       " 't_1000hPa:K',\n",
       " 'fresh_snow_6h:cm',\n",
       " 'hour_of_day',\n",
       " 'super_cooled_liquid_water:kgm2',\n",
       " 'wind_speed_u_10m:ms',\n",
       " 'clear_sky_rad:W',\n",
       " 'snow_drift:idx',\n",
       " 'precip_5min:mm',\n",
       " 'air_density_2m:kgm3',\n",
       " 'absolute_humidity_2m:gm3',\n",
       " 'prob_rime:p',\n",
       " 'total_cloud_cover:p',\n",
       " 'time_diff',\n",
       " 'fresh_snow_12h:cm',\n",
       " 'snow_melt_10min:mm',\n",
       " 'rain_water:kgm2',\n",
       " 'precip_type_5min:idx',\n",
       " 'snow_water:kgm2',\n",
       " 'sun_azimuth:d',\n",
       " 'snow_depth:cm']"
      ]
     },
     "execution_count": 12,
     "metadata": {},
     "output_type": "execute_result"
    }
   ],
   "source": [
    "FEATURES = set(X_train.columns.tolist())\n",
    "to_remove = [\"ds\", \"y\", \"location\"]\n",
    "FEATURES = list(FEATURES - set(to_remove))\n",
    "FEATURES\n"
   ]
  },
  {
   "cell_type": "code",
   "execution_count": 8,
   "metadata": {},
   "outputs": [],
   "source": [
    "from pytorch_forecasting import TimeSeriesDataSet\n",
    "from pytorch_forecasting.models.nhits import NHiTS"
   ]
  },
  {
   "cell_type": "code",
   "execution_count": null,
   "metadata": {},
   "outputs": [],
   "source": [
    "# define dataset\n",
    "max_encoder_length = 24\n",
    "max_prediction_length = 12\n",
    "training_cutoff = X_train.index.max() - pd.DateOffset(months=1)\n",
    "validation_cutoff = training_cutoff - pd.DateOffset(months=1)\n",
    "\n",
    "training = TimeSeriesDataSet(\n",
    "    data=X_train,\n",
    "    time_idx=\"ds\",\n",
    "    target=\"y\",\n",
    "    group_ids=[\"location\"],\n",
    "    time_varying_known_reals=FEATURES,\n",
    "    "
   ]
  }
 ],
 "metadata": {
  "kernelspec": {
   "display_name": "venv",
   "language": "python",
   "name": "python3"
  },
  "language_info": {
   "codemirror_mode": {
    "name": "ipython",
    "version": 3
   },
   "file_extension": ".py",
   "mimetype": "text/x-python",
   "name": "python",
   "nbconvert_exporter": "python",
   "pygments_lexer": "ipython3",
   "version": "3.9.13"
  },
  "orig_nbformat": 4
 },
 "nbformat": 4,
 "nbformat_minor": 2
}
